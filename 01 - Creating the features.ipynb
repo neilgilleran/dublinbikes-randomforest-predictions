{
 "cells": [
  {
   "cell_type": "code",
   "execution_count": 1,
   "metadata": {},
   "outputs": [],
   "source": [
    "import pandas as pd\n",
    "import numpy as np"
   ]
  },
  {
   "cell_type": "code",
   "execution_count": 2,
   "metadata": {},
   "outputs": [
    {
     "name": "stdout",
     "output_type": "stream",
     "text": [
      "01 - Creating the features.ipynb\r\n",
      "02 - EDA.ipynb\r\n",
      "03 - Modelling - ExtraTreesRegressor.ipynb\r\n",
      "03 - Modelling - LinearRegression (hasn't worked yet, autoregression).ipynb\r\n",
      "03 - Modelling - LinearRegression.ipynb\r\n",
      "03 - Modelling - RandomForestRegressor.ipynb\r\n",
      "03 - Modelling - SVM-Copy1.ipynb\r\n",
      "03 - Modelling - SVM.ipynb\r\n",
      "03 - Modelling - lot of models.ipynb\r\n",
      "176-01-bikelocations.csv\r\n",
      "176-01-ind_dublinalt.csv\r\n",
      "176-01-ind_dublinalt.csv.gz\r\n",
      "176-01-sum_dublinalt.csv\r\n",
      "2008 machine learning start-Copy1.ipynb\r\n",
      "2008 machine learning start-Copy2.ipynb\r\n",
      "2008 machine learning start.ipynb\r\n",
      "2017-06-25.csv\r\n",
      "2017-06.csv\r\n",
      "2017-06.ipynb\r\n",
      "2017-06_features.csv\r\n",
      "2017-06_features_complete.csv\r\n",
      "2018-06-20.csv\r\n",
      "2018-06-20.ipynb\r\n",
      "2018-06-20_features.csv\r\n",
      "2018-06-20_features2_test.csv\r\n",
      "2018-06-20_features_test.csv\r\n",
      "2018-Copy1.ipynb\r\n",
      "2018.ipynb\r\n",
      "2018_features.csv\r\n",
      "2018_portobelloroad.csv\r\n",
      "PORTOBELLO ROAD.csv\r\n",
      "Untitled.ipynb\r\n",
      "all-station-features-march_on.ipynb\r\n",
      "all-station-features-march_on.py\r\n",
      "all-station-features.ipynb\r\n",
      "b4bedtest.csv\r\n",
      "bikes_2018.csv\r\n",
      "cp test\r\n",
      "dsddd.csv\r\n",
      "f_features.csv\r\n",
      "features2.csv\r\n",
      "features_ready.csv\r\n",
      "fulldata-spoken.ipynb\r\n",
      "knn for neil.ipynb\r\n",
      "machinestarts-2years_all stations.ipynb\r\n",
      "machinestarts.ipynb\r\n",
      "machinestarts2.ipynb\r\n",
      "notebook.tex\r\n",
      "pboh-features.ipynb\r\n",
      "pboh.ipynb\r\n",
      "pboh_test 2.csv\r\n",
      "pboh_test.csv\r\n",
      "scattered.ipynb\r\n",
      "testthemodel.csv\r\n",
      "time_series_features.csv\r\n",
      "validation.csv\r\n",
      "well.csv\r\n",
      "xxx.csv\r\n"
     ]
    }
   ],
   "source": [
    "ls"
   ]
  },
  {
   "cell_type": "code",
   "execution_count": 2,
   "metadata": {},
   "outputs": [],
   "source": [
    "df = pd.read_csv('bikes_2018.csv')"
   ]
  },
  {
   "cell_type": "code",
   "execution_count": 3,
   "metadata": {},
   "outputs": [],
   "source": [
    "df.rename(columns={'tfl_id': 'station_id'}, inplace=True)"
   ]
  },
  {
   "cell_type": "code",
   "execution_count": 4,
   "metadata": {},
   "outputs": [],
   "source": [
    "df = df.sort_values(by=['station_id','timestamp'])"
   ]
  },
  {
   "cell_type": "code",
   "execution_count": 5,
   "metadata": {},
   "outputs": [],
   "source": [
    "df['deposit'] = df['bikes'].diff().fillna(0).astype(int)"
   ]
  },
  {
   "cell_type": "code",
   "execution_count": 6,
   "metadata": {},
   "outputs": [],
   "source": [
    "df['bike_lag'] = df['bikes'].shift().fillna(0).astype(int)"
   ]
  },
  {
   "cell_type": "code",
   "execution_count": 7,
   "metadata": {},
   "outputs": [],
   "source": [
    "df = df.sort_values(by=['timestamp'])"
   ]
  },
  {
   "cell_type": "code",
   "execution_count": 8,
   "metadata": {},
   "outputs": [],
   "source": [
    "df = df.set_index('timestamp')"
   ]
  },
  {
   "cell_type": "code",
   "execution_count": 9,
   "metadata": {},
   "outputs": [],
   "source": [
    "df['hour'] = pd.DatetimeIndex(df.index).hour"
   ]
  },
  {
   "cell_type": "code",
   "execution_count": 10,
   "metadata": {},
   "outputs": [],
   "source": [
    "df['day_of_week'] = pd.DatetimeIndex(df.index).dayofweek"
   ]
  },
  {
   "cell_type": "code",
   "execution_count": 11,
   "metadata": {},
   "outputs": [],
   "source": [
    "df['month'] = pd.DatetimeIndex(df.index).month"
   ]
  },
  {
   "cell_type": "code",
   "execution_count": 12,
   "metadata": {},
   "outputs": [],
   "source": [
    "pop_desposit = df.pop('deposit')"
   ]
  },
  {
   "cell_type": "code",
   "execution_count": 13,
   "metadata": {},
   "outputs": [],
   "source": [
    "df['deposit'] = pop_desposit"
   ]
  },
  {
   "cell_type": "code",
   "execution_count": null,
   "metadata": {
    "scrolled": true
   },
   "outputs": [
    {
     "data": {
      "text/html": [
       "<div>\n",
       "<style scoped>\n",
       "    .dataframe tbody tr th:only-of-type {\n",
       "        vertical-align: middle;\n",
       "    }\n",
       "\n",
       "    .dataframe tbody tr th {\n",
       "        vertical-align: top;\n",
       "    }\n",
       "\n",
       "    .dataframe thead th {\n",
       "        text-align: right;\n",
       "    }\n",
       "</style>\n",
       "<table border=\"1\" class=\"dataframe\">\n",
       "  <thead>\n",
       "    <tr style=\"text-align: right;\">\n",
       "      <th></th>\n",
       "      <th>station_id</th>\n",
       "      <th>bikes</th>\n",
       "      <th>spaces</th>\n",
       "      <th>total_docks</th>\n",
       "      <th>bike_lag</th>\n",
       "      <th>hour</th>\n",
       "      <th>day_of_week</th>\n",
       "      <th>month</th>\n",
       "      <th>deposit</th>\n",
       "    </tr>\n",
       "    <tr>\n",
       "      <th>timestamp</th>\n",
       "      <th></th>\n",
       "      <th></th>\n",
       "      <th></th>\n",
       "      <th></th>\n",
       "      <th></th>\n",
       "      <th></th>\n",
       "      <th></th>\n",
       "      <th></th>\n",
       "      <th></th>\n",
       "    </tr>\n",
       "  </thead>\n",
       "  <tbody>\n",
       "    <tr>\n",
       "      <th>2018-01-01 00:00:02</th>\n",
       "      <td>1</td>\n",
       "      <td>18</td>\n",
       "      <td>13</td>\n",
       "      <td>31</td>\n",
       "      <td>0</td>\n",
       "      <td>0</td>\n",
       "      <td>0</td>\n",
       "      <td>1</td>\n",
       "      <td>0</td>\n",
       "    </tr>\n",
       "    <tr>\n",
       "      <th>2018-01-01 00:00:02</th>\n",
       "      <td>19</td>\n",
       "      <td>15</td>\n",
       "      <td>15</td>\n",
       "      <td>30</td>\n",
       "      <td>6</td>\n",
       "      <td>0</td>\n",
       "      <td>0</td>\n",
       "      <td>1</td>\n",
       "      <td>9</td>\n",
       "    </tr>\n",
       "    <tr>\n",
       "      <th>2018-01-01 00:00:02</th>\n",
       "      <td>91</td>\n",
       "      <td>9</td>\n",
       "      <td>21</td>\n",
       "      <td>30</td>\n",
       "      <td>0</td>\n",
       "      <td>0</td>\n",
       "      <td>0</td>\n",
       "      <td>1</td>\n",
       "      <td>9</td>\n",
       "    </tr>\n",
       "    <tr>\n",
       "      <th>2018-01-01 00:00:02</th>\n",
       "      <td>21</td>\n",
       "      <td>18</td>\n",
       "      <td>12</td>\n",
       "      <td>30</td>\n",
       "      <td>8</td>\n",
       "      <td>0</td>\n",
       "      <td>0</td>\n",
       "      <td>1</td>\n",
       "      <td>10</td>\n",
       "    </tr>\n",
       "    <tr>\n",
       "      <th>2018-01-01 00:00:02</th>\n",
       "      <td>90</td>\n",
       "      <td>1</td>\n",
       "      <td>39</td>\n",
       "      <td>40</td>\n",
       "      <td>29</td>\n",
       "      <td>0</td>\n",
       "      <td>0</td>\n",
       "      <td>1</td>\n",
       "      <td>-28</td>\n",
       "    </tr>\n",
       "  </tbody>\n",
       "</table>\n",
       "</div>"
      ],
      "text/plain": [
       "                     station_id  bikes  spaces  total_docks  bike_lag  hour  \\\n",
       "timestamp                                                                     \n",
       "2018-01-01 00:00:02           1     18      13           31         0     0   \n",
       "2018-01-01 00:00:02          19     15      15           30         6     0   \n",
       "2018-01-01 00:00:02          91      9      21           30         0     0   \n",
       "2018-01-01 00:00:02          21     18      12           30         8     0   \n",
       "2018-01-01 00:00:02          90      1      39           40        29     0   \n",
       "\n",
       "                     day_of_week  month  deposit  \n",
       "timestamp                                         \n",
       "2018-01-01 00:00:02            0      1        0  \n",
       "2018-01-01 00:00:02            0      1        9  \n",
       "2018-01-01 00:00:02            0      1        9  \n",
       "2018-01-01 00:00:02            0      1       10  \n",
       "2018-01-01 00:00:02            0      1      -28  "
      ]
     },
     "execution_count": 14,
     "metadata": {},
     "output_type": "execute_result"
    }
   ],
   "source": [
    "df.head()"
   ]
  },
  {
   "cell_type": "code",
   "execution_count": null,
   "metadata": {},
   "outputs": [],
   "source": [
    "df.to_csv('2018_features.csv')"
   ]
  },
  {
   "cell_type": "code",
   "execution_count": null,
   "metadata": {},
   "outputs": [],
   "source": []
  }
 ],
 "metadata": {
  "kernelspec": {
   "display_name": "Python 3",
   "language": "python",
   "name": "python3"
  },
  "language_info": {
   "codemirror_mode": {
    "name": "ipython",
    "version": 3
   },
   "file_extension": ".py",
   "mimetype": "text/x-python",
   "name": "python",
   "nbconvert_exporter": "python",
   "pygments_lexer": "ipython3",
   "version": "3.6.4"
  }
 },
 "nbformat": 4,
 "nbformat_minor": 2
}
