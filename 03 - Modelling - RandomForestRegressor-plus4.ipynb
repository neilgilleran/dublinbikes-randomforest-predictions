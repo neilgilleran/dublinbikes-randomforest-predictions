{
 "cells": [
  {
   "cell_type": "code",
   "execution_count": 1,
   "metadata": {},
   "outputs": [],
   "source": [
    "import pandas as pd\n",
    "import numpy as np\n",
    "import matplotlib.pyplot as plt\n",
    "import seaborn as sns\n",
    "from sklearn.model_selection import train_test_split\n",
    "from sklearn.metrics import classification_report, confusion_matrix\n",
    "from sklearn.tree import DecisionTreeClassifier\n",
    "\n",
    "from sklearn.ensemble import RandomForestClassifier\n",
    "from sklearn.ensemble import RandomForestRegressor\n",
    "\n",
    "import IPython\n",
    "from sklearn.externals import joblib"
   ]
  },
  {
   "cell_type": "code",
   "execution_count": 2,
   "metadata": {},
   "outputs": [],
   "source": [
    "#df = pd.read_csv('2018_pulled_features_plusfour.csv', index_col='timestamp', parse_dates=True)\n",
    "df = pd.read_csv('2018_pulled_features_plusfour.csv')"
   ]
  },
  {
   "cell_type": "code",
   "execution_count": 3,
   "metadata": {},
   "outputs": [
    {
     "data": {
      "text/html": [
       "<div>\n",
       "<style scoped>\n",
       "    .dataframe tbody tr th:only-of-type {\n",
       "        vertical-align: middle;\n",
       "    }\n",
       "\n",
       "    .dataframe tbody tr th {\n",
       "        vertical-align: top;\n",
       "    }\n",
       "\n",
       "    .dataframe thead th {\n",
       "        text-align: right;\n",
       "    }\n",
       "</style>\n",
       "<table border=\"1\" class=\"dataframe\">\n",
       "  <thead>\n",
       "    <tr style=\"text-align: right;\">\n",
       "      <th></th>\n",
       "      <th>timestamp</th>\n",
       "      <th>station_id</th>\n",
       "      <th>bikes</th>\n",
       "      <th>spaces</th>\n",
       "      <th>total_docks</th>\n",
       "      <th>bike_lag</th>\n",
       "      <th>bike_lag2</th>\n",
       "      <th>bike_lag3</th>\n",
       "      <th>bike_lag4</th>\n",
       "      <th>deposit</th>\n",
       "      <th>hour</th>\n",
       "      <th>day_of_week</th>\n",
       "      <th>month</th>\n",
       "      <th>weekend</th>\n",
       "      <th>bike_pull4</th>\n",
       "    </tr>\n",
       "  </thead>\n",
       "  <tbody>\n",
       "    <tr>\n",
       "      <th>0</th>\n",
       "      <td>2017-06-01 00:00:01</td>\n",
       "      <td>1</td>\n",
       "      <td>0</td>\n",
       "      <td>31</td>\n",
       "      <td>31</td>\n",
       "      <td>0</td>\n",
       "      <td>0</td>\n",
       "      <td>0</td>\n",
       "      <td>0</td>\n",
       "      <td>0</td>\n",
       "      <td>0</td>\n",
       "      <td>3</td>\n",
       "      <td>6</td>\n",
       "      <td>0</td>\n",
       "      <td>0</td>\n",
       "    </tr>\n",
       "    <tr>\n",
       "      <th>1</th>\n",
       "      <td>2017-06-01 00:00:01</td>\n",
       "      <td>82</td>\n",
       "      <td>22</td>\n",
       "      <td>0</td>\n",
       "      <td>22</td>\n",
       "      <td>4</td>\n",
       "      <td>4</td>\n",
       "      <td>4</td>\n",
       "      <td>4</td>\n",
       "      <td>18</td>\n",
       "      <td>0</td>\n",
       "      <td>3</td>\n",
       "      <td>6</td>\n",
       "      <td>0</td>\n",
       "      <td>22</td>\n",
       "    </tr>\n",
       "  </tbody>\n",
       "</table>\n",
       "</div>"
      ],
      "text/plain": [
       "             timestamp  station_id  bikes  spaces  total_docks  bike_lag  \\\n",
       "0  2017-06-01 00:00:01           1      0      31           31         0   \n",
       "1  2017-06-01 00:00:01          82     22       0           22         4   \n",
       "\n",
       "   bike_lag2  bike_lag3  bike_lag4  deposit  hour  day_of_week  month  \\\n",
       "0          0          0          0        0     0            3      6   \n",
       "1          4          4          4       18     0            3      6   \n",
       "\n",
       "   weekend  bike_pull4  \n",
       "0        0           0  \n",
       "1        0          22  "
      ]
     },
     "execution_count": 3,
     "metadata": {},
     "output_type": "execute_result"
    }
   ],
   "source": [
    "df.head(2)"
   ]
  },
  {
   "cell_type": "code",
   "execution_count": 4,
   "metadata": {},
   "outputs": [
    {
     "name": "stdout",
     "output_type": "stream",
     "text": [
      "<class 'pandas.core.frame.DataFrame'>\n",
      "RangeIndex: 27900395 entries, 0 to 27900394\n",
      "Data columns (total 15 columns):\n",
      "timestamp      object\n",
      "station_id     int64\n",
      "bikes          int64\n",
      "spaces         int64\n",
      "total_docks    int64\n",
      "bike_lag       int64\n",
      "bike_lag2      int64\n",
      "bike_lag3      int64\n",
      "bike_lag4      int64\n",
      "deposit        int64\n",
      "hour           int64\n",
      "day_of_week    int64\n",
      "month          int64\n",
      "weekend        int64\n",
      "bike_pull4     int64\n",
      "dtypes: int64(14), object(1)\n",
      "memory usage: 3.1+ GB\n"
     ]
    }
   ],
   "source": [
    "df.info()"
   ]
  },
  {
   "cell_type": "code",
   "execution_count": 5,
   "metadata": {},
   "outputs": [
    {
     "data": {
      "text/html": [
       "<div>\n",
       "<style scoped>\n",
       "    .dataframe tbody tr th:only-of-type {\n",
       "        vertical-align: middle;\n",
       "    }\n",
       "\n",
       "    .dataframe tbody tr th {\n",
       "        vertical-align: top;\n",
       "    }\n",
       "\n",
       "    .dataframe thead th {\n",
       "        text-align: right;\n",
       "    }\n",
       "</style>\n",
       "<table border=\"1\" class=\"dataframe\">\n",
       "  <thead>\n",
       "    <tr style=\"text-align: right;\">\n",
       "      <th></th>\n",
       "      <th>station_id</th>\n",
       "      <th>bikes</th>\n",
       "      <th>spaces</th>\n",
       "      <th>total_docks</th>\n",
       "      <th>bike_lag</th>\n",
       "      <th>bike_lag2</th>\n",
       "      <th>bike_lag3</th>\n",
       "      <th>bike_lag4</th>\n",
       "      <th>deposit</th>\n",
       "      <th>hour</th>\n",
       "      <th>day_of_week</th>\n",
       "      <th>month</th>\n",
       "      <th>weekend</th>\n",
       "      <th>bike_pull4</th>\n",
       "    </tr>\n",
       "  </thead>\n",
       "  <tbody>\n",
       "    <tr>\n",
       "      <th>count</th>\n",
       "      <td>2.790040e+07</td>\n",
       "      <td>2.790040e+07</td>\n",
       "      <td>2.790040e+07</td>\n",
       "      <td>2.790040e+07</td>\n",
       "      <td>2.790040e+07</td>\n",
       "      <td>2.790040e+07</td>\n",
       "      <td>2.790040e+07</td>\n",
       "      <td>2.790040e+07</td>\n",
       "      <td>2.790040e+07</td>\n",
       "      <td>2.790040e+07</td>\n",
       "      <td>2.790040e+07</td>\n",
       "      <td>2.790040e+07</td>\n",
       "      <td>2.790040e+07</td>\n",
       "      <td>2.790040e+07</td>\n",
       "    </tr>\n",
       "    <tr>\n",
       "      <th>mean</th>\n",
       "      <td>5.229972e+01</td>\n",
       "      <td>1.258310e+01</td>\n",
       "      <td>1.871186e+01</td>\n",
       "      <td>3.136877e+01</td>\n",
       "      <td>1.258310e+01</td>\n",
       "      <td>1.258310e+01</td>\n",
       "      <td>1.258310e+01</td>\n",
       "      <td>1.258310e+01</td>\n",
       "      <td>7.168357e-08</td>\n",
       "      <td>1.150290e+01</td>\n",
       "      <td>2.993001e+00</td>\n",
       "      <td>6.505371e+00</td>\n",
       "      <td>2.844712e-01</td>\n",
       "      <td>1.258310e+01</td>\n",
       "    </tr>\n",
       "    <tr>\n",
       "      <th>std</th>\n",
       "      <td>2.989625e+01</td>\n",
       "      <td>1.134922e+01</td>\n",
       "      <td>1.190888e+01</td>\n",
       "      <td>7.526243e+00</td>\n",
       "      <td>1.134922e+01</td>\n",
       "      <td>1.134922e+01</td>\n",
       "      <td>1.134922e+01</td>\n",
       "      <td>1.134922e+01</td>\n",
       "      <td>6.414599e-01</td>\n",
       "      <td>6.922074e+00</td>\n",
       "      <td>1.998915e+00</td>\n",
       "      <td>3.306885e+00</td>\n",
       "      <td>4.511622e-01</td>\n",
       "      <td>1.134922e+01</td>\n",
       "    </tr>\n",
       "    <tr>\n",
       "      <th>min</th>\n",
       "      <td>1.000000e+00</td>\n",
       "      <td>0.000000e+00</td>\n",
       "      <td>0.000000e+00</td>\n",
       "      <td>0.000000e+00</td>\n",
       "      <td>0.000000e+00</td>\n",
       "      <td>0.000000e+00</td>\n",
       "      <td>0.000000e+00</td>\n",
       "      <td>0.000000e+00</td>\n",
       "      <td>-4.000000e+01</td>\n",
       "      <td>0.000000e+00</td>\n",
       "      <td>0.000000e+00</td>\n",
       "      <td>1.000000e+00</td>\n",
       "      <td>0.000000e+00</td>\n",
       "      <td>0.000000e+00</td>\n",
       "    </tr>\n",
       "    <tr>\n",
       "      <th>25%</th>\n",
       "      <td>2.700000e+01</td>\n",
       "      <td>2.000000e+00</td>\n",
       "      <td>9.000000e+00</td>\n",
       "      <td>2.700000e+01</td>\n",
       "      <td>2.000000e+00</td>\n",
       "      <td>2.000000e+00</td>\n",
       "      <td>2.000000e+00</td>\n",
       "      <td>2.000000e+00</td>\n",
       "      <td>0.000000e+00</td>\n",
       "      <td>6.000000e+00</td>\n",
       "      <td>1.000000e+00</td>\n",
       "      <td>4.000000e+00</td>\n",
       "      <td>0.000000e+00</td>\n",
       "      <td>2.000000e+00</td>\n",
       "    </tr>\n",
       "    <tr>\n",
       "      <th>50%</th>\n",
       "      <td>5.300000e+01</td>\n",
       "      <td>1.000000e+01</td>\n",
       "      <td>1.900000e+01</td>\n",
       "      <td>3.000000e+01</td>\n",
       "      <td>1.000000e+01</td>\n",
       "      <td>1.000000e+01</td>\n",
       "      <td>1.000000e+01</td>\n",
       "      <td>1.000000e+01</td>\n",
       "      <td>0.000000e+00</td>\n",
       "      <td>1.200000e+01</td>\n",
       "      <td>3.000000e+00</td>\n",
       "      <td>6.000000e+00</td>\n",
       "      <td>0.000000e+00</td>\n",
       "      <td>1.000000e+01</td>\n",
       "    </tr>\n",
       "    <tr>\n",
       "      <th>75%</th>\n",
       "      <td>7.800000e+01</td>\n",
       "      <td>2.100000e+01</td>\n",
       "      <td>2.900000e+01</td>\n",
       "      <td>4.000000e+01</td>\n",
       "      <td>2.100000e+01</td>\n",
       "      <td>2.100000e+01</td>\n",
       "      <td>2.100000e+01</td>\n",
       "      <td>2.100000e+01</td>\n",
       "      <td>0.000000e+00</td>\n",
       "      <td>1.800000e+01</td>\n",
       "      <td>5.000000e+00</td>\n",
       "      <td>9.000000e+00</td>\n",
       "      <td>1.000000e+00</td>\n",
       "      <td>2.100000e+01</td>\n",
       "    </tr>\n",
       "    <tr>\n",
       "      <th>max</th>\n",
       "      <td>1.120000e+02</td>\n",
       "      <td>4.300000e+01</td>\n",
       "      <td>5.200000e+01</td>\n",
       "      <td>4.000000e+01</td>\n",
       "      <td>4.300000e+01</td>\n",
       "      <td>4.300000e+01</td>\n",
       "      <td>4.300000e+01</td>\n",
       "      <td>4.300000e+01</td>\n",
       "      <td>4.000000e+01</td>\n",
       "      <td>2.300000e+01</td>\n",
       "      <td>6.000000e+00</td>\n",
       "      <td>1.200000e+01</td>\n",
       "      <td>1.000000e+00</td>\n",
       "      <td>4.300000e+01</td>\n",
       "    </tr>\n",
       "  </tbody>\n",
       "</table>\n",
       "</div>"
      ],
      "text/plain": [
       "         station_id         bikes        spaces   total_docks      bike_lag  \\\n",
       "count  2.790040e+07  2.790040e+07  2.790040e+07  2.790040e+07  2.790040e+07   \n",
       "mean   5.229972e+01  1.258310e+01  1.871186e+01  3.136877e+01  1.258310e+01   \n",
       "std    2.989625e+01  1.134922e+01  1.190888e+01  7.526243e+00  1.134922e+01   \n",
       "min    1.000000e+00  0.000000e+00  0.000000e+00  0.000000e+00  0.000000e+00   \n",
       "25%    2.700000e+01  2.000000e+00  9.000000e+00  2.700000e+01  2.000000e+00   \n",
       "50%    5.300000e+01  1.000000e+01  1.900000e+01  3.000000e+01  1.000000e+01   \n",
       "75%    7.800000e+01  2.100000e+01  2.900000e+01  4.000000e+01  2.100000e+01   \n",
       "max    1.120000e+02  4.300000e+01  5.200000e+01  4.000000e+01  4.300000e+01   \n",
       "\n",
       "          bike_lag2     bike_lag3     bike_lag4       deposit          hour  \\\n",
       "count  2.790040e+07  2.790040e+07  2.790040e+07  2.790040e+07  2.790040e+07   \n",
       "mean   1.258310e+01  1.258310e+01  1.258310e+01  7.168357e-08  1.150290e+01   \n",
       "std    1.134922e+01  1.134922e+01  1.134922e+01  6.414599e-01  6.922074e+00   \n",
       "min    0.000000e+00  0.000000e+00  0.000000e+00 -4.000000e+01  0.000000e+00   \n",
       "25%    2.000000e+00  2.000000e+00  2.000000e+00  0.000000e+00  6.000000e+00   \n",
       "50%    1.000000e+01  1.000000e+01  1.000000e+01  0.000000e+00  1.200000e+01   \n",
       "75%    2.100000e+01  2.100000e+01  2.100000e+01  0.000000e+00  1.800000e+01   \n",
       "max    4.300000e+01  4.300000e+01  4.300000e+01  4.000000e+01  2.300000e+01   \n",
       "\n",
       "        day_of_week         month       weekend    bike_pull4  \n",
       "count  2.790040e+07  2.790040e+07  2.790040e+07  2.790040e+07  \n",
       "mean   2.993001e+00  6.505371e+00  2.844712e-01  1.258310e+01  \n",
       "std    1.998915e+00  3.306885e+00  4.511622e-01  1.134922e+01  \n",
       "min    0.000000e+00  1.000000e+00  0.000000e+00  0.000000e+00  \n",
       "25%    1.000000e+00  4.000000e+00  0.000000e+00  2.000000e+00  \n",
       "50%    3.000000e+00  6.000000e+00  0.000000e+00  1.000000e+01  \n",
       "75%    5.000000e+00  9.000000e+00  1.000000e+00  2.100000e+01  \n",
       "max    6.000000e+00  1.200000e+01  1.000000e+00  4.300000e+01  "
      ]
     },
     "execution_count": 5,
     "metadata": {},
     "output_type": "execute_result"
    }
   ],
   "source": [
    "df.describe()"
   ]
  },
  {
   "cell_type": "code",
   "execution_count": null,
   "metadata": {},
   "outputs": [],
   "source": []
  },
  {
   "cell_type": "code",
   "execution_count": null,
   "metadata": {},
   "outputs": [],
   "source": []
  },
  {
   "cell_type": "code",
   "execution_count": null,
   "metadata": {},
   "outputs": [],
   "source": []
  },
  {
   "cell_type": "code",
   "execution_count": null,
   "metadata": {},
   "outputs": [],
   "source": []
  },
  {
   "cell_type": "code",
   "execution_count": null,
   "metadata": {},
   "outputs": [],
   "source": []
  },
  {
   "cell_type": "code",
   "execution_count": null,
   "metadata": {},
   "outputs": [],
   "source": []
  },
  {
   "cell_type": "code",
   "execution_count": 5,
   "metadata": {},
   "outputs": [],
   "source": [
    "#X = df.drop('bike_pull4', axis=1)\n",
    "#y = df['bike_pull4']\n",
    "#\n",
    "#X_train, X_test, y_train, y_test = train_test_split(X, y, test_size=0.3, random_state=101)"
   ]
  },
  {
   "cell_type": "code",
   "execution_count": 6,
   "metadata": {},
   "outputs": [
    {
     "data": {
      "text/html": [
       "<div>\n",
       "<style scoped>\n",
       "    .dataframe tbody tr th:only-of-type {\n",
       "        vertical-align: middle;\n",
       "    }\n",
       "\n",
       "    .dataframe tbody tr th {\n",
       "        vertical-align: top;\n",
       "    }\n",
       "\n",
       "    .dataframe thead th {\n",
       "        text-align: right;\n",
       "    }\n",
       "</style>\n",
       "<table border=\"1\" class=\"dataframe\">\n",
       "  <thead>\n",
       "    <tr style=\"text-align: right;\">\n",
       "      <th></th>\n",
       "      <th>station_id</th>\n",
       "      <th>bikes</th>\n",
       "      <th>spaces</th>\n",
       "      <th>total_docks</th>\n",
       "      <th>bike_lag</th>\n",
       "      <th>bike_lag2</th>\n",
       "      <th>bike_lag3</th>\n",
       "      <th>bike_lag4</th>\n",
       "      <th>deposit</th>\n",
       "      <th>hour</th>\n",
       "      <th>day_of_week</th>\n",
       "      <th>month</th>\n",
       "      <th>weekend</th>\n",
       "    </tr>\n",
       "    <tr>\n",
       "      <th>timestamp</th>\n",
       "      <th></th>\n",
       "      <th></th>\n",
       "      <th></th>\n",
       "      <th></th>\n",
       "      <th></th>\n",
       "      <th></th>\n",
       "      <th></th>\n",
       "      <th></th>\n",
       "      <th></th>\n",
       "      <th></th>\n",
       "      <th></th>\n",
       "      <th></th>\n",
       "      <th></th>\n",
       "    </tr>\n",
       "  </thead>\n",
       "  <tbody>\n",
       "    <tr>\n",
       "      <th>2018-06-18 06:20:02</th>\n",
       "      <td>10</td>\n",
       "      <td>7</td>\n",
       "      <td>9</td>\n",
       "      <td>16</td>\n",
       "      <td>7</td>\n",
       "      <td>7</td>\n",
       "      <td>7</td>\n",
       "      <td>7</td>\n",
       "      <td>0</td>\n",
       "      <td>6</td>\n",
       "      <td>0</td>\n",
       "      <td>6</td>\n",
       "      <td>0</td>\n",
       "    </tr>\n",
       "    <tr>\n",
       "      <th>2018-03-28 12:54:02</th>\n",
       "      <td>31</td>\n",
       "      <td>9</td>\n",
       "      <td>11</td>\n",
       "      <td>20</td>\n",
       "      <td>11</td>\n",
       "      <td>10</td>\n",
       "      <td>9</td>\n",
       "      <td>9</td>\n",
       "      <td>-2</td>\n",
       "      <td>12</td>\n",
       "      <td>2</td>\n",
       "      <td>3</td>\n",
       "      <td>0</td>\n",
       "    </tr>\n",
       "  </tbody>\n",
       "</table>\n",
       "</div>"
      ],
      "text/plain": [
       "                     station_id  bikes  spaces  total_docks  bike_lag  \\\n",
       "timestamp                                                               \n",
       "2018-06-18 06:20:02          10      7       9           16         7   \n",
       "2018-03-28 12:54:02          31      9      11           20        11   \n",
       "\n",
       "                     bike_lag2  bike_lag3  bike_lag4  deposit  hour  \\\n",
       "timestamp                                                             \n",
       "2018-06-18 06:20:02          7          7          7        0     6   \n",
       "2018-03-28 12:54:02         10          9          9       -2    12   \n",
       "\n",
       "                     day_of_week  month  weekend  \n",
       "timestamp                                         \n",
       "2018-06-18 06:20:02            0      6        0  \n",
       "2018-03-28 12:54:02            2      3        0  "
      ]
     },
     "execution_count": 6,
     "metadata": {},
     "output_type": "execute_result"
    }
   ],
   "source": [
    "#X_test.head(2)"
   ]
  },
  {
   "cell_type": "code",
   "execution_count": null,
   "metadata": {},
   "outputs": [],
   "source": []
  },
  {
   "cell_type": "code",
   "execution_count": 7,
   "metadata": {},
   "outputs": [],
   "source": [
    "#rfr = RandomForestRegressor(n_estimators=50, random_state=0, n_jobs=-1)"
   ]
  },
  {
   "cell_type": "code",
   "execution_count": 8,
   "metadata": {},
   "outputs": [],
   "source": [
    "#model = rfr.fit(X_train, y_train)"
   ]
  },
  {
   "cell_type": "code",
   "execution_count": 9,
   "metadata": {},
   "outputs": [],
   "source": [
    "#predictions = rfr.predict(X_test)"
   ]
  },
  {
   "cell_type": "code",
   "execution_count": 10,
   "metadata": {},
   "outputs": [
    {
     "name": "stdout",
     "output_type": "stream",
     "text": [
      "[2.56766288e-03 9.85311685e-01 6.70104571e-04 3.42769403e-04\n",
      " 4.84966721e-04 9.59842636e-04 9.74755106e-04 1.29082675e-03\n",
      " 4.89788760e-04 2.03428049e-03 1.86183800e-03 2.88382979e-03\n",
      " 1.27649680e-04]\n"
     ]
    }
   ],
   "source": [
    "#print(rfr.feature_importances_)"
   ]
  },
  {
   "cell_type": "code",
   "execution_count": 11,
   "metadata": {},
   "outputs": [
    {
     "name": "stdout",
     "output_type": "stream",
     "text": [
      "[ 6.77914108  9.155      14.264      ...  0.09929697  2.\n",
      " 20.65507143]\n"
     ]
    }
   ],
   "source": [
    "print(predictions)"
   ]
  },
  {
   "cell_type": "code",
   "execution_count": 12,
   "metadata": {},
   "outputs": [],
   "source": [
    "errors = abs(predictions - y_test)"
   ]
  },
  {
   "cell_type": "code",
   "execution_count": 13,
   "metadata": {},
   "outputs": [
    {
     "name": "stdout",
     "output_type": "stream",
     "text": [
      "Mean Absolute Error: 0.66 degrees.\n"
     ]
    }
   ],
   "source": [
    "print('Mean Absolute Error:', round(np.mean(errors), 2), 'degrees.')"
   ]
  },
  {
   "cell_type": "code",
   "execution_count": 14,
   "metadata": {},
   "outputs": [],
   "source": [
    "#print(confusion_matrix(y_test, predictions))\n"
   ]
  },
  {
   "cell_type": "markdown",
   "metadata": {},
   "source": [
    "# print(classification_report(y_test, predictions))"
   ]
  },
  {
   "cell_type": "code",
   "execution_count": 80,
   "metadata": {},
   "outputs": [
    {
     "name": "stdout",
     "output_type": "stream",
     "text": [
      "[-4.  0. -1.]\n"
     ]
    }
   ],
   "source": [
    "print(model.predict(validate_model))"
   ]
  },
  {
   "cell_type": "code",
   "execution_count": null,
   "metadata": {},
   "outputs": [],
   "source": [
    "plt.errorbar(X, y, 0.3, fmt='o', alpha=0.5)\n",
    "plt.plot(X_train, y_train, '-r')\n",
    "plt.plot(X_test, y_test, '-k', alpha=0.5)"
   ]
  },
  {
   "cell_type": "code",
   "execution_count": null,
   "metadata": {},
   "outputs": [],
   "source": []
  },
  {
   "cell_type": "code",
   "execution_count": 4,
   "metadata": {},
   "outputs": [],
   "source": [
    "#print(confusion_matrix(y_test, predictions))\n",
    "#print(classification_report(y_test, predictions))"
   ]
  },
  {
   "cell_type": "code",
   "execution_count": 28,
   "metadata": {},
   "outputs": [],
   "source": [
    "pred_X_test = df.head(111)"
   ]
  },
  {
   "cell_type": "code",
   "execution_count": 16,
   "metadata": {},
   "outputs": [],
   "source": [
    "test.to_csv('validateme4.csv')"
   ]
  },
  {
   "cell_type": "code",
   "execution_count": 30,
   "metadata": {},
   "outputs": [
    {
     "data": {
      "text/html": [
       "<div>\n",
       "<style scoped>\n",
       "    .dataframe tbody tr th:only-of-type {\n",
       "        vertical-align: middle;\n",
       "    }\n",
       "\n",
       "    .dataframe tbody tr th {\n",
       "        vertical-align: top;\n",
       "    }\n",
       "\n",
       "    .dataframe thead th {\n",
       "        text-align: right;\n",
       "    }\n",
       "</style>\n",
       "<table border=\"1\" class=\"dataframe\">\n",
       "  <thead>\n",
       "    <tr style=\"text-align: right;\">\n",
       "      <th></th>\n",
       "      <th>station_id</th>\n",
       "      <th>bikes</th>\n",
       "      <th>spaces</th>\n",
       "      <th>total_docks</th>\n",
       "      <th>bike_lag</th>\n",
       "      <th>bike_lag2</th>\n",
       "      <th>bike_lag3</th>\n",
       "      <th>bike_lag4</th>\n",
       "      <th>deposit</th>\n",
       "      <th>hour</th>\n",
       "      <th>day_of_week</th>\n",
       "      <th>month</th>\n",
       "      <th>weekend</th>\n",
       "      <th>bike_pull4</th>\n",
       "    </tr>\n",
       "    <tr>\n",
       "      <th>timestamp</th>\n",
       "      <th></th>\n",
       "      <th></th>\n",
       "      <th></th>\n",
       "      <th></th>\n",
       "      <th></th>\n",
       "      <th></th>\n",
       "      <th></th>\n",
       "      <th></th>\n",
       "      <th></th>\n",
       "      <th></th>\n",
       "      <th></th>\n",
       "      <th></th>\n",
       "      <th></th>\n",
       "      <th></th>\n",
       "    </tr>\n",
       "  </thead>\n",
       "  <tbody>\n",
       "    <tr>\n",
       "      <th>2017-06-01 00:00:01</th>\n",
       "      <td>1</td>\n",
       "      <td>0</td>\n",
       "      <td>31</td>\n",
       "      <td>31</td>\n",
       "      <td>0</td>\n",
       "      <td>0</td>\n",
       "      <td>0</td>\n",
       "      <td>0</td>\n",
       "      <td>0</td>\n",
       "      <td>0</td>\n",
       "      <td>3</td>\n",
       "      <td>6</td>\n",
       "      <td>0</td>\n",
       "      <td>0</td>\n",
       "    </tr>\n",
       "    <tr>\n",
       "      <th>2017-06-01 00:00:01</th>\n",
       "      <td>82</td>\n",
       "      <td>22</td>\n",
       "      <td>0</td>\n",
       "      <td>22</td>\n",
       "      <td>4</td>\n",
       "      <td>4</td>\n",
       "      <td>4</td>\n",
       "      <td>4</td>\n",
       "      <td>18</td>\n",
       "      <td>0</td>\n",
       "      <td>3</td>\n",
       "      <td>6</td>\n",
       "      <td>0</td>\n",
       "      <td>22</td>\n",
       "    </tr>\n",
       "    <tr>\n",
       "      <th>2017-06-01 00:00:01</th>\n",
       "      <td>81</td>\n",
       "      <td>25</td>\n",
       "      <td>15</td>\n",
       "      <td>40</td>\n",
       "      <td>0</td>\n",
       "      <td>1</td>\n",
       "      <td>0</td>\n",
       "      <td>0</td>\n",
       "      <td>25</td>\n",
       "      <td>0</td>\n",
       "      <td>3</td>\n",
       "      <td>6</td>\n",
       "      <td>0</td>\n",
       "      <td>25</td>\n",
       "    </tr>\n",
       "    <tr>\n",
       "      <th>2017-06-01 00:00:01</th>\n",
       "      <td>80</td>\n",
       "      <td>25</td>\n",
       "      <td>15</td>\n",
       "      <td>40</td>\n",
       "      <td>0</td>\n",
       "      <td>0</td>\n",
       "      <td>0</td>\n",
       "      <td>0</td>\n",
       "      <td>25</td>\n",
       "      <td>0</td>\n",
       "      <td>3</td>\n",
       "      <td>6</td>\n",
       "      <td>0</td>\n",
       "      <td>26</td>\n",
       "    </tr>\n",
       "    <tr>\n",
       "      <th>2017-06-01 00:00:01</th>\n",
       "      <td>9</td>\n",
       "      <td>0</td>\n",
       "      <td>24</td>\n",
       "      <td>24</td>\n",
       "      <td>28</td>\n",
       "      <td>28</td>\n",
       "      <td>29</td>\n",
       "      <td>30</td>\n",
       "      <td>-28</td>\n",
       "      <td>0</td>\n",
       "      <td>3</td>\n",
       "      <td>6</td>\n",
       "      <td>0</td>\n",
       "      <td>0</td>\n",
       "    </tr>\n",
       "  </tbody>\n",
       "</table>\n",
       "</div>"
      ],
      "text/plain": [
       "                     station_id  bikes  spaces  total_docks  bike_lag  \\\n",
       "timestamp                                                               \n",
       "2017-06-01 00:00:01           1      0      31           31         0   \n",
       "2017-06-01 00:00:01          82     22       0           22         4   \n",
       "2017-06-01 00:00:01          81     25      15           40         0   \n",
       "2017-06-01 00:00:01          80     25      15           40         0   \n",
       "2017-06-01 00:00:01           9      0      24           24        28   \n",
       "\n",
       "                     bike_lag2  bike_lag3  bike_lag4  deposit  hour  \\\n",
       "timestamp                                                             \n",
       "2017-06-01 00:00:01          0          0          0        0     0   \n",
       "2017-06-01 00:00:01          4          4          4       18     0   \n",
       "2017-06-01 00:00:01          1          0          0       25     0   \n",
       "2017-06-01 00:00:01          0          0          0       25     0   \n",
       "2017-06-01 00:00:01         28         29         30      -28     0   \n",
       "\n",
       "                     day_of_week  month  weekend  bike_pull4  \n",
       "timestamp                                                     \n",
       "2017-06-01 00:00:01            3      6        0           0  \n",
       "2017-06-01 00:00:01            3      6        0          22  \n",
       "2017-06-01 00:00:01            3      6        0          25  \n",
       "2017-06-01 00:00:01            3      6        0          26  \n",
       "2017-06-01 00:00:01            3      6        0           0  "
      ]
     },
     "execution_count": 30,
     "metadata": {},
     "output_type": "execute_result"
    }
   ],
   "source": [
    "pred_X_test.head()"
   ]
  },
  {
   "cell_type": "code",
   "execution_count": 31,
   "metadata": {},
   "outputs": [],
   "source": [
    "pred_y_test = pred_X_test['bike_pull4']"
   ]
  },
  {
   "cell_type": "code",
   "execution_count": 33,
   "metadata": {},
   "outputs": [],
   "source": [
    "pred_X_test = pred_X_test.drop(['bike_pull4'], axis=1)"
   ]
  },
  {
   "cell_type": "code",
   "execution_count": 34,
   "metadata": {},
   "outputs": [
    {
     "data": {
      "text/html": [
       "<div>\n",
       "<style scoped>\n",
       "    .dataframe tbody tr th:only-of-type {\n",
       "        vertical-align: middle;\n",
       "    }\n",
       "\n",
       "    .dataframe tbody tr th {\n",
       "        vertical-align: top;\n",
       "    }\n",
       "\n",
       "    .dataframe thead th {\n",
       "        text-align: right;\n",
       "    }\n",
       "</style>\n",
       "<table border=\"1\" class=\"dataframe\">\n",
       "  <thead>\n",
       "    <tr style=\"text-align: right;\">\n",
       "      <th></th>\n",
       "      <th>station_id</th>\n",
       "      <th>bikes</th>\n",
       "      <th>spaces</th>\n",
       "      <th>total_docks</th>\n",
       "      <th>bike_lag</th>\n",
       "      <th>bike_lag2</th>\n",
       "      <th>bike_lag3</th>\n",
       "      <th>bike_lag4</th>\n",
       "      <th>deposit</th>\n",
       "      <th>hour</th>\n",
       "      <th>day_of_week</th>\n",
       "      <th>month</th>\n",
       "      <th>weekend</th>\n",
       "    </tr>\n",
       "    <tr>\n",
       "      <th>timestamp</th>\n",
       "      <th></th>\n",
       "      <th></th>\n",
       "      <th></th>\n",
       "      <th></th>\n",
       "      <th></th>\n",
       "      <th></th>\n",
       "      <th></th>\n",
       "      <th></th>\n",
       "      <th></th>\n",
       "      <th></th>\n",
       "      <th></th>\n",
       "      <th></th>\n",
       "      <th></th>\n",
       "    </tr>\n",
       "  </thead>\n",
       "  <tbody>\n",
       "    <tr>\n",
       "      <th>2017-06-01 00:00:01</th>\n",
       "      <td>1</td>\n",
       "      <td>0</td>\n",
       "      <td>31</td>\n",
       "      <td>31</td>\n",
       "      <td>0</td>\n",
       "      <td>0</td>\n",
       "      <td>0</td>\n",
       "      <td>0</td>\n",
       "      <td>0</td>\n",
       "      <td>0</td>\n",
       "      <td>3</td>\n",
       "      <td>6</td>\n",
       "      <td>0</td>\n",
       "    </tr>\n",
       "    <tr>\n",
       "      <th>2017-06-01 00:00:01</th>\n",
       "      <td>82</td>\n",
       "      <td>22</td>\n",
       "      <td>0</td>\n",
       "      <td>22</td>\n",
       "      <td>4</td>\n",
       "      <td>4</td>\n",
       "      <td>4</td>\n",
       "      <td>4</td>\n",
       "      <td>18</td>\n",
       "      <td>0</td>\n",
       "      <td>3</td>\n",
       "      <td>6</td>\n",
       "      <td>0</td>\n",
       "    </tr>\n",
       "    <tr>\n",
       "      <th>2017-06-01 00:00:01</th>\n",
       "      <td>81</td>\n",
       "      <td>25</td>\n",
       "      <td>15</td>\n",
       "      <td>40</td>\n",
       "      <td>0</td>\n",
       "      <td>1</td>\n",
       "      <td>0</td>\n",
       "      <td>0</td>\n",
       "      <td>25</td>\n",
       "      <td>0</td>\n",
       "      <td>3</td>\n",
       "      <td>6</td>\n",
       "      <td>0</td>\n",
       "    </tr>\n",
       "    <tr>\n",
       "      <th>2017-06-01 00:00:01</th>\n",
       "      <td>80</td>\n",
       "      <td>25</td>\n",
       "      <td>15</td>\n",
       "      <td>40</td>\n",
       "      <td>0</td>\n",
       "      <td>0</td>\n",
       "      <td>0</td>\n",
       "      <td>0</td>\n",
       "      <td>25</td>\n",
       "      <td>0</td>\n",
       "      <td>3</td>\n",
       "      <td>6</td>\n",
       "      <td>0</td>\n",
       "    </tr>\n",
       "    <tr>\n",
       "      <th>2017-06-01 00:00:01</th>\n",
       "      <td>9</td>\n",
       "      <td>0</td>\n",
       "      <td>24</td>\n",
       "      <td>24</td>\n",
       "      <td>28</td>\n",
       "      <td>28</td>\n",
       "      <td>29</td>\n",
       "      <td>30</td>\n",
       "      <td>-28</td>\n",
       "      <td>0</td>\n",
       "      <td>3</td>\n",
       "      <td>6</td>\n",
       "      <td>0</td>\n",
       "    </tr>\n",
       "  </tbody>\n",
       "</table>\n",
       "</div>"
      ],
      "text/plain": [
       "                     station_id  bikes  spaces  total_docks  bike_lag  \\\n",
       "timestamp                                                               \n",
       "2017-06-01 00:00:01           1      0      31           31         0   \n",
       "2017-06-01 00:00:01          82     22       0           22         4   \n",
       "2017-06-01 00:00:01          81     25      15           40         0   \n",
       "2017-06-01 00:00:01          80     25      15           40         0   \n",
       "2017-06-01 00:00:01           9      0      24           24        28   \n",
       "\n",
       "                     bike_lag2  bike_lag3  bike_lag4  deposit  hour  \\\n",
       "timestamp                                                             \n",
       "2017-06-01 00:00:01          0          0          0        0     0   \n",
       "2017-06-01 00:00:01          4          4          4       18     0   \n",
       "2017-06-01 00:00:01          1          0          0       25     0   \n",
       "2017-06-01 00:00:01          0          0          0       25     0   \n",
       "2017-06-01 00:00:01         28         29         30      -28     0   \n",
       "\n",
       "                     day_of_week  month  weekend  \n",
       "timestamp                                         \n",
       "2017-06-01 00:00:01            3      6        0  \n",
       "2017-06-01 00:00:01            3      6        0  \n",
       "2017-06-01 00:00:01            3      6        0  \n",
       "2017-06-01 00:00:01            3      6        0  \n",
       "2017-06-01 00:00:01            3      6        0  "
      ]
     },
     "execution_count": 34,
     "metadata": {},
     "output_type": "execute_result"
    }
   ],
   "source": [
    "pred_X_test.head()"
   ]
  },
  {
   "cell_type": "code",
   "execution_count": 35,
   "metadata": {},
   "outputs": [],
   "source": [
    "pred = model.predict(pred_X_test)"
   ]
  },
  {
   "cell_type": "code",
   "execution_count": null,
   "metadata": {},
   "outputs": [],
   "source": []
  },
  {
   "cell_type": "code",
   "execution_count": 36,
   "metadata": {},
   "outputs": [],
   "source": [
    "res = model.score(pred_X_test, pred_y_test)"
   ]
  },
  {
   "cell_type": "code",
   "execution_count": 38,
   "metadata": {},
   "outputs": [
    {
     "name": "stdout",
     "output_type": "stream",
     "text": [
      "Test score: 98.38 %\n"
     ]
    }
   ],
   "source": [
    "print(\"Test score: {0:.2f} %\".format(100 * res))  "
   ]
  },
  {
   "cell_type": "code",
   "execution_count": 24,
   "metadata": {
    "scrolled": true
   },
   "outputs": [
    {
     "name": "stdout",
     "output_type": "stream",
     "text": [
      "0\n",
      "22\n",
      "25\n",
      "26\n",
      "0\n",
      "26\n",
      "32\n",
      "1\n",
      "0\n",
      "33\n",
      "39\n",
      "0\n",
      "29\n",
      "29\n",
      "17\n",
      "20\n",
      "10\n",
      "13\n",
      "18\n",
      "0\n",
      "1\n",
      "16\n",
      "19\n",
      "18\n",
      "39\n",
      "34\n",
      "19\n",
      "22\n",
      "0\n",
      "0\n",
      "19\n",
      "39\n",
      "29\n",
      "40\n",
      "8\n",
      "40\n",
      "30\n",
      "40\n",
      "22\n",
      "28\n",
      "3\n",
      "0\n",
      "0\n",
      "29\n",
      "37\n",
      "37\n",
      "2\n",
      "29\n",
      "0\n",
      "2\n",
      "0\n",
      "30\n",
      "29\n",
      "27\n",
      "0\n",
      "4\n",
      "2\n",
      "0\n",
      "15\n",
      "29\n",
      "1\n",
      "0\n",
      "0\n",
      "28\n",
      "26\n",
      "0\n",
      "0\n",
      "0\n",
      "6\n",
      "6\n",
      "0\n",
      "0\n",
      "0\n",
      "30\n",
      "1\n",
      "0\n",
      "1\n",
      "10\n",
      "1\n",
      "12\n",
      "26\n",
      "1\n",
      "19\n",
      "8\n",
      "1\n",
      "1\n",
      "25\n",
      "2\n",
      "0\n",
      "19\n",
      "0\n",
      "0\n",
      "0\n",
      "0\n",
      "6\n",
      "7\n",
      "0\n",
      "0\n",
      "1\n",
      "20\n",
      "30\n",
      "0\n",
      "27\n",
      "40\n",
      "29\n",
      "0\n",
      "16\n",
      "1\n",
      "0\n",
      "30\n",
      "26\n"
     ]
    }
   ],
   "source": [
    "for x in pred:\n",
    "    print(int(x))"
   ]
  },
  {
   "cell_type": "code",
   "execution_count": null,
   "metadata": {},
   "outputs": [],
   "source": []
  },
  {
   "cell_type": "code",
   "execution_count": 21,
   "metadata": {},
   "outputs": [],
   "source": [
    "score = model.score(X_test, y_test)"
   ]
  },
  {
   "cell_type": "code",
   "execution_count": 22,
   "metadata": {},
   "outputs": [
    {
     "name": "stdout",
     "output_type": "stream",
     "text": [
      "Test score: 98.94 %\n"
     ]
    }
   ],
   "source": [
    "print(\"Test score: {0:.2f} %\".format(100 * score))  "
   ]
  },
  {
   "cell_type": "code",
   "execution_count": null,
   "metadata": {},
   "outputs": [],
   "source": []
  },
  {
   "cell_type": "code",
   "execution_count": 2,
   "metadata": {},
   "outputs": [],
   "source": []
  },
  {
   "cell_type": "code",
   "execution_count": 26,
   "metadata": {},
   "outputs": [],
   "source": [
    "# Save to file in the current working directory\n",
    "joblib_file = \"joblib_model_pull4.pkl\"  "
   ]
  },
  {
   "cell_type": "code",
   "execution_count": 27,
   "metadata": {},
   "outputs": [
    {
     "data": {
      "text/plain": [
       "['joblib_model_pull4.pkl']"
      ]
     },
     "execution_count": 27,
     "metadata": {},
     "output_type": "execute_result"
    }
   ],
   "source": [
    "joblib.dump(model, joblib_file)"
   ]
  },
  {
   "cell_type": "code",
   "execution_count": null,
   "metadata": {},
   "outputs": [],
   "source": [
    "#model = joblib.load(joblib_file) "
   ]
  },
  {
   "cell_type": "code",
   "execution_count": null,
   "metadata": {},
   "outputs": [],
   "source": []
  },
  {
   "cell_type": "code",
   "execution_count": 35,
   "metadata": {},
   "outputs": [
    {
     "name": "stdout",
     "output_type": "stream",
     "text": [
      "<class 'pandas.core.frame.DataFrame'>\n",
      "DatetimeIndex: 27900395 entries, 2017-06-01 00:00:01 to 2018-06-28 16:46:02\n",
      "Data columns (total 13 columns):\n",
      "station_id     int64\n",
      "bikes          int64\n",
      "spaces         int64\n",
      "total_docks    int64\n",
      "bike_lag       int64\n",
      "bike_lag2      int64\n",
      "bike_lag3      int64\n",
      "deposit        int64\n",
      "hour           int64\n",
      "day_of_week    int64\n",
      "month          int64\n",
      "weekend        int64\n",
      "bike_pull3     int64\n",
      "dtypes: int64(13)\n",
      "memory usage: 3.5 GB\n"
     ]
    }
   ],
   "source": [
    "df.info()"
   ]
  },
  {
   "cell_type": "code",
   "execution_count": 20,
   "metadata": {},
   "outputs": [],
   "source": [
    "from sklearn.externals import joblib"
   ]
  },
  {
   "cell_type": "code",
   "execution_count": 21,
   "metadata": {},
   "outputs": [
    {
     "name": "stdout",
     "output_type": "stream",
     "text": [
      "[Errno 2] No such file or directory: '/Volumes/NEILOSX'\n",
      "/Volumes/NEILOSX\n"
     ]
    }
   ],
   "source": [
    "cd /Volumes/NEILOSX"
   ]
  },
  {
   "cell_type": "code",
   "execution_count": 19,
   "metadata": {},
   "outputs": [
    {
     "name": "stdout",
     "output_type": "stream",
     "text": [
      "shell-init: error retrieving current directory: getcwd: cannot access parent directories: No such file or directory\r\n",
      "ls: .: No such file or directory\r\n"
     ]
    }
   ],
   "source": [
    "ls"
   ]
  },
  {
   "cell_type": "code",
   "execution_count": 7,
   "metadata": {},
   "outputs": [],
   "source": [
    "model_pickle = 'joblib_model_pull4.pkl'"
   ]
  },
  {
   "cell_type": "code",
   "execution_count": 1,
   "metadata": {},
   "outputs": [
    {
     "ename": "NameError",
     "evalue": "name 'joblib' is not defined",
     "output_type": "error",
     "traceback": [
      "\u001b[0;31m---------------------------------------------------------------------------\u001b[0m",
      "\u001b[0;31mNameError\u001b[0m                                 Traceback (most recent call last)",
      "\u001b[0;32m<ipython-input-1-7281891abb9c>\u001b[0m in \u001b[0;36m<module>\u001b[0;34m()\u001b[0m\n\u001b[0;32m----> 1\u001b[0;31m \u001b[0mloaded_model\u001b[0m \u001b[0;34m=\u001b[0m \u001b[0mjoblib\u001b[0m\u001b[0;34m.\u001b[0m\u001b[0mload\u001b[0m\u001b[0;34m(\u001b[0m\u001b[0mmodel_pickle\u001b[0m\u001b[0;34m)\u001b[0m\u001b[0;34m\u001b[0m\u001b[0m\n\u001b[0m\u001b[1;32m      2\u001b[0m \u001b[0;31m#IPython.display.Audio(\"Nick Cave and the Bad Seeds - We No Who U R.mp3\", autoplay=True)\u001b[0m\u001b[0;34m\u001b[0m\u001b[0;34m\u001b[0m\u001b[0m\n",
      "\u001b[0;31mNameError\u001b[0m: name 'joblib' is not defined"
     ]
    }
   ],
   "source": [
    "loaded_model = joblib.load(model_pickle) \n",
    "#IPython.display.Audio(\"Nick Cave and the Bad Seeds - We No Who U R.mp3\", autoplay=True)"
   ]
  },
  {
   "cell_type": "code",
   "execution_count": 9,
   "metadata": {},
   "outputs": [],
   "source": [
    "#import IPython\n",
    "#IPython.display.Audio(\"Nick Cave and the Bad Seeds - We No Who U R.mp3\", autoplay=True)"
   ]
  },
  {
   "cell_type": "code",
   "execution_count": null,
   "metadata": {},
   "outputs": [],
   "source": []
  },
  {
   "cell_type": "code",
   "execution_count": 10,
   "metadata": {},
   "outputs": [],
   "source": [
    "pred_X_test = pd.read_csv('validateme4 copy.csv', index_col='timestamp', parse_dates=True)"
   ]
  },
  {
   "cell_type": "code",
   "execution_count": 11,
   "metadata": {},
   "outputs": [
    {
     "data": {
      "text/html": [
       "<div>\n",
       "<style scoped>\n",
       "    .dataframe tbody tr th:only-of-type {\n",
       "        vertical-align: middle;\n",
       "    }\n",
       "\n",
       "    .dataframe tbody tr th {\n",
       "        vertical-align: top;\n",
       "    }\n",
       "\n",
       "    .dataframe thead th {\n",
       "        text-align: right;\n",
       "    }\n",
       "</style>\n",
       "<table border=\"1\" class=\"dataframe\">\n",
       "  <thead>\n",
       "    <tr style=\"text-align: right;\">\n",
       "      <th></th>\n",
       "      <th>station_id</th>\n",
       "      <th>bikes</th>\n",
       "      <th>spaces</th>\n",
       "      <th>total_docks</th>\n",
       "      <th>bike_lag</th>\n",
       "      <th>bike_lag2</th>\n",
       "      <th>bike_lag3</th>\n",
       "      <th>bike_lag4</th>\n",
       "      <th>deposit</th>\n",
       "      <th>hour</th>\n",
       "      <th>day_of_week</th>\n",
       "      <th>month</th>\n",
       "      <th>weekend</th>\n",
       "      <th>bike_pull4</th>\n",
       "    </tr>\n",
       "    <tr>\n",
       "      <th>timestamp</th>\n",
       "      <th></th>\n",
       "      <th></th>\n",
       "      <th></th>\n",
       "      <th></th>\n",
       "      <th></th>\n",
       "      <th></th>\n",
       "      <th></th>\n",
       "      <th></th>\n",
       "      <th></th>\n",
       "      <th></th>\n",
       "      <th></th>\n",
       "      <th></th>\n",
       "      <th></th>\n",
       "      <th></th>\n",
       "    </tr>\n",
       "  </thead>\n",
       "  <tbody>\n",
       "    <tr>\n",
       "      <th>2017-01-06</th>\n",
       "      <td>1</td>\n",
       "      <td>0</td>\n",
       "      <td>31</td>\n",
       "      <td>31</td>\n",
       "      <td>0</td>\n",
       "      <td>0</td>\n",
       "      <td>0</td>\n",
       "      <td>0</td>\n",
       "      <td>0</td>\n",
       "      <td>0</td>\n",
       "      <td>3</td>\n",
       "      <td>6</td>\n",
       "      <td>0</td>\n",
       "      <td>0</td>\n",
       "    </tr>\n",
       "  </tbody>\n",
       "</table>\n",
       "</div>"
      ],
      "text/plain": [
       "            station_id  bikes  spaces  total_docks  bike_lag  bike_lag2  \\\n",
       "timestamp                                                                 \n",
       "2017-01-06           1      0      31           31         0          0   \n",
       "\n",
       "            bike_lag3  bike_lag4  deposit  hour  day_of_week  month  weekend  \\\n",
       "timestamp                                                                      \n",
       "2017-01-06          0          0        0     0            3      6        0   \n",
       "\n",
       "            bike_pull4  \n",
       "timestamp               \n",
       "2017-01-06           0  "
      ]
     },
     "execution_count": 11,
     "metadata": {},
     "output_type": "execute_result"
    }
   ],
   "source": [
    "pred_X_test.head(1)"
   ]
  },
  {
   "cell_type": "code",
   "execution_count": 12,
   "metadata": {},
   "outputs": [],
   "source": [
    "pred_y_test = pred_X_test['bike_pull4']"
   ]
  },
  {
   "cell_type": "code",
   "execution_count": 13,
   "metadata": {},
   "outputs": [],
   "source": [
    "pred_X_test = pred_X_test.drop('bike_pull4', axis=1)"
   ]
  },
  {
   "cell_type": "code",
   "execution_count": 14,
   "metadata": {},
   "outputs": [],
   "source": [
    "pres1= loaded_model.predict(pred_X_test)\n"
   ]
  },
  {
   "cell_type": "code",
   "execution_count": 16,
   "metadata": {},
   "outputs": [
    {
     "name": "stdout",
     "output_type": "stream",
     "text": [
      "0\n",
      "22\n",
      "25\n",
      "26\n",
      "0\n",
      "26\n",
      "32\n",
      "1\n",
      "0\n",
      "33\n",
      "39\n",
      "0\n",
      "29\n",
      "29\n",
      "17\n",
      "20\n",
      "10\n",
      "13\n",
      "18\n",
      "0\n",
      "1\n",
      "16\n",
      "19\n",
      "18\n",
      "39\n",
      "34\n",
      "19\n",
      "22\n",
      "0\n",
      "0\n",
      "19\n",
      "39\n",
      "29\n",
      "40\n",
      "8\n",
      "40\n",
      "30\n",
      "40\n",
      "22\n",
      "28\n",
      "3\n",
      "0\n",
      "0\n",
      "29\n",
      "37\n",
      "37\n",
      "2\n",
      "29\n",
      "0\n",
      "2\n",
      "0\n",
      "30\n",
      "29\n",
      "27\n",
      "0\n",
      "4\n",
      "2\n",
      "0\n",
      "15\n",
      "29\n",
      "1\n",
      "0\n",
      "0\n",
      "28\n",
      "26\n",
      "0\n",
      "0\n",
      "0\n",
      "6\n",
      "6\n",
      "0\n",
      "0\n",
      "0\n",
      "30\n",
      "1\n",
      "0\n",
      "1\n",
      "10\n",
      "1\n",
      "12\n",
      "26\n",
      "1\n",
      "19\n",
      "8\n",
      "1\n",
      "1\n",
      "25\n",
      "2\n",
      "0\n",
      "19\n",
      "0\n",
      "0\n",
      "0\n",
      "0\n",
      "6\n",
      "7\n",
      "0\n",
      "0\n",
      "1\n",
      "20\n",
      "30\n",
      "0\n",
      "27\n",
      "40\n",
      "29\n",
      "0\n",
      "16\n",
      "1\n",
      "0\n",
      "30\n",
      "26\n"
     ]
    }
   ],
   "source": [
    "for c in pres1:\n",
    "    print(int(c))"
   ]
  },
  {
   "cell_type": "code",
   "execution_count": 16,
   "metadata": {},
   "outputs": [],
   "source": [
    "model_pickle2 = 'joblib_model_pull3.pkl'"
   ]
  },
  {
   "cell_type": "code",
   "execution_count": null,
   "metadata": {},
   "outputs": [],
   "source": [
    "loaded_model2 = joblib.load(model_pickle2) \n",
    "IPython.display.Audio(\"Nick Cave and the Bad Seeds - We No Who U R.mp3\", autoplay=True)"
   ]
  },
  {
   "cell_type": "code",
   "execution_count": 1,
   "metadata": {},
   "outputs": [
    {
     "ename": "NameError",
     "evalue": "name 'df' is not defined",
     "output_type": "error",
     "traceback": [
      "\u001b[0;31m---------------------------------------------------------------------------\u001b[0m",
      "\u001b[0;31mNameError\u001b[0m                                 Traceback (most recent call last)",
      "\u001b[0;32m<ipython-input-1-00cf07b74dcd>\u001b[0m in \u001b[0;36m<module>\u001b[0;34m()\u001b[0m\n\u001b[0;32m----> 1\u001b[0;31m \u001b[0mdf\u001b[0m\u001b[0;34m\u001b[0m\u001b[0m\n\u001b[0m",
      "\u001b[0;31mNameError\u001b[0m: name 'df' is not defined"
     ]
    }
   ],
   "source": []
  },
  {
   "cell_type": "code",
   "execution_count": 17,
   "metadata": {},
   "outputs": [
    {
     "name": "stdout",
     "output_type": "stream",
     "text": [
      "shell-init: error retrieving current directory: getcwd: cannot access parent directories: No such file or directory\r\n",
      "ls: .: No such file or directory\r\n"
     ]
    }
   ],
   "source": [
    "ls"
   ]
  },
  {
   "cell_type": "code",
   "execution_count": null,
   "metadata": {},
   "outputs": [],
   "source": []
  }
 ],
 "metadata": {
  "kernelspec": {
   "display_name": "Python 3",
   "language": "python",
   "name": "python3"
  },
  "language_info": {
   "codemirror_mode": {
    "name": "ipython",
    "version": 3
   },
   "file_extension": ".py",
   "mimetype": "text/x-python",
   "name": "python",
   "nbconvert_exporter": "python",
   "pygments_lexer": "ipython3",
   "version": "3.6.4"
  }
 },
 "nbformat": 4,
 "nbformat_minor": 2
}
