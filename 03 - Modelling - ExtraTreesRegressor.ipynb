{
 "cells": [
  {
   "cell_type": "code",
   "execution_count": 2,
   "metadata": {},
   "outputs": [],
   "source": [
    "import pandas as pd\n",
    "import numpy as np\n",
    "import matplotlib.pyplot as plt\n",
    "import seaborn as sns\n",
    "from sklearn.model_selection import train_test_split\n",
    "from sklearn.metrics import classification_report, confusion_matrix\n",
    "from sklearn.tree import DecisionTreeClassifier\n",
    "\n",
    "from sklearn.ensemble import RandomForestClassifier\n",
    "from sklearn.ensemble import RandomForestRegressor\n",
    "from sklearn.ensemble import ExtraTreesRegressor"
   ]
  },
  {
   "cell_type": "code",
   "execution_count": 3,
   "metadata": {},
   "outputs": [],
   "source": [
    "df = pd.read_csv('2018_features.csv', index_col='timestamp', parse_dates=True)"
   ]
  },
  {
   "cell_type": "code",
   "execution_count": 52,
   "metadata": {},
   "outputs": [],
   "source": [
    "df = df[df.index < '2018-06-28']"
   ]
  },
  {
   "cell_type": "code",
   "execution_count": 53,
   "metadata": {},
   "outputs": [
    {
     "name": "stdout",
     "output_type": "stream",
     "text": [
      "<class 'pandas.core.frame.DataFrame'>\n",
      "DatetimeIndex: 12658972 entries, 2018-01-01 00:00:02 to 2018-06-27 23:58:02\n",
      "Data columns (total 9 columns):\n",
      "station_id     int64\n",
      "bikes          int64\n",
      "spaces         int64\n",
      "total_docks    int64\n",
      "bike_lag       int64\n",
      "hour           int64\n",
      "day_of_week    int64\n",
      "month          int64\n",
      "deposit        int64\n",
      "dtypes: int64(9)\n",
      "memory usage: 965.8 MB\n"
     ]
    }
   ],
   "source": [
    "df.info()"
   ]
  },
  {
   "cell_type": "code",
   "execution_count": 48,
   "metadata": {},
   "outputs": [],
   "source": [
    "validation_set = df[df.index > '2018-06-28']"
   ]
  },
  {
   "cell_type": "code",
   "execution_count": 54,
   "metadata": {},
   "outputs": [
    {
     "name": "stdout",
     "output_type": "stream",
     "text": [
      "<class 'pandas.core.frame.DataFrame'>\n",
      "DatetimeIndex: 54936 entries, 2018-06-28 00:00:03 to 2018-06-28 16:46:02\n",
      "Data columns (total 9 columns):\n",
      "station_id     54936 non-null int64\n",
      "bikes          54936 non-null int64\n",
      "spaces         54936 non-null int64\n",
      "total_docks    54936 non-null int64\n",
      "bike_lag       54936 non-null int64\n",
      "hour           54936 non-null int64\n",
      "day_of_week    54936 non-null int64\n",
      "month          54936 non-null int64\n",
      "deposit        54936 non-null int64\n",
      "dtypes: int64(9)\n",
      "memory usage: 4.2 MB\n"
     ]
    }
   ],
   "source": [
    "validation_set.info()"
   ]
  },
  {
   "cell_type": "code",
   "execution_count": 89,
   "metadata": {},
   "outputs": [],
   "source": [
    "validation_set.to_csv('2017-06-25.csv')"
   ]
  },
  {
   "cell_type": "code",
   "execution_count": 90,
   "metadata": {},
   "outputs": [],
   "source": [
    "confirm = validation_set['deposit']"
   ]
  },
  {
   "cell_type": "code",
   "execution_count": 91,
   "metadata": {},
   "outputs": [],
   "source": [
    "validation_to_set = validation_set.drop('deposit', axis=1)"
   ]
  },
  {
   "cell_type": "code",
   "execution_count": null,
   "metadata": {},
   "outputs": [],
   "source": []
  },
  {
   "cell_type": "code",
   "execution_count": 55,
   "metadata": {},
   "outputs": [],
   "source": [
    "X = df.drop('deposit', axis=1)\n",
    "y = df['deposit']\n",
    "\n",
    "X_train, X_test, y_train, y_test = train_test_split(X, y, test_size=0.3, random_state=101)"
   ]
  },
  {
   "cell_type": "code",
   "execution_count": 60,
   "metadata": {},
   "outputs": [],
   "source": [
    "etr = ExtraTreesRegressor(n_estimators=50, n_jobs=-1, random_state=0)"
   ]
  },
  {
   "cell_type": "code",
   "execution_count": 61,
   "metadata": {},
   "outputs": [],
   "source": [
    "model = etr.fit(X_train, y_train)"
   ]
  },
  {
   "cell_type": "code",
   "execution_count": 62,
   "metadata": {},
   "outputs": [],
   "source": [
    "predictions = model.predict(X_test)"
   ]
  },
  {
   "cell_type": "code",
   "execution_count": 63,
   "metadata": {},
   "outputs": [
    {
     "name": "stdout",
     "output_type": "stream",
     "text": [
      "[ 0. -1.  0. ...  0.  0.  0.]\n"
     ]
    }
   ],
   "source": [
    "print(predictions)"
   ]
  },
  {
   "cell_type": "code",
   "execution_count": 64,
   "metadata": {},
   "outputs": [
    {
     "ename": "ValueError",
     "evalue": "Expected 2D array, got 1D array instead:\narray=[ 0. -1.  0. ...  0.  0.  0.].\nReshape your data either using array.reshape(-1, 1) if your data has a single feature or array.reshape(1, -1) if it contains a single sample.",
     "output_type": "error",
     "traceback": [
      "\u001b[0;31m---------------------------------------------------------------------------\u001b[0m",
      "\u001b[0;31mValueError\u001b[0m                                Traceback (most recent call last)",
      "\u001b[0;32m<ipython-input-64-e402c62221ea>\u001b[0m in \u001b[0;36m<module>\u001b[0;34m()\u001b[0m\n\u001b[0;32m----> 1\u001b[0;31m \u001b[0metr\u001b[0m\u001b[0;34m.\u001b[0m\u001b[0mscore\u001b[0m\u001b[0;34m(\u001b[0m\u001b[0mpredictions\u001b[0m\u001b[0;34m,\u001b[0m \u001b[0my_test\u001b[0m\u001b[0;34m)\u001b[0m\u001b[0;34m\u001b[0m\u001b[0m\n\u001b[0m",
      "\u001b[0;32m~/anaconda3/lib/python3.6/site-packages/sklearn/base.py\u001b[0m in \u001b[0;36mscore\u001b[0;34m(self, X, y, sample_weight)\u001b[0m\n\u001b[1;32m    384\u001b[0m \u001b[0;34m\u001b[0m\u001b[0m\n\u001b[1;32m    385\u001b[0m         \u001b[0;32mfrom\u001b[0m \u001b[0;34m.\u001b[0m\u001b[0mmetrics\u001b[0m \u001b[0;32mimport\u001b[0m \u001b[0mr2_score\u001b[0m\u001b[0;34m\u001b[0m\u001b[0m\n\u001b[0;32m--> 386\u001b[0;31m         return r2_score(y, self.predict(X), sample_weight=sample_weight,\n\u001b[0m\u001b[1;32m    387\u001b[0m                         multioutput='variance_weighted')\n\u001b[1;32m    388\u001b[0m \u001b[0;34m\u001b[0m\u001b[0m\n",
      "\u001b[0;32m~/anaconda3/lib/python3.6/site-packages/sklearn/ensemble/forest.py\u001b[0m in \u001b[0;36mpredict\u001b[0;34m(self, X)\u001b[0m\n\u001b[1;32m    679\u001b[0m         \u001b[0mcheck_is_fitted\u001b[0m\u001b[0;34m(\u001b[0m\u001b[0mself\u001b[0m\u001b[0;34m,\u001b[0m \u001b[0;34m'estimators_'\u001b[0m\u001b[0;34m)\u001b[0m\u001b[0;34m\u001b[0m\u001b[0m\n\u001b[1;32m    680\u001b[0m         \u001b[0;31m# Check data\u001b[0m\u001b[0;34m\u001b[0m\u001b[0;34m\u001b[0m\u001b[0m\n\u001b[0;32m--> 681\u001b[0;31m         \u001b[0mX\u001b[0m \u001b[0;34m=\u001b[0m \u001b[0mself\u001b[0m\u001b[0;34m.\u001b[0m\u001b[0m_validate_X_predict\u001b[0m\u001b[0;34m(\u001b[0m\u001b[0mX\u001b[0m\u001b[0;34m)\u001b[0m\u001b[0;34m\u001b[0m\u001b[0m\n\u001b[0m\u001b[1;32m    682\u001b[0m \u001b[0;34m\u001b[0m\u001b[0m\n\u001b[1;32m    683\u001b[0m         \u001b[0;31m# Assign chunk of trees to jobs\u001b[0m\u001b[0;34m\u001b[0m\u001b[0;34m\u001b[0m\u001b[0m\n",
      "\u001b[0;32m~/anaconda3/lib/python3.6/site-packages/sklearn/ensemble/forest.py\u001b[0m in \u001b[0;36m_validate_X_predict\u001b[0;34m(self, X)\u001b[0m\n\u001b[1;32m    355\u001b[0m                                  \"call `fit` before exploiting the model.\")\n\u001b[1;32m    356\u001b[0m \u001b[0;34m\u001b[0m\u001b[0m\n\u001b[0;32m--> 357\u001b[0;31m         \u001b[0;32mreturn\u001b[0m \u001b[0mself\u001b[0m\u001b[0;34m.\u001b[0m\u001b[0mestimators_\u001b[0m\u001b[0;34m[\u001b[0m\u001b[0;36m0\u001b[0m\u001b[0;34m]\u001b[0m\u001b[0;34m.\u001b[0m\u001b[0m_validate_X_predict\u001b[0m\u001b[0;34m(\u001b[0m\u001b[0mX\u001b[0m\u001b[0;34m,\u001b[0m \u001b[0mcheck_input\u001b[0m\u001b[0;34m=\u001b[0m\u001b[0;32mTrue\u001b[0m\u001b[0;34m)\u001b[0m\u001b[0;34m\u001b[0m\u001b[0m\n\u001b[0m\u001b[1;32m    358\u001b[0m \u001b[0;34m\u001b[0m\u001b[0m\n\u001b[1;32m    359\u001b[0m     \u001b[0;34m@\u001b[0m\u001b[0mproperty\u001b[0m\u001b[0;34m\u001b[0m\u001b[0m\n",
      "\u001b[0;32m~/anaconda3/lib/python3.6/site-packages/sklearn/tree/tree.py\u001b[0m in \u001b[0;36m_validate_X_predict\u001b[0;34m(self, X, check_input)\u001b[0m\n\u001b[1;32m    371\u001b[0m         \u001b[0;34m\"\"\"Validate X whenever one tries to predict, apply, predict_proba\"\"\"\u001b[0m\u001b[0;34m\u001b[0m\u001b[0m\n\u001b[1;32m    372\u001b[0m         \u001b[0;32mif\u001b[0m \u001b[0mcheck_input\u001b[0m\u001b[0;34m:\u001b[0m\u001b[0;34m\u001b[0m\u001b[0m\n\u001b[0;32m--> 373\u001b[0;31m             \u001b[0mX\u001b[0m \u001b[0;34m=\u001b[0m \u001b[0mcheck_array\u001b[0m\u001b[0;34m(\u001b[0m\u001b[0mX\u001b[0m\u001b[0;34m,\u001b[0m \u001b[0mdtype\u001b[0m\u001b[0;34m=\u001b[0m\u001b[0mDTYPE\u001b[0m\u001b[0;34m,\u001b[0m \u001b[0maccept_sparse\u001b[0m\u001b[0;34m=\u001b[0m\u001b[0;34m\"csr\"\u001b[0m\u001b[0;34m)\u001b[0m\u001b[0;34m\u001b[0m\u001b[0m\n\u001b[0m\u001b[1;32m    374\u001b[0m             if issparse(X) and (X.indices.dtype != np.intc or\n\u001b[1;32m    375\u001b[0m                                 X.indptr.dtype != np.intc):\n",
      "\u001b[0;32m~/anaconda3/lib/python3.6/site-packages/sklearn/utils/validation.py\u001b[0m in \u001b[0;36mcheck_array\u001b[0;34m(array, accept_sparse, dtype, order, copy, force_all_finite, ensure_2d, allow_nd, ensure_min_samples, ensure_min_features, warn_on_dtype, estimator)\u001b[0m\n\u001b[1;32m    439\u001b[0m                     \u001b[0;34m\"Reshape your data either using array.reshape(-1, 1) if \"\u001b[0m\u001b[0;34m\u001b[0m\u001b[0m\n\u001b[1;32m    440\u001b[0m                     \u001b[0;34m\"your data has a single feature or array.reshape(1, -1) \"\u001b[0m\u001b[0;34m\u001b[0m\u001b[0m\n\u001b[0;32m--> 441\u001b[0;31m                     \"if it contains a single sample.\".format(array))\n\u001b[0m\u001b[1;32m    442\u001b[0m             \u001b[0marray\u001b[0m \u001b[0;34m=\u001b[0m \u001b[0mnp\u001b[0m\u001b[0;34m.\u001b[0m\u001b[0matleast_2d\u001b[0m\u001b[0;34m(\u001b[0m\u001b[0marray\u001b[0m\u001b[0;34m)\u001b[0m\u001b[0;34m\u001b[0m\u001b[0m\n\u001b[1;32m    443\u001b[0m             \u001b[0;31m# To ensure that array flags are maintained\u001b[0m\u001b[0;34m\u001b[0m\u001b[0;34m\u001b[0m\u001b[0m\n",
      "\u001b[0;31mValueError\u001b[0m: Expected 2D array, got 1D array instead:\narray=[ 0. -1.  0. ...  0.  0.  0.].\nReshape your data either using array.reshape(-1, 1) if your data has a single feature or array.reshape(1, -1) if it contains a single sample."
     ]
    }
   ],
   "source": [
    "etr.score(predictions, y_test)"
   ]
  },
  {
   "cell_type": "code",
   "execution_count": null,
   "metadata": {},
   "outputs": [],
   "source": [
    "importances = etr.feature_importances_\n",
    "std = np.std([tree.feature_importances_ for tree in model.estimators_],\n",
    "             axis=0)\n",
    "indices = np.argsort(importances)[::-1][:20]"
   ]
  },
  {
   "cell_type": "code",
   "execution_count": null,
   "metadata": {},
   "outputs": [],
   "source": [
    "print(etr.feature_importances_)"
   ]
  },
  {
   "cell_type": "code",
   "execution_count": null,
   "metadata": {},
   "outputs": [],
   "source": [
    "X_test.columns"
   ]
  },
  {
   "cell_type": "code",
   "execution_count": null,
   "metadata": {},
   "outputs": [],
   "source": [
    "\n",
    "\n",
    "plt.figure(figsize=(14,10))\n",
    "plt.title(\"Feature importances\")\n",
    "plt.bar(range(len(indices)), importances[indices],\n",
    "       color=\"b\", yerr=std[indices], align=\"center\")\n",
    "plt.xticks(range(len(indices)), indices)\n",
    "plt.xlim([-1, len(indices)])\n",
    "plt.show()\n",
    "\n"
   ]
  },
  {
   "cell_type": "code",
   "execution_count": 33,
   "metadata": {},
   "outputs": [],
   "source": [
    "from sklearn.model_selection import  cross_val_score"
   ]
  },
  {
   "cell_type": "code",
   "execution_count": 34,
   "metadata": {},
   "outputs": [],
   "source": [
    "results = cross_val_score(etr, X_train, y_train, cv=5, scoring='r2')"
   ]
  },
  {
   "cell_type": "code",
   "execution_count": 35,
   "metadata": {},
   "outputs": [
    {
     "name": "stdout",
     "output_type": "stream",
     "text": [
      "ExtraTrees score: 0.9997 (0.0002)\n"
     ]
    }
   ],
   "source": [
    "print(\"ExtraTrees score: %.4f (%.4f)\" % (results.mean(), results.std()))"
   ]
  },
  {
   "cell_type": "code",
   "execution_count": null,
   "metadata": {},
   "outputs": [],
   "source": []
  },
  {
   "cell_type": "code",
   "execution_count": 22,
   "metadata": {},
   "outputs": [
    {
     "data": {
      "text/plain": [
       "array([-4.,  0., -1.])"
      ]
     },
     "execution_count": 22,
     "metadata": {},
     "output_type": "execute_result"
    }
   ],
   "source": [
    "etr.predict(validate_model)"
   ]
  },
  {
   "cell_type": "code",
   "execution_count": 39,
   "metadata": {},
   "outputs": [
    {
     "data": {
      "text/html": [
       "<div>\n",
       "<style scoped>\n",
       "    .dataframe tbody tr th:only-of-type {\n",
       "        vertical-align: middle;\n",
       "    }\n",
       "\n",
       "    .dataframe tbody tr th {\n",
       "        vertical-align: top;\n",
       "    }\n",
       "\n",
       "    .dataframe thead th {\n",
       "        text-align: right;\n",
       "    }\n",
       "</style>\n",
       "<table border=\"1\" class=\"dataframe\">\n",
       "  <thead>\n",
       "    <tr style=\"text-align: right;\">\n",
       "      <th></th>\n",
       "      <th>station_id</th>\n",
       "      <th>bikes</th>\n",
       "      <th>spaces</th>\n",
       "      <th>total_docks</th>\n",
       "      <th>bike_lag</th>\n",
       "      <th>hour</th>\n",
       "      <th>day_of_week</th>\n",
       "      <th>month</th>\n",
       "      <th>deposit</th>\n",
       "    </tr>\n",
       "  </thead>\n",
       "  <tbody>\n",
       "    <tr>\n",
       "      <th>station_id</th>\n",
       "      <td>915.724505</td>\n",
       "      <td>42.961003</td>\n",
       "      <td>79.118050</td>\n",
       "      <td>122.855322</td>\n",
       "      <td>42.961085</td>\n",
       "      <td>-0.019525</td>\n",
       "      <td>0.030966</td>\n",
       "      <td>2.049063</td>\n",
       "      <td>-0.000008</td>\n",
       "    </tr>\n",
       "    <tr>\n",
       "      <th>bikes</th>\n",
       "      <td>42.961003</td>\n",
       "      <td>125.941056</td>\n",
       "      <td>-103.880218</td>\n",
       "      <td>22.133717</td>\n",
       "      <td>125.741405</td>\n",
       "      <td>-1.596171</td>\n",
       "      <td>0.503723</td>\n",
       "      <td>-0.799205</td>\n",
       "      <td>0.199643</td>\n",
       "    </tr>\n",
       "    <tr>\n",
       "      <th>spaces</th>\n",
       "      <td>79.118050</td>\n",
       "      <td>-103.880218</td>\n",
       "      <td>138.540129</td>\n",
       "      <td>34.093692</td>\n",
       "      <td>-103.680775</td>\n",
       "      <td>1.575717</td>\n",
       "      <td>-0.477138</td>\n",
       "      <td>1.069336</td>\n",
       "      <td>-0.199435</td>\n",
       "    </tr>\n",
       "    <tr>\n",
       "      <th>total_docks</th>\n",
       "      <td>122.855322</td>\n",
       "      <td>22.133717</td>\n",
       "      <td>34.093692</td>\n",
       "      <td>56.485592</td>\n",
       "      <td>22.133540</td>\n",
       "      <td>-0.006431</td>\n",
       "      <td>0.007785</td>\n",
       "      <td>0.274432</td>\n",
       "      <td>0.000178</td>\n",
       "    </tr>\n",
       "    <tr>\n",
       "      <th>bike_lag</th>\n",
       "      <td>42.961085</td>\n",
       "      <td>125.741405</td>\n",
       "      <td>-103.680775</td>\n",
       "      <td>22.133540</td>\n",
       "      <td>125.941060</td>\n",
       "      <td>-1.618719</td>\n",
       "      <td>0.503700</td>\n",
       "      <td>-0.799111</td>\n",
       "      <td>-0.199637</td>\n",
       "    </tr>\n",
       "    <tr>\n",
       "      <th>hour</th>\n",
       "      <td>-0.019525</td>\n",
       "      <td>-1.596171</td>\n",
       "      <td>1.575717</td>\n",
       "      <td>-0.006431</td>\n",
       "      <td>-1.618719</td>\n",
       "      <td>47.910000</td>\n",
       "      <td>0.098160</td>\n",
       "      <td>-0.032127</td>\n",
       "      <td>0.022565</td>\n",
       "    </tr>\n",
       "    <tr>\n",
       "      <th>day_of_week</th>\n",
       "      <td>0.030966</td>\n",
       "      <td>0.503723</td>\n",
       "      <td>-0.477138</td>\n",
       "      <td>0.007785</td>\n",
       "      <td>0.503700</td>\n",
       "      <td>0.098160</td>\n",
       "      <td>4.010077</td>\n",
       "      <td>0.056088</td>\n",
       "      <td>0.000027</td>\n",
       "    </tr>\n",
       "    <tr>\n",
       "      <th>month</th>\n",
       "      <td>2.049063</td>\n",
       "      <td>-0.799205</td>\n",
       "      <td>1.069336</td>\n",
       "      <td>0.274432</td>\n",
       "      <td>-0.799111</td>\n",
       "      <td>-0.032127</td>\n",
       "      <td>0.056088</td>\n",
       "      <td>2.979750</td>\n",
       "      <td>-0.000091</td>\n",
       "    </tr>\n",
       "    <tr>\n",
       "      <th>deposit</th>\n",
       "      <td>-0.000008</td>\n",
       "      <td>0.199643</td>\n",
       "      <td>-0.199435</td>\n",
       "      <td>0.000178</td>\n",
       "      <td>-0.199637</td>\n",
       "      <td>0.022565</td>\n",
       "      <td>0.000027</td>\n",
       "      <td>-0.000091</td>\n",
       "      <td>0.399280</td>\n",
       "    </tr>\n",
       "  </tbody>\n",
       "</table>\n",
       "</div>"
      ],
      "text/plain": [
       "             station_id       bikes      spaces  total_docks    bike_lag  \\\n",
       "station_id   915.724505   42.961003   79.118050   122.855322   42.961085   \n",
       "bikes         42.961003  125.941056 -103.880218    22.133717  125.741405   \n",
       "spaces        79.118050 -103.880218  138.540129    34.093692 -103.680775   \n",
       "total_docks  122.855322   22.133717   34.093692    56.485592   22.133540   \n",
       "bike_lag      42.961085  125.741405 -103.680775    22.133540  125.941060   \n",
       "hour          -0.019525   -1.596171    1.575717    -0.006431   -1.618719   \n",
       "day_of_week    0.030966    0.503723   -0.477138     0.007785    0.503700   \n",
       "month          2.049063   -0.799205    1.069336     0.274432   -0.799111   \n",
       "deposit       -0.000008    0.199643   -0.199435     0.000178   -0.199637   \n",
       "\n",
       "                  hour  day_of_week     month   deposit  \n",
       "station_id   -0.019525     0.030966  2.049063 -0.000008  \n",
       "bikes        -1.596171     0.503723 -0.799205  0.199643  \n",
       "spaces        1.575717    -0.477138  1.069336 -0.199435  \n",
       "total_docks  -0.006431     0.007785  0.274432  0.000178  \n",
       "bike_lag     -1.618719     0.503700 -0.799111 -0.199637  \n",
       "hour         47.910000     0.098160 -0.032127  0.022565  \n",
       "day_of_week   0.098160     4.010077  0.056088  0.000027  \n",
       "month        -0.032127     0.056088  2.979750 -0.000091  \n",
       "deposit       0.022565     0.000027 -0.000091  0.399280  "
      ]
     },
     "execution_count": 39,
     "metadata": {},
     "output_type": "execute_result"
    }
   ],
   "source": [
    "df.cov()"
   ]
  },
  {
   "cell_type": "code",
   "execution_count": 41,
   "metadata": {},
   "outputs": [
    {
     "data": {
      "text/html": [
       "<div>\n",
       "<style scoped>\n",
       "    .dataframe tbody tr th:only-of-type {\n",
       "        vertical-align: middle;\n",
       "    }\n",
       "\n",
       "    .dataframe tbody tr th {\n",
       "        vertical-align: top;\n",
       "    }\n",
       "\n",
       "    .dataframe thead th {\n",
       "        text-align: right;\n",
       "    }\n",
       "</style>\n",
       "<table border=\"1\" class=\"dataframe\">\n",
       "  <thead>\n",
       "    <tr style=\"text-align: right;\">\n",
       "      <th></th>\n",
       "      <th>station_id</th>\n",
       "      <th>bikes</th>\n",
       "      <th>spaces</th>\n",
       "      <th>total_docks</th>\n",
       "      <th>bike_lag</th>\n",
       "      <th>hour</th>\n",
       "      <th>day_of_week</th>\n",
       "      <th>month</th>\n",
       "      <th>deposit</th>\n",
       "    </tr>\n",
       "  </thead>\n",
       "  <tbody>\n",
       "    <tr>\n",
       "      <th>station_id</th>\n",
       "      <td>1.000000e+00</td>\n",
       "      <td>0.126505</td>\n",
       "      <td>0.222129</td>\n",
       "      <td>0.540185</td>\n",
       "      <td>0.126505</td>\n",
       "      <td>-0.000093</td>\n",
       "      <td>0.000511</td>\n",
       "      <td>0.039227</td>\n",
       "      <td>-4.151649e-07</td>\n",
       "    </tr>\n",
       "    <tr>\n",
       "      <th>bikes</th>\n",
       "      <td>1.265052e-01</td>\n",
       "      <td>1.000000</td>\n",
       "      <td>-0.786432</td>\n",
       "      <td>0.262423</td>\n",
       "      <td>0.998415</td>\n",
       "      <td>-0.020549</td>\n",
       "      <td>0.022415</td>\n",
       "      <td>-0.041256</td>\n",
       "      <td>2.815349e-02</td>\n",
       "    </tr>\n",
       "    <tr>\n",
       "      <th>spaces</th>\n",
       "      <td>2.221291e-01</td>\n",
       "      <td>-0.786432</td>\n",
       "      <td>1.000000</td>\n",
       "      <td>0.385405</td>\n",
       "      <td>-0.784922</td>\n",
       "      <td>0.019341</td>\n",
       "      <td>-0.020243</td>\n",
       "      <td>0.052630</td>\n",
       "      <td>-2.681481e-02</td>\n",
       "    </tr>\n",
       "    <tr>\n",
       "      <th>total_docks</th>\n",
       "      <td>5.401852e-01</td>\n",
       "      <td>0.262423</td>\n",
       "      <td>0.385405</td>\n",
       "      <td>1.000000</td>\n",
       "      <td>0.262421</td>\n",
       "      <td>-0.000124</td>\n",
       "      <td>0.000517</td>\n",
       "      <td>0.021153</td>\n",
       "      <td>3.754820e-05</td>\n",
       "    </tr>\n",
       "    <tr>\n",
       "      <th>bike_lag</th>\n",
       "      <td>1.265054e-01</td>\n",
       "      <td>0.998415</td>\n",
       "      <td>-0.784922</td>\n",
       "      <td>0.262421</td>\n",
       "      <td>1.000000</td>\n",
       "      <td>-0.020839</td>\n",
       "      <td>0.022414</td>\n",
       "      <td>-0.041251</td>\n",
       "      <td>-2.815259e-02</td>\n",
       "    </tr>\n",
       "    <tr>\n",
       "      <th>hour</th>\n",
       "      <td>-9.321655e-05</td>\n",
       "      <td>-0.020549</td>\n",
       "      <td>0.019341</td>\n",
       "      <td>-0.000124</td>\n",
       "      <td>-0.020839</td>\n",
       "      <td>1.000000</td>\n",
       "      <td>0.007082</td>\n",
       "      <td>-0.002689</td>\n",
       "      <td>5.159149e-03</td>\n",
       "    </tr>\n",
       "    <tr>\n",
       "      <th>day_of_week</th>\n",
       "      <td>5.110012e-04</td>\n",
       "      <td>0.022415</td>\n",
       "      <td>-0.020243</td>\n",
       "      <td>0.000517</td>\n",
       "      <td>0.022414</td>\n",
       "      <td>0.007082</td>\n",
       "      <td>1.000000</td>\n",
       "      <td>0.016226</td>\n",
       "      <td>2.162989e-05</td>\n",
       "    </tr>\n",
       "    <tr>\n",
       "      <th>month</th>\n",
       "      <td>3.922681e-02</td>\n",
       "      <td>-0.041256</td>\n",
       "      <td>0.052630</td>\n",
       "      <td>0.021153</td>\n",
       "      <td>-0.041251</td>\n",
       "      <td>-0.002689</td>\n",
       "      <td>0.016226</td>\n",
       "      <td>1.000000</td>\n",
       "      <td>-8.310203e-05</td>\n",
       "    </tr>\n",
       "    <tr>\n",
       "      <th>deposit</th>\n",
       "      <td>-4.151649e-07</td>\n",
       "      <td>0.028153</td>\n",
       "      <td>-0.026815</td>\n",
       "      <td>0.000038</td>\n",
       "      <td>-0.028153</td>\n",
       "      <td>0.005159</td>\n",
       "      <td>0.000022</td>\n",
       "      <td>-0.000083</td>\n",
       "      <td>1.000000e+00</td>\n",
       "    </tr>\n",
       "  </tbody>\n",
       "</table>\n",
       "</div>"
      ],
      "text/plain": [
       "               station_id     bikes    spaces  total_docks  bike_lag  \\\n",
       "station_id   1.000000e+00  0.126505  0.222129     0.540185  0.126505   \n",
       "bikes        1.265052e-01  1.000000 -0.786432     0.262423  0.998415   \n",
       "spaces       2.221291e-01 -0.786432  1.000000     0.385405 -0.784922   \n",
       "total_docks  5.401852e-01  0.262423  0.385405     1.000000  0.262421   \n",
       "bike_lag     1.265054e-01  0.998415 -0.784922     0.262421  1.000000   \n",
       "hour        -9.321655e-05 -0.020549  0.019341    -0.000124 -0.020839   \n",
       "day_of_week  5.110012e-04  0.022415 -0.020243     0.000517  0.022414   \n",
       "month        3.922681e-02 -0.041256  0.052630     0.021153 -0.041251   \n",
       "deposit     -4.151649e-07  0.028153 -0.026815     0.000038 -0.028153   \n",
       "\n",
       "                 hour  day_of_week     month       deposit  \n",
       "station_id  -0.000093     0.000511  0.039227 -4.151649e-07  \n",
       "bikes       -0.020549     0.022415 -0.041256  2.815349e-02  \n",
       "spaces       0.019341    -0.020243  0.052630 -2.681481e-02  \n",
       "total_docks -0.000124     0.000517  0.021153  3.754820e-05  \n",
       "bike_lag    -0.020839     0.022414 -0.041251 -2.815259e-02  \n",
       "hour         1.000000     0.007082 -0.002689  5.159149e-03  \n",
       "day_of_week  0.007082     1.000000  0.016226  2.162989e-05  \n",
       "month       -0.002689     0.016226  1.000000 -8.310203e-05  \n",
       "deposit      0.005159     0.000022 -0.000083  1.000000e+00  "
      ]
     },
     "execution_count": 41,
     "metadata": {},
     "output_type": "execute_result"
    }
   ],
   "source": [
    "df.corr()"
   ]
  },
  {
   "cell_type": "code",
   "execution_count": 42,
   "metadata": {},
   "outputs": [
    {
     "data": {
      "text/plain": [
       "station_id     26.151989\n",
       "bikes           9.515925\n",
       "spaces          9.921847\n",
       "total_docks     6.342524\n",
       "bike_lag        9.515925\n",
       "hour            5.999742\n",
       "day_of_week     1.725882\n",
       "month           1.520204\n",
       "deposit         0.195054\n",
       "dtype: float64"
      ]
     },
     "execution_count": 42,
     "metadata": {},
     "output_type": "execute_result"
    }
   ],
   "source": [
    "df.mad()"
   ]
  },
  {
   "cell_type": "code",
   "execution_count": null,
   "metadata": {},
   "outputs": [],
   "source": []
  },
  {
   "cell_type": "code",
   "execution_count": 92,
   "metadata": {},
   "outputs": [],
   "source": [
    "well = model.predict(validation_to_set)"
   ]
  },
  {
   "cell_type": "code",
   "execution_count": null,
   "metadata": {},
   "outputs": [],
   "source": []
  },
  {
   "cell_type": "code",
   "execution_count": 76,
   "metadata": {},
   "outputs": [
    {
     "data": {
      "text/plain": [
       "pandas.core.series.Series"
      ]
     },
     "execution_count": 76,
     "metadata": {},
     "output_type": "execute_result"
    }
   ],
   "source": [
    "type(confirm)"
   ]
  },
  {
   "cell_type": "code",
   "execution_count": 83,
   "metadata": {},
   "outputs": [
    {
     "data": {
      "text/plain": [
       "numpy.ndarray"
      ]
     },
     "execution_count": 83,
     "metadata": {},
     "output_type": "execute_result"
    }
   ],
   "source": [
    "type(well)"
   ]
  },
  {
   "cell_type": "code",
   "execution_count": 94,
   "metadata": {},
   "outputs": [],
   "source": [
    "well = pd.DataFrame(well, dtype='str', index=well)"
   ]
  },
  {
   "cell_type": "code",
   "execution_count": 107,
   "metadata": {},
   "outputs": [],
   "source": [
    "well.to_csv('well.csv')"
   ]
  },
  {
   "cell_type": "code",
   "execution_count": null,
   "metadata": {},
   "outputs": [],
   "source": []
  },
  {
   "cell_type": "code",
   "execution_count": 101,
   "metadata": {},
   "outputs": [],
   "source": [
    "vs = pd.read_csv('b4bedtest.csv', index_col='timestamp', parse_dates=True)"
   ]
  },
  {
   "cell_type": "code",
   "execution_count": 102,
   "metadata": {},
   "outputs": [],
   "source": [
    "confirm = vs['deposit']"
   ]
  },
  {
   "cell_type": "code",
   "execution_count": 103,
   "metadata": {},
   "outputs": [],
   "source": [
    "validation_to_set = vs.drop('deposit', axis=1)"
   ]
  },
  {
   "cell_type": "code",
   "execution_count": 104,
   "metadata": {},
   "outputs": [],
   "source": [
    "predictions = model.predict(validation_to_set)"
   ]
  },
  {
   "cell_type": "code",
   "execution_count": 106,
   "metadata": {},
   "outputs": [],
   "source": [
    "well = pd.DataFrame(predictions, dtype='str', index=predictions)"
   ]
  },
  {
   "cell_type": "code",
   "execution_count": null,
   "metadata": {},
   "outputs": [],
   "source": []
  }
 ],
 "metadata": {
  "kernelspec": {
   "display_name": "Python 3",
   "language": "python",
   "name": "python3"
  },
  "language_info": {
   "codemirror_mode": {
    "name": "ipython",
    "version": 3
   },
   "file_extension": ".py",
   "mimetype": "text/x-python",
   "name": "python",
   "nbconvert_exporter": "python",
   "pygments_lexer": "ipython3",
   "version": "3.6.4"
  }
 },
 "nbformat": 4,
 "nbformat_minor": 2
}
