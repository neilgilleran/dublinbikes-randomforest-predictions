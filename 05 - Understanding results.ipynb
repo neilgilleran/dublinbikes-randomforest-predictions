{
 "cells": [
  {
   "cell_type": "code",
   "execution_count": 1,
   "metadata": {},
   "outputs": [],
   "source": [
    "from sklearn.metrics import mean_squared_error\n",
    "import pandas as pd\n",
    "import numpy as np\n",
    "import matplotlib.pyplot as plt\n",
    "import seaborn as sns"
   ]
  },
  {
   "cell_type": "code",
   "execution_count": 127,
   "metadata": {},
   "outputs": [
    {
     "name": "stderr",
     "output_type": "stream",
     "text": [
      "/Users/neil/anaconda3/lib/python3.6/site-packages/IPython/core/interactiveshell.py:2728: DtypeWarning: Columns (20) have mixed types. Specify dtype option on import or set low_memory=False.\n",
      "  interactivity=interactivity, compiler=compiler, result=result)\n"
     ]
    }
   ],
   "source": [
    "df = pd.read_csv('results.csv', index_col='timestamp', parse_dates=True)"
   ]
  },
  {
   "cell_type": "code",
   "execution_count": 130,
   "metadata": {},
   "outputs": [
    {
     "data": {
      "text/plain": [
       "Index(['station_id', 'bikes', 'spaces', 'total_docks', 'hour', 'day_of_week',\n",
       "       'month', 'weekend', 'bike_pull', 'bike_pull2', 'bike_pull3',\n",
       "       'bike_pull4', 'rf', 'rf2', 'rf3', 'rf4', 'std', 'std2', 'std3', 'std4',\n",
       "       'delta', 'delta2', 'delta3', 'delta4'],\n",
       "      dtype='object')"
      ]
     },
     "execution_count": 130,
     "metadata": {},
     "output_type": "execute_result"
    }
   ],
   "source": [
    "df.columns"
   ]
  },
  {
   "cell_type": "code",
   "execution_count": 134,
   "metadata": {},
   "outputs": [],
   "source": [
    "df['time'] = pd.to_datetime(df.index).time"
   ]
  },
  {
   "cell_type": "code",
   "execution_count": 137,
   "metadata": {},
   "outputs": [
    {
     "name": "stdout",
     "output_type": "stream",
     "text": [
      "<class 'pandas.core.frame.DataFrame'>\n",
      "DatetimeIndex: 77609 entries, 2018-08-02 00:08:00 to NaT\n",
      "Data columns (total 25 columns):\n",
      "station_id     77608 non-null float64\n",
      "bikes          77608 non-null float64\n",
      "spaces         77608 non-null float64\n",
      "total_docks    77608 non-null float64\n",
      "hour           77608 non-null float64\n",
      "day_of_week    77608 non-null float64\n",
      "month          77608 non-null float64\n",
      "weekend        77608 non-null float64\n",
      "bike_pull      77608 non-null float64\n",
      "bike_pull2     77608 non-null float64\n",
      "bike_pull3     77608 non-null float64\n",
      "bike_pull4     77608 non-null float64\n",
      "rf             77608 non-null float64\n",
      "rf2            77608 non-null float64\n",
      "rf3            77608 non-null float64\n",
      "rf4            77608 non-null float64\n",
      "std            77608 non-null float64\n",
      "std2           77608 non-null float64\n",
      "std3           77608 non-null float64\n",
      "std4           77609 non-null object\n",
      "delta          77609 non-null float64\n",
      "delta2         77609 non-null float64\n",
      "delta3         77609 non-null float64\n",
      "delta4         77609 non-null float64\n",
      "time           77608 non-null object\n",
      "dtypes: float64(23), object(2)\n",
      "memory usage: 15.4+ MB\n"
     ]
    }
   ],
   "source": [
    "df.info()"
   ]
  },
  {
   "cell_type": "code",
   "execution_count": null,
   "metadata": {},
   "outputs": [],
   "source": []
  },
  {
   "cell_type": "code",
   "execution_count": null,
   "metadata": {},
   "outputs": [],
   "source": []
  },
  {
   "cell_type": "code",
   "execution_count": null,
   "metadata": {},
   "outputs": [],
   "source": []
  },
  {
   "cell_type": "code",
   "execution_count": null,
   "metadata": {},
   "outputs": [],
   "source": []
  },
  {
   "cell_type": "code",
   "execution_count": 206,
   "metadata": {},
   "outputs": [],
   "source": [
    "pivot_mean = pd.read_csv('pivot_means.csv', index_col='Hour:Minute')"
   ]
  },
  {
   "cell_type": "code",
   "execution_count": 207,
   "metadata": {},
   "outputs": [
    {
     "data": {
      "text/plain": [
       "Index(['1', '2', '3', '4', '5', '6', '7', '8', '9', '10',\n",
       "       ...\n",
       "       '102', '103', '104', '105', '106', '107', '108', '110', '111', '112'],\n",
       "      dtype='object', length=111)"
      ]
     },
     "execution_count": 207,
     "metadata": {},
     "output_type": "execute_result"
    }
   ],
   "source": [
    "pivot_mean.columns"
   ]
  },
  {
   "cell_type": "code",
   "execution_count": 208,
   "metadata": {},
   "outputs": [],
   "source": [
    "pivot_mean_hour = pd.read_csv('pivot_mean_hour.csv')"
   ]
  },
  {
   "cell_type": "code",
   "execution_count": 209,
   "metadata": {},
   "outputs": [
    {
     "data": {
      "text/plain": [
       "Index(['hour', '1', '2', '3', '4', '5', '6', '7', '8', '9',\n",
       "       ...\n",
       "       '103', '104', '105', '106', '107', '108', '110', '111', '112', 'all'],\n",
       "      dtype='object', length=113)"
      ]
     },
     "execution_count": 209,
     "metadata": {},
     "output_type": "execute_result"
    }
   ],
   "source": [
    "pivot_mean_hour.columns"
   ]
  },
  {
   "cell_type": "code",
   "execution_count": null,
   "metadata": {},
   "outputs": [],
   "source": []
  },
  {
   "cell_type": "code",
   "execution_count": null,
   "metadata": {},
   "outputs": [],
   "source": []
  },
  {
   "cell_type": "code",
   "execution_count": 88,
   "metadata": {},
   "outputs": [],
   "source": [
    "pivot_mean_thurs = pd.read_csv('pivot_means_thursdays.csv')"
   ]
  },
  {
   "cell_type": "code",
   "execution_count": 89,
   "metadata": {},
   "outputs": [],
   "source": [
    "pivot_mean_thurs_aug = pd.read_csv('pivot_means_thursdays_aug.csv')"
   ]
  },
  {
   "cell_type": "code",
   "execution_count": null,
   "metadata": {},
   "outputs": [],
   "source": []
  },
  {
   "cell_type": "code",
   "execution_count": 4,
   "metadata": {},
   "outputs": [
    {
     "data": {
      "text/plain": [
       "0.5314914892794559"
      ]
     },
     "execution_count": 4,
     "metadata": {},
     "output_type": "execute_result"
    }
   ],
   "source": [
    "mean_squared_error(df['bike_pull'], df['rf'])\n"
   ]
  },
  {
   "cell_type": "code",
   "execution_count": 5,
   "metadata": {},
   "outputs": [
    {
     "data": {
      "text/plain": [
       "3.169573429285641"
      ]
     },
     "execution_count": 5,
     "metadata": {},
     "output_type": "execute_result"
    }
   ],
   "source": [
    "mean_squared_error(df['bike_pull2'], df['rf2'])\n"
   ]
  },
  {
   "cell_type": "code",
   "execution_count": 6,
   "metadata": {},
   "outputs": [
    {
     "data": {
      "text/plain": [
       "4.774271158901145"
      ]
     },
     "execution_count": 6,
     "metadata": {},
     "output_type": "execute_result"
    }
   ],
   "source": [
    "mean_squared_error(df['bike_pull3'], df['rf3'])\n"
   ]
  },
  {
   "cell_type": "code",
   "execution_count": 7,
   "metadata": {},
   "outputs": [
    {
     "data": {
      "text/plain": [
       "2.9132486676631277"
      ]
     },
     "execution_count": 7,
     "metadata": {},
     "output_type": "execute_result"
    }
   ],
   "source": [
    "mean_squared_error(df['bike_pull4'], df['rf4'])\n"
   ]
  },
  {
   "cell_type": "code",
   "execution_count": null,
   "metadata": {},
   "outputs": [],
   "source": []
  },
  {
   "cell_type": "code",
   "execution_count": 11,
   "metadata": {},
   "outputs": [],
   "source": [
    "from sklearn.metrics import classification_report"
   ]
  },
  {
   "cell_type": "code",
   "execution_count": null,
   "metadata": {},
   "outputs": [],
   "source": []
  },
  {
   "cell_type": "code",
   "execution_count": null,
   "metadata": {},
   "outputs": [],
   "source": []
  },
  {
   "cell_type": "code",
   "execution_count": null,
   "metadata": {},
   "outputs": [],
   "source": []
  },
  {
   "cell_type": "code",
   "execution_count": null,
   "metadata": {},
   "outputs": [],
   "source": []
  },
  {
   "cell_type": "code",
   "execution_count": null,
   "metadata": {},
   "outputs": [],
   "source": []
  },
  {
   "cell_type": "code",
   "execution_count": 8,
   "metadata": {},
   "outputs": [
    {
     "data": {
      "text/plain": [
       "<bound method DataFrame.var of                      station_id  bikes  spaces  total_docks  hour  \\\n",
       "timestamp                                                           \n",
       "2018-02-08 00:08:00          89      2      38           40     0   \n",
       "2018-02-08 00:08:00          83     36       4           40     0   \n",
       "2018-02-08 00:08:00          24     17       3           20     0   \n",
       "2018-02-08 00:08:00          61      2      23           25     0   \n",
       "2018-02-08 00:08:00         104      8      32           40     0   \n",
       "2018-02-08 00:08:00          22      8      12           20     0   \n",
       "2018-02-08 00:08:00         110     28      12           40     0   \n",
       "2018-02-08 00:08:00          21      0      30           30     0   \n",
       "2018-02-08 00:08:00          92     35       5           40     0   \n",
       "2018-02-08 00:08:00          43     20      10           30     0   \n",
       "2018-02-08 00:08:00          93     40       0           40     0   \n",
       "2018-02-08 00:08:00          46      7      19           35     0   \n",
       "2018-02-08 00:08:00          67     26      14           40     0   \n",
       "2018-02-08 00:08:00          64      0      40           40     0   \n",
       "2018-02-08 00:08:00          98      3      37           40     0   \n",
       "2018-02-08 00:08:00          49      4      36           40     0   \n",
       "2018-02-08 00:08:00          70      4      24           28     0   \n",
       "2018-02-08 00:08:00          15      9       7           16     0   \n",
       "2018-02-08 00:08:00           4      0      20           20     0   \n",
       "2018-02-08 00:08:00          41      1      19           20     0   \n",
       "2018-02-08 00:08:00          75     23      17           40     0   \n",
       "2018-02-08 00:08:00          69      0      40           40     0   \n",
       "2018-02-08 00:08:00          52      0      32           32     0   \n",
       "2018-02-08 00:08:00           1     14      17           31     0   \n",
       "2018-02-08 00:08:00          30      4      16           20     0   \n",
       "2018-02-08 00:08:00           9      8      16           24     0   \n",
       "2018-02-08 00:08:00          72     31       0           31     0   \n",
       "2018-02-08 00:08:00          54      3      30           33     0   \n",
       "2018-02-08 00:08:00         102     18      22           40     0   \n",
       "2018-02-08 00:08:00          42     29       1           30     0   \n",
       "...                         ...    ...     ...          ...   ...   \n",
       "2018-02-08 23:50:00          95     31       9           40    23   \n",
       "2018-02-08 23:50:00          84     28       2           30    23   \n",
       "2018-02-08 23:50:00          94     32       8           40    23   \n",
       "2018-02-08 23:50:00           6      2      18           20    23   \n",
       "2018-02-08 23:50:00          30      3      17           20    23   \n",
       "2018-02-08 23:50:00          87     34       4           38    23   \n",
       "2018-02-08 23:50:00          29     16      13           29    23   \n",
       "2018-02-08 23:50:00          63      1      34           35    23   \n",
       "2018-02-08 23:50:00         110     40       0           40    23   \n",
       "2018-02-08 23:50:00          57      0      23           23    23   \n",
       "2018-02-08 23:50:00          34     20       9           30    23   \n",
       "2018-02-08 23:50:00          24      8      12           20    23   \n",
       "2018-02-08 23:50:00          52      2      30           32    23   \n",
       "2018-02-08 23:50:00          88     30       0           30    23   \n",
       "2018-02-08 23:50:00           2     19       1           20    23   \n",
       "2018-02-08 23:50:00          31      2      18           20    23   \n",
       "2018-02-08 23:50:00          38     25      15           40    23   \n",
       "2018-02-08 23:50:00         100     24       1           25    23   \n",
       "2018-02-08 23:50:00          32      1      29           30    23   \n",
       "2018-02-08 23:50:00          11      0      30           30    23   \n",
       "2018-02-08 23:50:00          67     15      25           40    23   \n",
       "2018-02-08 23:50:00          58      0      40           40    23   \n",
       "2018-02-08 23:50:00          17      1      19           20    23   \n",
       "2018-02-08 23:50:00          36      4      36           40    23   \n",
       "2018-02-08 23:50:00          44     26       4           30    23   \n",
       "2018-02-08 23:50:00          21      4      26           30    23   \n",
       "2018-02-08 23:50:00          93     39       0           40    23   \n",
       "2018-02-08 23:50:00          99      0      30           30    23   \n",
       "2018-02-08 23:50:00          40      2      19           21    23   \n",
       "2018-02-08 23:50:00           8      0      30           30    23   \n",
       "\n",
       "                     day_of_week  month  weekend  bike_pull  bike_pull2  \\\n",
       "timestamp                                                                 \n",
       "2018-02-08 00:08:00            3      2        0          2           2   \n",
       "2018-02-08 00:08:00            3      2        0         36          36   \n",
       "2018-02-08 00:08:00            3      2        0         17          17   \n",
       "2018-02-08 00:08:00            3      2        0          2           2   \n",
       "2018-02-08 00:08:00            3      2        0          8           8   \n",
       "2018-02-08 00:08:00            3      2        0          9           9   \n",
       "2018-02-08 00:08:00            3      2        0         28          28   \n",
       "2018-02-08 00:08:00            3      2        0          0           0   \n",
       "2018-02-08 00:08:00            3      2        0         35          35   \n",
       "2018-02-08 00:08:00            3      2        0         20          20   \n",
       "2018-02-08 00:08:00            3      2        0         40          40   \n",
       "2018-02-08 00:08:00            3      2        0          7           6   \n",
       "2018-02-08 00:08:00            3      2        0         26          26   \n",
       "2018-02-08 00:08:00            3      2        0          0           0   \n",
       "2018-02-08 00:08:00            3      2        0          3           3   \n",
       "2018-02-08 00:08:00            3      2        0          4           4   \n",
       "2018-02-08 00:08:00            3      2        0          4           4   \n",
       "2018-02-08 00:08:00            3      2        0          9           9   \n",
       "2018-02-08 00:08:00            3      2        0          0           0   \n",
       "2018-02-08 00:08:00            3      2        0          1           1   \n",
       "2018-02-08 00:08:00            3      2        0         23          23   \n",
       "2018-02-08 00:08:00            3      2        0          0           0   \n",
       "2018-02-08 00:08:00            3      2        0          0           0   \n",
       "2018-02-08 00:08:00            3      2        0         14          14   \n",
       "2018-02-08 00:08:00            3      2        0          4           4   \n",
       "2018-02-08 00:08:00            3      2        0          7           5   \n",
       "2018-02-08 00:08:00            3      2        0         31          31   \n",
       "2018-02-08 00:08:00            3      2        0          3           3   \n",
       "2018-02-08 00:08:00            3      2        0         18          18   \n",
       "2018-02-08 00:08:00            3      2        0         29          29   \n",
       "...                          ...    ...      ...        ...         ...   \n",
       "2018-02-08 23:50:00            3      2        0         31          31   \n",
       "2018-02-08 23:50:00            3      2        0         28          28   \n",
       "2018-02-08 23:50:00            3      2        0         32          32   \n",
       "2018-02-08 23:50:00            3      2        0          2           1   \n",
       "2018-02-08 23:50:00            3      2        0          3           3   \n",
       "2018-02-08 23:50:00            3      2        0         34          34   \n",
       "2018-02-08 23:50:00            3      2        0         16          16   \n",
       "2018-02-08 23:50:00            3      2        0          1           1   \n",
       "2018-02-08 23:50:00            3      2        0         40          40   \n",
       "2018-02-08 23:50:00            3      2        0          0           0   \n",
       "2018-02-08 23:50:00            3      2        0         20          19   \n",
       "2018-02-08 23:50:00            3      2        0          8           8   \n",
       "2018-02-08 23:50:00            3      2        0          2           2   \n",
       "2018-02-08 23:50:00            3      2        0         30          30   \n",
       "2018-02-08 23:50:00            3      2        0         19          19   \n",
       "2018-02-08 23:50:00            3      2        0          2           2   \n",
       "2018-02-08 23:50:00            3      2        0         25          25   \n",
       "2018-02-08 23:50:00            3      2        0         24          24   \n",
       "2018-02-08 23:50:00            3      2        0          1           1   \n",
       "2018-02-08 23:50:00            3      2        0          0           0   \n",
       "2018-02-08 23:50:00            3      2        0         15          15   \n",
       "2018-02-08 23:50:00            3      2        0          0           0   \n",
       "2018-02-08 23:50:00            3      2        0          1           1   \n",
       "2018-02-08 23:50:00            3      2        0          3           3   \n",
       "2018-02-08 23:50:00            3      2        0         26          26   \n",
       "2018-02-08 23:50:00            3      2        0          4           4   \n",
       "2018-02-08 23:50:00            3      2        0         39          39   \n",
       "2018-02-08 23:50:00            3      2        0          0           0   \n",
       "2018-02-08 23:50:00            3      2        0          2           2   \n",
       "2018-02-08 23:50:00            3      2        0          0           0   \n",
       "\n",
       "                     bike_pull3  bike_pull4     rf    rf2    rf3    rf4   std  \\\n",
       "timestamp                                                                       \n",
       "2018-02-08 00:08:00           2           2   2.00   2.43   2.05   1.84  0.00   \n",
       "2018-02-08 00:08:00          37          37  35.27  36.23  36.24  36.90  0.52   \n",
       "2018-02-08 00:08:00          17          17  16.97  16.88  17.07  17.26  0.02   \n",
       "2018-02-08 00:08:00           2           3   2.00   3.52   3.54   2.03  0.00   \n",
       "2018-02-08 00:08:00           8           8   7.88  11.38  12.66   8.07  0.08   \n",
       "2018-02-08 00:08:00           9           9   7.95  11.15  12.68   8.11  0.74   \n",
       "2018-02-08 00:08:00          28          28  27.98  27.94  27.86  28.09  0.01   \n",
       "2018-02-08 00:08:00           0           0   0.02   0.00   0.00   0.00  0.02   \n",
       "2018-02-08 00:08:00          35          35  35.03  35.09  35.30  35.32  0.02   \n",
       "2018-02-08 00:08:00          20          20  20.08  21.00  20.34  20.57  0.05   \n",
       "2018-02-08 00:08:00          40          40  39.98  40.00  40.00  40.00  0.01   \n",
       "2018-02-08 00:08:00           6           6   7.37   9.34  10.44   6.75  0.26   \n",
       "2018-02-08 00:08:00          26          26  26.29  26.17  25.93  25.87  0.21   \n",
       "2018-02-08 00:08:00           0           0   0.00   0.02   0.04   0.12  0.00   \n",
       "2018-02-08 00:08:00           2           2   3.00   4.43   4.57   2.42  0.00   \n",
       "2018-02-08 00:08:00           4           4   4.00   6.58   6.30   4.00  0.00   \n",
       "2018-02-08 00:08:00           5           5   4.03   4.86   4.50   3.81  0.02   \n",
       "2018-02-08 00:08:00           9           9   8.76  11.02  10.88   9.01  0.17   \n",
       "2018-02-08 00:08:00           0           0   0.00   0.03   0.07   0.08  0.00   \n",
       "2018-02-08 00:08:00           1           1   1.00   1.02   0.84   1.00  0.00   \n",
       "2018-02-08 00:08:00          23          23  23.20  23.06  23.90  22.14  0.14   \n",
       "2018-02-08 00:08:00           0           0   0.42   0.02   0.10   0.27  0.30   \n",
       "2018-02-08 00:08:00           0           0   0.00   0.06   0.08   0.00  0.00   \n",
       "2018-02-08 00:08:00          14          14  13.93  15.08  13.74  13.57  0.05   \n",
       "2018-02-08 00:08:00           4           4   4.00   5.86   5.49   3.80  0.00   \n",
       "2018-02-08 00:08:00           5           5   8.08  11.70  12.14   7.02  0.77   \n",
       "2018-02-08 00:08:00          31          31  30.80  31.02  31.01  31.08  0.14   \n",
       "2018-02-08 00:08:00           3           3   3.00   3.06   3.14   2.96  0.00   \n",
       "2018-02-08 00:08:00          18          18  19.37  17.68  17.21  17.29  0.97   \n",
       "2018-02-08 00:08:00          29          29  28.54  29.00  28.47  28.94  0.33   \n",
       "...                         ...         ...    ...    ...    ...    ...   ...   \n",
       "2018-02-08 23:50:00          31          31  30.76  30.92  31.00  31.00  0.17   \n",
       "2018-02-08 23:50:00          28          28  28.00  27.74  27.24  28.89  0.00   \n",
       "2018-02-08 23:50:00          32          32  32.01  32.24  32.00  32.24  0.00   \n",
       "2018-02-08 23:50:00           2           2   2.00   2.20   2.23   2.23  0.00   \n",
       "2018-02-08 23:50:00           3           3   3.00   3.16   2.94   3.01  0.00   \n",
       "2018-02-08 23:50:00          34          34  33.82  34.33  34.46  33.83  0.13   \n",
       "2018-02-08 23:50:00          16          16  16.12  17.96  18.00  16.04  0.09   \n",
       "2018-02-08 23:50:00           1           1   1.00   0.90   0.85   0.81  0.00   \n",
       "2018-02-08 23:50:00          40          40  39.99  38.60  39.32  39.28  0.00   \n",
       "2018-02-08 23:50:00           0           0   0.14   0.06   0.35   0.26  0.10   \n",
       "2018-02-08 23:50:00          19          19  20.03  20.43  20.08  20.22  0.02   \n",
       "2018-02-08 23:50:00           8           7   8.48   9.72  10.52   8.18  0.34   \n",
       "2018-02-08 23:50:00           2           2   2.00   1.70   1.88   1.76  0.00   \n",
       "2018-02-08 23:50:00          30          30  29.78  29.97  29.96  30.00  0.15   \n",
       "2018-02-08 23:50:00          19          19  18.73  19.04  18.19  19.21  0.19   \n",
       "2018-02-08 23:50:00           3           3   2.00   1.86   1.99   1.60  0.00   \n",
       "2018-02-08 23:50:00          25          25  24.87  25.08  25.78  23.98  0.09   \n",
       "2018-02-08 23:50:00          24          24  24.01  24.25  24.13  24.15  0.01   \n",
       "2018-02-08 23:50:00           1           1   1.00   0.68   0.62   1.15  0.00   \n",
       "2018-02-08 23:50:00           0           0   0.00   0.06   0.06   0.06  0.00   \n",
       "2018-02-08 23:50:00          15          15  14.85  15.54  14.56  14.53  0.11   \n",
       "2018-02-08 23:50:00           0           0   0.16   0.51   0.95   1.40  0.12   \n",
       "2018-02-08 23:50:00           1           1   1.03   1.11   0.93   1.05  0.02   \n",
       "2018-02-08 23:50:00           3           3   4.00   6.76   6.60   3.15  0.71   \n",
       "2018-02-08 23:50:00          26          26  26.21  26.00  26.09  26.14  0.15   \n",
       "2018-02-08 23:50:00           3           3   4.00   7.08   7.45   3.57  0.00   \n",
       "2018-02-08 23:50:00          39          39  38.84  39.12  38.74  38.73  0.11   \n",
       "2018-02-08 23:50:00           0           0   0.12   0.03   0.03   0.01  0.08   \n",
       "2018-02-08 23:50:00           2           2   2.00   2.05   2.20   1.80  0.00   \n",
       "2018-02-08 23:50:00           0           0   0.00   0.36   0.70   1.60  0.00   \n",
       "\n",
       "                     std2  std3  std4  \n",
       "timestamp                              \n",
       "2018-02-08 00:08:00  0.30  0.03  0.11  \n",
       "2018-02-08 00:08:00  0.16  0.53  0.07  \n",
       "2018-02-08 00:08:00  0.08  0.05  0.18  \n",
       "2018-02-08 00:08:00  1.07  1.09  0.69  \n",
       "2018-02-08 00:08:00  2.39  3.30  0.05  \n",
       "2018-02-08 00:08:00  1.52  2.60  0.63  \n",
       "2018-02-08 00:08:00  0.04  0.10  0.06  \n",
       "2018-02-08 00:08:00  0.00  0.00  0.00  \n",
       "2018-02-08 00:08:00  0.07  0.21  0.22  \n",
       "2018-02-08 00:08:00  0.71  0.24  0.40  \n",
       "2018-02-08 00:08:00  0.00  0.00  0.00  \n",
       "2018-02-08 00:08:00  2.36  3.14  0.53  \n",
       "2018-02-08 00:08:00  0.12  0.05  0.09  \n",
       "2018-02-08 00:08:00  0.01  0.03  0.08  \n",
       "2018-02-08 00:08:00  1.01  1.82  0.30  \n",
       "2018-02-08 00:08:00  1.82  1.63  0.00  \n",
       "2018-02-08 00:08:00  0.61  0.35  0.84  \n",
       "2018-02-08 00:08:00  1.43  1.33  0.00  \n",
       "2018-02-08 00:08:00  0.02  0.05  0.06  \n",
       "2018-02-08 00:08:00  0.01  0.11  0.00  \n",
       "2018-02-08 00:08:00  0.04  0.64  0.61  \n",
       "2018-02-08 00:08:00  0.02  0.07  0.19  \n",
       "2018-02-08 00:08:00  0.04  0.06  0.00  \n",
       "2018-02-08 00:08:00  0.77  0.19  0.30  \n",
       "2018-02-08 00:08:00  1.32  1.05  0.14  \n",
       "2018-02-08 00:08:00  4.74  5.05  1.43  \n",
       "2018-02-08 00:08:00  0.01  0.00  0.06  \n",
       "2018-02-08 00:08:00  0.04  0.10  0.03  \n",
       "2018-02-08 00:08:00  0.22  0.56  0.50  \n",
       "2018-02-08 00:08:00  0.00  0.38  0.04  \n",
       "...                   ...   ...   ...  \n",
       "2018-02-08 23:50:00  0.06  0.00  0.00  \n",
       "2018-02-08 23:50:00  0.18  0.54  0.63  \n",
       "2018-02-08 23:50:00  0.17  0.00  0.17  \n",
       "2018-02-08 23:50:00  0.85  0.17  0.17  \n",
       "2018-02-08 23:50:00  0.11  0.04  0.01  \n",
       "2018-02-08 23:50:00  0.23  0.33  0.12  \n",
       "2018-02-08 23:50:00  1.39  1.41  0.03  \n",
       "2018-02-08 23:50:00  0.07  0.11  0.14  \n",
       "2018-02-08 23:50:00  0.99  0.48  0.51  \n",
       "2018-02-08 23:50:00  0.04  0.25  0.18  \n",
       "2018-02-08 23:50:00  1.01  0.77  0.86  \n",
       "2018-02-08 23:50:00  1.22  1.78  0.84  \n",
       "2018-02-08 23:50:00  0.21  0.08  0.17  \n",
       "2018-02-08 23:50:00  0.02  0.03  0.00  \n",
       "2018-02-08 23:50:00  0.03  0.57  0.15  \n",
       "2018-02-08 23:50:00  0.10  0.72  0.99  \n",
       "2018-02-08 23:50:00  0.06  0.55  0.72  \n",
       "2018-02-08 23:50:00  0.18  0.09  0.10  \n",
       "2018-02-08 23:50:00  0.23  0.27  0.11  \n",
       "2018-02-08 23:50:00  0.04  0.04  0.04  \n",
       "2018-02-08 23:50:00  0.38  0.31  0.33  \n",
       "2018-02-08 23:50:00  0.36  0.67  0.99  \n",
       "2018-02-08 23:50:00  0.08  0.05  0.03  \n",
       "2018-02-08 23:50:00  2.66  2.55  0.11  \n",
       "2018-02-08 23:50:00  0.00  0.06  0.10  \n",
       "2018-02-08 23:50:00  2.18  3.14  0.41  \n",
       "2018-02-08 23:50:00  0.08  0.18  0.19  \n",
       "2018-02-08 23:50:00  0.02  0.02  0.01  \n",
       "2018-02-08 23:50:00  0.04  0.14  0.14  \n",
       "2018-02-08 23:50:00  0.25  0.49  1.13  \n",
       "\n",
       "[77608 rows x 20 columns]>"
      ]
     },
     "execution_count": 8,
     "metadata": {},
     "output_type": "execute_result"
    }
   ],
   "source": [
    "df.var"
   ]
  },
  {
   "cell_type": "code",
   "execution_count": null,
   "metadata": {},
   "outputs": [],
   "source": []
  },
  {
   "cell_type": "code",
   "execution_count": 9,
   "metadata": {},
   "outputs": [],
   "source": [
    "station_34 = df[df['station_id']==34]"
   ]
  },
  {
   "cell_type": "code",
   "execution_count": 10,
   "metadata": {},
   "outputs": [],
   "source": [
    "station_34.to_csv('station_34.csv')"
   ]
  },
  {
   "cell_type": "code",
   "execution_count": null,
   "metadata": {},
   "outputs": [],
   "source": []
  },
  {
   "cell_type": "code",
   "execution_count": 156,
   "metadata": {},
   "outputs": [
    {
     "name": "stdout",
     "output_type": "stream",
     "text": [
      "['NaT' 'NaT' 'NaT' ... 'NaT' 'NaT' 'NaT']\n"
     ]
    }
   ],
   "source": [
    "s = pd.to_datetime(df.index.time, errors='coerce')\n",
    "s = s.strftime('%m')\n",
    "print(s)"
   ]
  },
  {
   "cell_type": "code",
   "execution_count": 33,
   "metadata": {},
   "outputs": [
    {
     "data": {
      "text/html": [
       "<div>\n",
       "<style scoped>\n",
       "    .dataframe tbody tr th:only-of-type {\n",
       "        vertical-align: middle;\n",
       "    }\n",
       "\n",
       "    .dataframe tbody tr th {\n",
       "        vertical-align: top;\n",
       "    }\n",
       "\n",
       "    .dataframe thead th {\n",
       "        text-align: right;\n",
       "    }\n",
       "</style>\n",
       "<table border=\"1\" class=\"dataframe\">\n",
       "  <thead>\n",
       "    <tr style=\"text-align: right;\">\n",
       "      <th></th>\n",
       "      <th>station_id</th>\n",
       "      <th>bikes</th>\n",
       "      <th>spaces</th>\n",
       "      <th>total_docks</th>\n",
       "      <th>hour</th>\n",
       "      <th>day_of_week</th>\n",
       "      <th>month</th>\n",
       "      <th>weekend</th>\n",
       "      <th>bike_pull</th>\n",
       "      <th>bike_pull2</th>\n",
       "      <th>bike_pull3</th>\n",
       "      <th>bike_pull4</th>\n",
       "      <th>rf</th>\n",
       "      <th>rf2</th>\n",
       "      <th>rf3</th>\n",
       "      <th>rf4</th>\n",
       "      <th>std</th>\n",
       "      <th>std2</th>\n",
       "      <th>std3</th>\n",
       "      <th>std4</th>\n",
       "    </tr>\n",
       "    <tr>\n",
       "      <th>timestamp</th>\n",
       "      <th></th>\n",
       "      <th></th>\n",
       "      <th></th>\n",
       "      <th></th>\n",
       "      <th></th>\n",
       "      <th></th>\n",
       "      <th></th>\n",
       "      <th></th>\n",
       "      <th></th>\n",
       "      <th></th>\n",
       "      <th></th>\n",
       "      <th></th>\n",
       "      <th></th>\n",
       "      <th></th>\n",
       "      <th></th>\n",
       "      <th></th>\n",
       "      <th></th>\n",
       "      <th></th>\n",
       "      <th></th>\n",
       "      <th></th>\n",
       "    </tr>\n",
       "  </thead>\n",
       "  <tbody>\n",
       "    <tr>\n",
       "      <th>2018-02-08 00:08:00</th>\n",
       "      <td>89</td>\n",
       "      <td>2</td>\n",
       "      <td>38</td>\n",
       "      <td>40</td>\n",
       "      <td>0</td>\n",
       "      <td>3</td>\n",
       "      <td>2</td>\n",
       "      <td>0</td>\n",
       "      <td>2</td>\n",
       "      <td>2</td>\n",
       "      <td>2</td>\n",
       "      <td>2</td>\n",
       "      <td>2.00</td>\n",
       "      <td>2.43</td>\n",
       "      <td>2.05</td>\n",
       "      <td>1.84</td>\n",
       "      <td>0.00</td>\n",
       "      <td>0.30</td>\n",
       "      <td>0.03</td>\n",
       "      <td>0.11</td>\n",
       "    </tr>\n",
       "    <tr>\n",
       "      <th>2018-02-08 00:08:00</th>\n",
       "      <td>83</td>\n",
       "      <td>36</td>\n",
       "      <td>4</td>\n",
       "      <td>40</td>\n",
       "      <td>0</td>\n",
       "      <td>3</td>\n",
       "      <td>2</td>\n",
       "      <td>0</td>\n",
       "      <td>36</td>\n",
       "      <td>36</td>\n",
       "      <td>37</td>\n",
       "      <td>37</td>\n",
       "      <td>35.27</td>\n",
       "      <td>36.23</td>\n",
       "      <td>36.24</td>\n",
       "      <td>36.90</td>\n",
       "      <td>0.52</td>\n",
       "      <td>0.16</td>\n",
       "      <td>0.53</td>\n",
       "      <td>0.07</td>\n",
       "    </tr>\n",
       "    <tr>\n",
       "      <th>2018-02-08 00:08:00</th>\n",
       "      <td>24</td>\n",
       "      <td>17</td>\n",
       "      <td>3</td>\n",
       "      <td>20</td>\n",
       "      <td>0</td>\n",
       "      <td>3</td>\n",
       "      <td>2</td>\n",
       "      <td>0</td>\n",
       "      <td>17</td>\n",
       "      <td>17</td>\n",
       "      <td>17</td>\n",
       "      <td>17</td>\n",
       "      <td>16.97</td>\n",
       "      <td>16.88</td>\n",
       "      <td>17.07</td>\n",
       "      <td>17.26</td>\n",
       "      <td>0.02</td>\n",
       "      <td>0.08</td>\n",
       "      <td>0.05</td>\n",
       "      <td>0.18</td>\n",
       "    </tr>\n",
       "    <tr>\n",
       "      <th>2018-02-08 00:08:00</th>\n",
       "      <td>61</td>\n",
       "      <td>2</td>\n",
       "      <td>23</td>\n",
       "      <td>25</td>\n",
       "      <td>0</td>\n",
       "      <td>3</td>\n",
       "      <td>2</td>\n",
       "      <td>0</td>\n",
       "      <td>2</td>\n",
       "      <td>2</td>\n",
       "      <td>2</td>\n",
       "      <td>3</td>\n",
       "      <td>2.00</td>\n",
       "      <td>3.52</td>\n",
       "      <td>3.54</td>\n",
       "      <td>2.03</td>\n",
       "      <td>0.00</td>\n",
       "      <td>1.07</td>\n",
       "      <td>1.09</td>\n",
       "      <td>0.69</td>\n",
       "    </tr>\n",
       "    <tr>\n",
       "      <th>2018-02-08 00:08:00</th>\n",
       "      <td>104</td>\n",
       "      <td>8</td>\n",
       "      <td>32</td>\n",
       "      <td>40</td>\n",
       "      <td>0</td>\n",
       "      <td>3</td>\n",
       "      <td>2</td>\n",
       "      <td>0</td>\n",
       "      <td>8</td>\n",
       "      <td>8</td>\n",
       "      <td>8</td>\n",
       "      <td>8</td>\n",
       "      <td>7.88</td>\n",
       "      <td>11.38</td>\n",
       "      <td>12.66</td>\n",
       "      <td>8.07</td>\n",
       "      <td>0.08</td>\n",
       "      <td>2.39</td>\n",
       "      <td>3.30</td>\n",
       "      <td>0.05</td>\n",
       "    </tr>\n",
       "  </tbody>\n",
       "</table>\n",
       "</div>"
      ],
      "text/plain": [
       "                     station_id  bikes  spaces  total_docks  hour  \\\n",
       "timestamp                                                           \n",
       "2018-02-08 00:08:00          89      2      38           40     0   \n",
       "2018-02-08 00:08:00          83     36       4           40     0   \n",
       "2018-02-08 00:08:00          24     17       3           20     0   \n",
       "2018-02-08 00:08:00          61      2      23           25     0   \n",
       "2018-02-08 00:08:00         104      8      32           40     0   \n",
       "\n",
       "                     day_of_week  month  weekend  bike_pull  bike_pull2  \\\n",
       "timestamp                                                                 \n",
       "2018-02-08 00:08:00            3      2        0          2           2   \n",
       "2018-02-08 00:08:00            3      2        0         36          36   \n",
       "2018-02-08 00:08:00            3      2        0         17          17   \n",
       "2018-02-08 00:08:00            3      2        0          2           2   \n",
       "2018-02-08 00:08:00            3      2        0          8           8   \n",
       "\n",
       "                     bike_pull3  bike_pull4     rf    rf2    rf3    rf4   std  \\\n",
       "timestamp                                                                       \n",
       "2018-02-08 00:08:00           2           2   2.00   2.43   2.05   1.84  0.00   \n",
       "2018-02-08 00:08:00          37          37  35.27  36.23  36.24  36.90  0.52   \n",
       "2018-02-08 00:08:00          17          17  16.97  16.88  17.07  17.26  0.02   \n",
       "2018-02-08 00:08:00           2           3   2.00   3.52   3.54   2.03  0.00   \n",
       "2018-02-08 00:08:00           8           8   7.88  11.38  12.66   8.07  0.08   \n",
       "\n",
       "                     std2  std3  std4  \n",
       "timestamp                              \n",
       "2018-02-08 00:08:00  0.30  0.03  0.11  \n",
       "2018-02-08 00:08:00  0.16  0.53  0.07  \n",
       "2018-02-08 00:08:00  0.08  0.05  0.18  \n",
       "2018-02-08 00:08:00  1.07  1.09  0.69  \n",
       "2018-02-08 00:08:00  2.39  3.30  0.05  "
      ]
     },
     "execution_count": 33,
     "metadata": {},
     "output_type": "execute_result"
    }
   ],
   "source": [
    "df.head()"
   ]
  },
  {
   "cell_type": "code",
   "execution_count": 202,
   "metadata": {},
   "outputs": [],
   "source": [
    "dfPivot_34 = pd.pivot_table(df[df['station_id']==34], values = [\"bikes\",\"rf\",\"rf2\",\"rf3\",\"rf4\"], \n",
    "                             index = \"hour\")"
   ]
  },
  {
   "cell_type": "code",
   "execution_count": 203,
   "metadata": {},
   "outputs": [],
   "source": [
    "dfPivot_34['mean_34'] = pivot_mean_hour['34']"
   ]
  },
  {
   "cell_type": "code",
   "execution_count": 204,
   "metadata": {},
   "outputs": [
    {
     "data": {
      "text/plain": [
       "<matplotlib.axes._subplots.AxesSubplot at 0x1a1ba6de80>"
      ]
     },
     "execution_count": 204,
     "metadata": {},
     "output_type": "execute_result"
    },
    {
     "data": {
      "image/png": "[encoded data removed]",
      "text/plain": [
       "<matplotlib.figure.Figure at 0x1a1ba14c88>"
      ]
     },
     "metadata": {},
     "output_type": "display_data"
    }
   ],
   "source": [
    "dfPivot_34.plot(subplots = False, figsize=(8, 8), sharey=True, title=\"Portobello Harbour\")"
   ]
  },
  {
   "cell_type": "raw",
   "metadata": {},
   "source": [
    "dfPivot_93 = pd.pivot_table(df[df['station_id']==93], values = [\"bikes\",\"rf\",\"rf2\",\"rf3\",\"rf4\"], \n",
    "                             columns = \"station_id\", index = \"hour\")"
   ]
  },
  {
   "cell_type": "code",
   "execution_count": 195,
   "metadata": {},
   "outputs": [],
   "source": [
    "dfPivot_93['mean_93'] = pivot_mean_hour['93']"
   ]
  },
  {
   "cell_type": "code",
   "execution_count": 196,
   "metadata": {},
   "outputs": [
    {
     "data": {
      "text/plain": [
       "<matplotlib.axes._subplots.AxesSubplot at 0x1a1f360438>"
      ]
     },
     "execution_count": 196,
     "metadata": {},
     "output_type": "execute_result"
    },
    {
     "data": {
      "image/png": "[encoded data removed]",
      "text/plain": [
       "<matplotlib.figure.Figure at 0x1a1f32f8d0>"
      ]
     },
     "metadata": {},
     "output_type": "display_data"
    }
   ],
   "source": [
    "dfPivot_93.plot(subplots = False, figsize=(8, 8), sharey=True, title=\"Heuston Station (Central)\")"
   ]
  },
  {
   "cell_type": "code",
   "execution_count": 183,
   "metadata": {},
   "outputs": [],
   "source": [
    "dfPivot_56 = pd.pivot_table(df[df['station_id']==56], values = [\"bikes\",\"rf\",\"rf2\",\"rf3\",\"rf4\"], \n",
    "                             columns = \"station_id\", index = \"hour\")"
   ]
  },
  {
   "cell_type": "code",
   "execution_count": 184,
   "metadata": {},
   "outputs": [],
   "source": [
    "dfPivot_56['mean_56'] = pivot_mean_hour['56']"
   ]
  },
  {
   "cell_type": "code",
   "execution_count": 185,
   "metadata": {},
   "outputs": [
    {
     "data": {
      "text/plain": [
       "<matplotlib.axes._subplots.AxesSubplot at 0x1a1f3f69b0>"
      ]
     },
     "execution_count": 185,
     "metadata": {},
     "output_type": "execute_result"
    },
    {
     "data": {
      "image/png": "[encoded data removed]",
      "text/plain": [
       "<matplotlib.figure.Figure at 0x1a23888748>"
      ]
     },
     "metadata": {},
     "output_type": "display_data"
    }
   ],
   "source": [
    "dfPivot_56.plot(subplots = False, figsize=(8,8), title=\"Grattan Street\", sharey=True)"
   ]
  },
  {
   "cell_type": "code",
   "execution_count": 186,
   "metadata": {},
   "outputs": [],
   "source": [
    "dfPivot_16 = pd.pivot_table(df[df['station_id']==16], values = [\"bikes\",\"rf\",\"rf2\",\"rf3\",\"rf4\"], \n",
    "                             columns = \"station_id\", index = \"hour\")"
   ]
  },
  {
   "cell_type": "code",
   "execution_count": 187,
   "metadata": {},
   "outputs": [],
   "source": [
    "dfPivot_16['mean_16'] = pivot_mean_hour['16']"
   ]
  },
  {
   "cell_type": "code",
   "execution_count": 188,
   "metadata": {},
   "outputs": [],
   "source": [
    "#dfPivot_16 = dfPivot_16.drop('mean_16_thurs_aug',axis=1)"
   ]
  },
  {
   "cell_type": "code",
   "execution_count": 189,
   "metadata": {},
   "outputs": [
    {
     "data": {
      "text/html": [
       "<div>\n",
       "<style scoped>\n",
       "    .dataframe tbody tr th:only-of-type {\n",
       "        vertical-align: middle;\n",
       "    }\n",
       "\n",
       "    .dataframe tbody tr th {\n",
       "        vertical-align: top;\n",
       "    }\n",
       "\n",
       "    .dataframe thead tr th {\n",
       "        text-align: left;\n",
       "    }\n",
       "\n",
       "    .dataframe thead tr:last-of-type th {\n",
       "        text-align: right;\n",
       "    }\n",
       "</style>\n",
       "<table border=\"1\" class=\"dataframe\">\n",
       "  <thead>\n",
       "    <tr>\n",
       "      <th></th>\n",
       "      <th>bikes</th>\n",
       "      <th>rf</th>\n",
       "      <th>rf2</th>\n",
       "      <th>rf3</th>\n",
       "      <th>rf4</th>\n",
       "      <th>mean_16</th>\n",
       "    </tr>\n",
       "    <tr>\n",
       "      <th>station_id</th>\n",
       "      <th>16.0</th>\n",
       "      <th>16.0</th>\n",
       "      <th>16.0</th>\n",
       "      <th>16.0</th>\n",
       "      <th>16.0</th>\n",
       "      <th></th>\n",
       "    </tr>\n",
       "    <tr>\n",
       "      <th>hour</th>\n",
       "      <th></th>\n",
       "      <th></th>\n",
       "      <th></th>\n",
       "      <th></th>\n",
       "      <th></th>\n",
       "      <th></th>\n",
       "    </tr>\n",
       "  </thead>\n",
       "  <tbody>\n",
       "    <tr>\n",
       "      <th>0.0</th>\n",
       "      <td>1.000000</td>\n",
       "      <td>1.000000</td>\n",
       "      <td>0.920000</td>\n",
       "      <td>0.990000</td>\n",
       "      <td>0.990000</td>\n",
       "      <td>7.685940</td>\n",
       "    </tr>\n",
       "    <tr>\n",
       "      <th>1.0</th>\n",
       "      <td>1.000000</td>\n",
       "      <td>1.000000</td>\n",
       "      <td>1.020000</td>\n",
       "      <td>1.000000</td>\n",
       "      <td>1.000000</td>\n",
       "      <td>7.553086</td>\n",
       "    </tr>\n",
       "    <tr>\n",
       "      <th>2.0</th>\n",
       "      <td>1.000000</td>\n",
       "      <td>1.000000</td>\n",
       "      <td>1.020000</td>\n",
       "      <td>1.000000</td>\n",
       "      <td>1.000000</td>\n",
       "      <td>7.555556</td>\n",
       "    </tr>\n",
       "    <tr>\n",
       "      <th>3.0</th>\n",
       "      <td>1.000000</td>\n",
       "      <td>1.000000</td>\n",
       "      <td>1.020000</td>\n",
       "      <td>1.000000</td>\n",
       "      <td>1.000000</td>\n",
       "      <td>7.555556</td>\n",
       "    </tr>\n",
       "    <tr>\n",
       "      <th>4.0</th>\n",
       "      <td>1.000000</td>\n",
       "      <td>1.000000</td>\n",
       "      <td>1.500000</td>\n",
       "      <td>1.000000</td>\n",
       "      <td>1.000000</td>\n",
       "      <td>7.538700</td>\n",
       "    </tr>\n",
       "    <tr>\n",
       "      <th>5.0</th>\n",
       "      <td>1.000000</td>\n",
       "      <td>1.000000</td>\n",
       "      <td>1.030000</td>\n",
       "      <td>1.060000</td>\n",
       "      <td>1.010000</td>\n",
       "      <td>7.442767</td>\n",
       "    </tr>\n",
       "    <tr>\n",
       "      <th>6.0</th>\n",
       "      <td>1.300000</td>\n",
       "      <td>1.327000</td>\n",
       "      <td>1.478667</td>\n",
       "      <td>1.390333</td>\n",
       "      <td>1.201333</td>\n",
       "      <td>7.174691</td>\n",
       "    </tr>\n",
       "    <tr>\n",
       "      <th>7.0</th>\n",
       "      <td>4.400000</td>\n",
       "      <td>4.428333</td>\n",
       "      <td>5.247667</td>\n",
       "      <td>5.666000</td>\n",
       "      <td>4.282333</td>\n",
       "      <td>7.981459</td>\n",
       "    </tr>\n",
       "    <tr>\n",
       "      <th>8.0</th>\n",
       "      <td>5.100000</td>\n",
       "      <td>5.152667</td>\n",
       "      <td>5.743667</td>\n",
       "      <td>5.604000</td>\n",
       "      <td>4.945000</td>\n",
       "      <td>8.192427</td>\n",
       "    </tr>\n",
       "    <tr>\n",
       "      <th>9.0</th>\n",
       "      <td>5.200000</td>\n",
       "      <td>5.250667</td>\n",
       "      <td>6.423333</td>\n",
       "      <td>6.385000</td>\n",
       "      <td>5.624667</td>\n",
       "      <td>6.978395</td>\n",
       "    </tr>\n",
       "    <tr>\n",
       "      <th>10.0</th>\n",
       "      <td>7.733333</td>\n",
       "      <td>7.922667</td>\n",
       "      <td>8.557333</td>\n",
       "      <td>8.498333</td>\n",
       "      <td>7.803000</td>\n",
       "      <td>7.306173</td>\n",
       "    </tr>\n",
       "    <tr>\n",
       "      <th>11.0</th>\n",
       "      <td>7.833333</td>\n",
       "      <td>7.970333</td>\n",
       "      <td>9.712667</td>\n",
       "      <td>9.216667</td>\n",
       "      <td>7.992667</td>\n",
       "      <td>7.300000</td>\n",
       "    </tr>\n",
       "    <tr>\n",
       "      <th>12.0</th>\n",
       "      <td>3.966667</td>\n",
       "      <td>4.001000</td>\n",
       "      <td>4.937667</td>\n",
       "      <td>4.775000</td>\n",
       "      <td>3.930667</td>\n",
       "      <td>6.551235</td>\n",
       "    </tr>\n",
       "    <tr>\n",
       "      <th>13.0</th>\n",
       "      <td>2.300000</td>\n",
       "      <td>2.304667</td>\n",
       "      <td>2.735000</td>\n",
       "      <td>2.620000</td>\n",
       "      <td>2.420667</td>\n",
       "      <td>5.837654</td>\n",
       "    </tr>\n",
       "    <tr>\n",
       "      <th>14.0</th>\n",
       "      <td>5.900000</td>\n",
       "      <td>5.966667</td>\n",
       "      <td>7.726000</td>\n",
       "      <td>7.893667</td>\n",
       "      <td>6.082000</td>\n",
       "      <td>7.997531</td>\n",
       "    </tr>\n",
       "    <tr>\n",
       "      <th>15.0</th>\n",
       "      <td>8.566667</td>\n",
       "      <td>8.727333</td>\n",
       "      <td>9.957667</td>\n",
       "      <td>9.963333</td>\n",
       "      <td>9.063000</td>\n",
       "      <td>8.697531</td>\n",
       "    </tr>\n",
       "    <tr>\n",
       "      <th>16.0</th>\n",
       "      <td>10.566667</td>\n",
       "      <td>10.664667</td>\n",
       "      <td>11.610667</td>\n",
       "      <td>11.704667</td>\n",
       "      <td>11.624000</td>\n",
       "      <td>11.008030</td>\n",
       "    </tr>\n",
       "    <tr>\n",
       "      <th>17.0</th>\n",
       "      <td>17.400000</td>\n",
       "      <td>17.379667</td>\n",
       "      <td>17.993333</td>\n",
       "      <td>17.152000</td>\n",
       "      <td>17.397333</td>\n",
       "      <td>14.469136</td>\n",
       "    </tr>\n",
       "    <tr>\n",
       "      <th>18.0</th>\n",
       "      <td>18.933333</td>\n",
       "      <td>18.881333</td>\n",
       "      <td>18.593667</td>\n",
       "      <td>17.929667</td>\n",
       "      <td>18.101000</td>\n",
       "      <td>14.054321</td>\n",
       "    </tr>\n",
       "    <tr>\n",
       "      <th>19.0</th>\n",
       "      <td>16.800000</td>\n",
       "      <td>16.773667</td>\n",
       "      <td>17.290000</td>\n",
       "      <td>16.700333</td>\n",
       "      <td>16.428667</td>\n",
       "      <td>12.832509</td>\n",
       "    </tr>\n",
       "    <tr>\n",
       "      <th>20.0</th>\n",
       "      <td>12.633333</td>\n",
       "      <td>12.613000</td>\n",
       "      <td>13.178000</td>\n",
       "      <td>13.168667</td>\n",
       "      <td>12.654000</td>\n",
       "      <td>11.282419</td>\n",
       "    </tr>\n",
       "    <tr>\n",
       "      <th>21.0</th>\n",
       "      <td>10.900000</td>\n",
       "      <td>10.922333</td>\n",
       "      <td>11.613667</td>\n",
       "      <td>11.270000</td>\n",
       "      <td>10.570000</td>\n",
       "      <td>9.752635</td>\n",
       "    </tr>\n",
       "    <tr>\n",
       "      <th>22.0</th>\n",
       "      <td>9.466667</td>\n",
       "      <td>9.690667</td>\n",
       "      <td>10.388000</td>\n",
       "      <td>9.433000</td>\n",
       "      <td>9.237667</td>\n",
       "      <td>8.297484</td>\n",
       "    </tr>\n",
       "    <tr>\n",
       "      <th>23.0</th>\n",
       "      <td>7.038462</td>\n",
       "      <td>7.218077</td>\n",
       "      <td>8.341154</td>\n",
       "      <td>8.151538</td>\n",
       "      <td>7.072692</td>\n",
       "      <td>7.968499</td>\n",
       "    </tr>\n",
       "  </tbody>\n",
       "</table>\n",
       "</div>"
      ],
      "text/plain": [
       "                bikes         rf        rf2        rf3        rf4    mean_16\n",
       "station_id       16.0       16.0       16.0       16.0       16.0           \n",
       "hour                                                                        \n",
       "0.0          1.000000   1.000000   0.920000   0.990000   0.990000   7.685940\n",
       "1.0          1.000000   1.000000   1.020000   1.000000   1.000000   7.553086\n",
       "2.0          1.000000   1.000000   1.020000   1.000000   1.000000   7.555556\n",
       "3.0          1.000000   1.000000   1.020000   1.000000   1.000000   7.555556\n",
       "4.0          1.000000   1.000000   1.500000   1.000000   1.000000   7.538700\n",
       "5.0          1.000000   1.000000   1.030000   1.060000   1.010000   7.442767\n",
       "6.0          1.300000   1.327000   1.478667   1.390333   1.201333   7.174691\n",
       "7.0          4.400000   4.428333   5.247667   5.666000   4.282333   7.981459\n",
       "8.0          5.100000   5.152667   5.743667   5.604000   4.945000   8.192427\n",
       "9.0          5.200000   5.250667   6.423333   6.385000   5.624667   6.978395\n",
       "10.0         7.733333   7.922667   8.557333   8.498333   7.803000   7.306173\n",
       "11.0         7.833333   7.970333   9.712667   9.216667   7.992667   7.300000\n",
       "12.0         3.966667   4.001000   4.937667   4.775000   3.930667   6.551235\n",
       "13.0         2.300000   2.304667   2.735000   2.620000   2.420667   5.837654\n",
       "14.0         5.900000   5.966667   7.726000   7.893667   6.082000   7.997531\n",
       "15.0         8.566667   8.727333   9.957667   9.963333   9.063000   8.697531\n",
       "16.0        10.566667  10.664667  11.610667  11.704667  11.624000  11.008030\n",
       "17.0        17.400000  17.379667  17.993333  17.152000  17.397333  14.469136\n",
       "18.0        18.933333  18.881333  18.593667  17.929667  18.101000  14.054321\n",
       "19.0        16.800000  16.773667  17.290000  16.700333  16.428667  12.832509\n",
       "20.0        12.633333  12.613000  13.178000  13.168667  12.654000  11.282419\n",
       "21.0        10.900000  10.922333  11.613667  11.270000  10.570000   9.752635\n",
       "22.0         9.466667   9.690667  10.388000   9.433000   9.237667   8.297484\n",
       "23.0         7.038462   7.218077   8.341154   8.151538   7.072692   7.968499"
      ]
     },
     "execution_count": 189,
     "metadata": {},
     "output_type": "execute_result"
    }
   ],
   "source": [
    "dfPivot_16"
   ]
  },
  {
   "cell_type": "code",
   "execution_count": 173,
   "metadata": {},
   "outputs": [],
   "source": [
    "#dfPivot_16['mean_16_thurs'] = pivot_mean_thurs['16']"
   ]
  },
  {
   "cell_type": "code",
   "execution_count": 174,
   "metadata": {},
   "outputs": [],
   "source": [
    "#dfPivot_16['mean_16_thurs_aug'] = pivot_mean_thurs_aug['16']    "
   ]
  },
  {
   "cell_type": "code",
   "execution_count": 190,
   "metadata": {},
   "outputs": [
    {
     "data": {
      "text/plain": [
       "<matplotlib.axes._subplots.AxesSubplot at 0x1a1f370080>"
      ]
     },
     "execution_count": 190,
     "metadata": {},
     "output_type": "execute_result"
    },
    {
     "data": {
      "image/png": "[encoded data removed]",
      "text/plain": [
       "<matplotlib.figure.Figure at 0x1a1f41a5c0>"
      ]
     },
     "metadata": {},
     "output_type": "display_data"
    }
   ],
   "source": [
    "dfPivot_16.plot(subplots = False, figsize=(8,8), title=\"Georges Quay\", sharey=True)"
   ]
  },
  {
   "cell_type": "code",
   "execution_count": null,
   "metadata": {},
   "outputs": [],
   "source": []
  },
  {
   "cell_type": "code",
   "execution_count": 65,
   "metadata": {},
   "outputs": [
    {
     "data": {
      "text/html": [
       "<div>\n",
       "<style scoped>\n",
       "    .dataframe tbody tr th:only-of-type {\n",
       "        vertical-align: middle;\n",
       "    }\n",
       "\n",
       "    .dataframe tbody tr th {\n",
       "        vertical-align: top;\n",
       "    }\n",
       "\n",
       "    .dataframe thead th {\n",
       "        text-align: right;\n",
       "    }\n",
       "</style>\n",
       "<table border=\"1\" class=\"dataframe\">\n",
       "  <thead>\n",
       "    <tr style=\"text-align: right;\">\n",
       "      <th></th>\n",
       "      <th>station_id</th>\n",
       "      <th>bikes</th>\n",
       "      <th>spaces</th>\n",
       "      <th>total_docks</th>\n",
       "      <th>hour</th>\n",
       "      <th>day_of_week</th>\n",
       "      <th>month</th>\n",
       "      <th>weekend</th>\n",
       "      <th>bike_pull</th>\n",
       "      <th>bike_pull2</th>\n",
       "      <th>bike_pull3</th>\n",
       "      <th>bike_pull4</th>\n",
       "      <th>rf</th>\n",
       "      <th>rf2</th>\n",
       "      <th>rf3</th>\n",
       "      <th>rf4</th>\n",
       "      <th>std</th>\n",
       "      <th>std2</th>\n",
       "      <th>std3</th>\n",
       "      <th>std4</th>\n",
       "    </tr>\n",
       "    <tr>\n",
       "      <th>timestamp</th>\n",
       "      <th></th>\n",
       "      <th></th>\n",
       "      <th></th>\n",
       "      <th></th>\n",
       "      <th></th>\n",
       "      <th></th>\n",
       "      <th></th>\n",
       "      <th></th>\n",
       "      <th></th>\n",
       "      <th></th>\n",
       "      <th></th>\n",
       "      <th></th>\n",
       "      <th></th>\n",
       "      <th></th>\n",
       "      <th></th>\n",
       "      <th></th>\n",
       "      <th></th>\n",
       "      <th></th>\n",
       "      <th></th>\n",
       "      <th></th>\n",
       "    </tr>\n",
       "  </thead>\n",
       "  <tbody>\n",
       "    <tr>\n",
       "      <th>2018-02-08 00:08:00</th>\n",
       "      <td>89</td>\n",
       "      <td>2</td>\n",
       "      <td>38</td>\n",
       "      <td>40</td>\n",
       "      <td>0</td>\n",
       "      <td>3</td>\n",
       "      <td>2</td>\n",
       "      <td>0</td>\n",
       "      <td>2</td>\n",
       "      <td>2</td>\n",
       "      <td>2</td>\n",
       "      <td>2</td>\n",
       "      <td>2</td>\n",
       "      <td>2</td>\n",
       "      <td>2</td>\n",
       "      <td>1</td>\n",
       "      <td>0.00</td>\n",
       "      <td>0.30</td>\n",
       "      <td>0.03</td>\n",
       "      <td>0.11</td>\n",
       "    </tr>\n",
       "    <tr>\n",
       "      <th>2018-02-08 00:08:00</th>\n",
       "      <td>83</td>\n",
       "      <td>36</td>\n",
       "      <td>4</td>\n",
       "      <td>40</td>\n",
       "      <td>0</td>\n",
       "      <td>3</td>\n",
       "      <td>2</td>\n",
       "      <td>0</td>\n",
       "      <td>36</td>\n",
       "      <td>36</td>\n",
       "      <td>37</td>\n",
       "      <td>37</td>\n",
       "      <td>35</td>\n",
       "      <td>36</td>\n",
       "      <td>36</td>\n",
       "      <td>36</td>\n",
       "      <td>0.52</td>\n",
       "      <td>0.16</td>\n",
       "      <td>0.53</td>\n",
       "      <td>0.07</td>\n",
       "    </tr>\n",
       "  </tbody>\n",
       "</table>\n",
       "</div>"
      ],
      "text/plain": [
       "                     station_id  bikes  spaces  total_docks  hour  \\\n",
       "timestamp                                                           \n",
       "2018-02-08 00:08:00          89      2      38           40     0   \n",
       "2018-02-08 00:08:00          83     36       4           40     0   \n",
       "\n",
       "                     day_of_week  month  weekend  bike_pull  bike_pull2  \\\n",
       "timestamp                                                                 \n",
       "2018-02-08 00:08:00            3      2        0          2           2   \n",
       "2018-02-08 00:08:00            3      2        0         36          36   \n",
       "\n",
       "                     bike_pull3  bike_pull4  rf  rf2  rf3  rf4   std  std2  \\\n",
       "timestamp                                                                    \n",
       "2018-02-08 00:08:00           2           2   2    2    2    1  0.00  0.30   \n",
       "2018-02-08 00:08:00          37          37  35   36   36   36  0.52  0.16   \n",
       "\n",
       "                     std3  std4  \n",
       "timestamp                        \n",
       "2018-02-08 00:08:00  0.03  0.11  \n",
       "2018-02-08 00:08:00  0.53  0.07  "
      ]
     },
     "execution_count": 65,
     "metadata": {},
     "output_type": "execute_result"
    }
   ],
   "source": [
    "df.head(2)"
   ]
  },
  {
   "cell_type": "code",
   "execution_count": 51,
   "metadata": {},
   "outputs": [],
   "source": [
    "from sklearn.metrics import r2_score\n",
    "from scipy.stats import spearmanr, pearsonr"
   ]
  },
  {
   "cell_type": "code",
   "execution_count": 53,
   "metadata": {},
   "outputs": [],
   "source": [
    "test_score = r2_score(df['bike_pull'], df['rf'].astype(int))\n",
    "spearman = spearmanr(df['bike_pull'], df['rf'].astype(int))\n",
    "pearson = pearsonr(df['bike_pull'], df['rf'].astype(int))"
   ]
  },
  {
   "cell_type": "code",
   "execution_count": 54,
   "metadata": {},
   "outputs": [
    {
     "name": "stdout",
     "output_type": "stream",
     "text": [
      "Test data R-2 score: 0.994\n",
      "Test data Spearman correlation: 0.992\n",
      "Test data Pearson correlation: 0.998\n"
     ]
    }
   ],
   "source": [
    "#print(f'Out-of-bag R-2 score estimate: {rf.oob_score_:>5.3}')\n",
    "print(f'Test data R-2 score: {test_score:>5.3}')\n",
    "print(f'Test data Spearman correlation: {spearman[0]:.3}')\n",
    "print(f'Test data Pearson correlation: {pearson[0]:.3}')"
   ]
  },
  {
   "cell_type": "code",
   "execution_count": 57,
   "metadata": {},
   "outputs": [
    {
     "name": "stdout",
     "output_type": "stream",
     "text": [
      "Test data R-2 score:  0.98\n",
      "Test data Spearman correlation: 0.98\n",
      "Test data Pearson correlation: 0.99\n"
     ]
    }
   ],
   "source": [
    "test_score = r2_score(df['bike_pull2'], df['rf2'].astype(int))\n",
    "spearman = spearmanr(df['bike_pull2'], df['rf2'].astype(int))\n",
    "pearson = pearsonr(df['bike_pull2'], df['rf2'].astype(int))\n",
    "print(f'Test data R-2 score: {test_score:>5.3}')\n",
    "print(f'Test data Spearman correlation: {spearman[0]:.3}')\n",
    "print(f'Test data Pearson correlation: {pearson[0]:.3}')"
   ]
  },
  {
   "cell_type": "code",
   "execution_count": 58,
   "metadata": {},
   "outputs": [
    {
     "name": "stdout",
     "output_type": "stream",
     "text": [
      "Test data R-2 score: 0.968\n",
      "Test data Spearman correlation: 0.972\n",
      "Test data Pearson correlation: 0.984\n"
     ]
    }
   ],
   "source": [
    "test_score = r2_score(df['bike_pull3'], df['rf3'].astype(int))\n",
    "spearman = spearmanr(df['bike_pull3'], df['rf3'].astype(int))\n",
    "pearson = pearsonr(df['bike_pull3'], df['rf3'].astype(int))\n",
    "print(f'Test data R-2 score: {test_score:>5.3}')\n",
    "print(f'Test data Spearman correlation: {spearman[0]:.3}')\n",
    "print(f'Test data Pearson correlation: {pearson[0]:.3}')"
   ]
  },
  {
   "cell_type": "code",
   "execution_count": 59,
   "metadata": {},
   "outputs": [
    {
     "name": "stdout",
     "output_type": "stream",
     "text": [
      "Test data R-2 score: 0.978\n",
      "Test data Spearman correlation: 0.967\n",
      "Test data Pearson correlation: 0.989\n"
     ]
    }
   ],
   "source": [
    "test_score = r2_score(df['bike_pull4'], df['rf4'].astype(int))\n",
    "spearman = spearmanr(df['bike_pull4'], df['rf4'].astype(int))\n",
    "pearson = pearsonr(df['bike_pull4'], df['rf4'].astype(int))\n",
    "print(f'Test data R-2 score: {test_score:>5.3}')\n",
    "print(f'Test data Spearman correlation: {spearman[0]:.3}')\n",
    "print(f'Test data Pearson correlation: {pearson[0]:.3}')"
   ]
  },
  {
   "cell_type": "code",
   "execution_count": null,
   "metadata": {},
   "outputs": [],
   "source": []
  },
  {
   "cell_type": "code",
   "execution_count": 60,
   "metadata": {},
   "outputs": [],
   "source": [
    "df['rf'] = df['rf'].astype(int)"
   ]
  },
  {
   "cell_type": "code",
   "execution_count": 61,
   "metadata": {},
   "outputs": [],
   "source": [
    "df['rf2'] = df['rf2'].astype(int)"
   ]
  },
  {
   "cell_type": "code",
   "execution_count": 62,
   "metadata": {},
   "outputs": [],
   "source": [
    "df['rf3'] = df['rf3'].astype(int)"
   ]
  },
  {
   "cell_type": "code",
   "execution_count": 63,
   "metadata": {},
   "outputs": [],
   "source": [
    "df['rf4'] = df['rf4'].astype(int)"
   ]
  },
  {
   "cell_type": "code",
   "execution_count": 64,
   "metadata": {},
   "outputs": [
    {
     "name": "stdout",
     "output_type": "stream",
     "text": [
      "<class 'pandas.core.frame.DataFrame'>\n",
      "DatetimeIndex: 77608 entries, 2018-02-08 00:08:00 to 2018-02-08 23:50:00\n",
      "Data columns (total 20 columns):\n",
      "station_id     77608 non-null int64\n",
      "bikes          77608 non-null int64\n",
      "spaces         77608 non-null int64\n",
      "total_docks    77608 non-null int64\n",
      "hour           77608 non-null int64\n",
      "day_of_week    77608 non-null int64\n",
      "month          77608 non-null int64\n",
      "weekend        77608 non-null int64\n",
      "bike_pull      77608 non-null int64\n",
      "bike_pull2     77608 non-null int64\n",
      "bike_pull3     77608 non-null int64\n",
      "bike_pull4     77608 non-null int64\n",
      "rf             77608 non-null int64\n",
      "rf2            77608 non-null int64\n",
      "rf3            77608 non-null int64\n",
      "rf4            77608 non-null int64\n",
      "std            77608 non-null float64\n",
      "std2           77608 non-null float64\n",
      "std3           77608 non-null float64\n",
      "std4           77608 non-null float64\n",
      "dtypes: float64(4), int64(16)\n",
      "memory usage: 14.9 MB\n"
     ]
    }
   ],
   "source": [
    "df.info()"
   ]
  },
  {
   "cell_type": "code",
   "execution_count": null,
   "metadata": {},
   "outputs": [],
   "source": []
  },
  {
   "cell_type": "code",
   "execution_count": 105,
   "metadata": {},
   "outputs": [
    {
     "data": {
      "text/html": [
       "<div>\n",
       "<style scoped>\n",
       "    .dataframe tbody tr th:only-of-type {\n",
       "        vertical-align: middle;\n",
       "    }\n",
       "\n",
       "    .dataframe tbody tr th {\n",
       "        vertical-align: top;\n",
       "    }\n",
       "\n",
       "    .dataframe thead th {\n",
       "        text-align: right;\n",
       "    }\n",
       "</style>\n",
       "<table border=\"1\" class=\"dataframe\">\n",
       "  <thead>\n",
       "    <tr style=\"text-align: right;\">\n",
       "      <th></th>\n",
       "      <th>station_id</th>\n",
       "      <th>bikes</th>\n",
       "      <th>spaces</th>\n",
       "      <th>total_docks</th>\n",
       "      <th>hour</th>\n",
       "      <th>day_of_week</th>\n",
       "      <th>month</th>\n",
       "      <th>weekend</th>\n",
       "      <th>bike_pull</th>\n",
       "      <th>bike_pull2</th>\n",
       "      <th>bike_pull3</th>\n",
       "      <th>bike_pull4</th>\n",
       "      <th>rf</th>\n",
       "      <th>rf2</th>\n",
       "      <th>rf3</th>\n",
       "      <th>rf4</th>\n",
       "      <th>std</th>\n",
       "      <th>std2</th>\n",
       "      <th>std3</th>\n",
       "      <th>std4</th>\n",
       "    </tr>\n",
       "    <tr>\n",
       "      <th>timestamp</th>\n",
       "      <th></th>\n",
       "      <th></th>\n",
       "      <th></th>\n",
       "      <th></th>\n",
       "      <th></th>\n",
       "      <th></th>\n",
       "      <th></th>\n",
       "      <th></th>\n",
       "      <th></th>\n",
       "      <th></th>\n",
       "      <th></th>\n",
       "      <th></th>\n",
       "      <th></th>\n",
       "      <th></th>\n",
       "      <th></th>\n",
       "      <th></th>\n",
       "      <th></th>\n",
       "      <th></th>\n",
       "      <th></th>\n",
       "      <th></th>\n",
       "    </tr>\n",
       "  </thead>\n",
       "  <tbody>\n",
       "    <tr>\n",
       "      <th>2018-02-08 00:08:00</th>\n",
       "      <td>89</td>\n",
       "      <td>2</td>\n",
       "      <td>38</td>\n",
       "      <td>40</td>\n",
       "      <td>0</td>\n",
       "      <td>3</td>\n",
       "      <td>2</td>\n",
       "      <td>0</td>\n",
       "      <td>2</td>\n",
       "      <td>2</td>\n",
       "      <td>2</td>\n",
       "      <td>2</td>\n",
       "      <td>2</td>\n",
       "      <td>2</td>\n",
       "      <td>2</td>\n",
       "      <td>1</td>\n",
       "      <td>0.00</td>\n",
       "      <td>0.30</td>\n",
       "      <td>0.03</td>\n",
       "      <td>0.11</td>\n",
       "    </tr>\n",
       "    <tr>\n",
       "      <th>2018-02-08 00:08:00</th>\n",
       "      <td>83</td>\n",
       "      <td>36</td>\n",
       "      <td>4</td>\n",
       "      <td>40</td>\n",
       "      <td>0</td>\n",
       "      <td>3</td>\n",
       "      <td>2</td>\n",
       "      <td>0</td>\n",
       "      <td>36</td>\n",
       "      <td>36</td>\n",
       "      <td>37</td>\n",
       "      <td>37</td>\n",
       "      <td>35</td>\n",
       "      <td>36</td>\n",
       "      <td>36</td>\n",
       "      <td>36</td>\n",
       "      <td>0.52</td>\n",
       "      <td>0.16</td>\n",
       "      <td>0.53</td>\n",
       "      <td>0.07</td>\n",
       "    </tr>\n",
       "    <tr>\n",
       "      <th>2018-02-08 00:08:00</th>\n",
       "      <td>24</td>\n",
       "      <td>17</td>\n",
       "      <td>3</td>\n",
       "      <td>20</td>\n",
       "      <td>0</td>\n",
       "      <td>3</td>\n",
       "      <td>2</td>\n",
       "      <td>0</td>\n",
       "      <td>17</td>\n",
       "      <td>17</td>\n",
       "      <td>17</td>\n",
       "      <td>17</td>\n",
       "      <td>16</td>\n",
       "      <td>16</td>\n",
       "      <td>17</td>\n",
       "      <td>17</td>\n",
       "      <td>0.02</td>\n",
       "      <td>0.08</td>\n",
       "      <td>0.05</td>\n",
       "      <td>0.18</td>\n",
       "    </tr>\n",
       "    <tr>\n",
       "      <th>2018-02-08 00:08:00</th>\n",
       "      <td>61</td>\n",
       "      <td>2</td>\n",
       "      <td>23</td>\n",
       "      <td>25</td>\n",
       "      <td>0</td>\n",
       "      <td>3</td>\n",
       "      <td>2</td>\n",
       "      <td>0</td>\n",
       "      <td>2</td>\n",
       "      <td>2</td>\n",
       "      <td>2</td>\n",
       "      <td>3</td>\n",
       "      <td>2</td>\n",
       "      <td>3</td>\n",
       "      <td>3</td>\n",
       "      <td>2</td>\n",
       "      <td>0.00</td>\n",
       "      <td>1.07</td>\n",
       "      <td>1.09</td>\n",
       "      <td>0.69</td>\n",
       "    </tr>\n",
       "    <tr>\n",
       "      <th>2018-02-08 00:08:00</th>\n",
       "      <td>104</td>\n",
       "      <td>8</td>\n",
       "      <td>32</td>\n",
       "      <td>40</td>\n",
       "      <td>0</td>\n",
       "      <td>3</td>\n",
       "      <td>2</td>\n",
       "      <td>0</td>\n",
       "      <td>8</td>\n",
       "      <td>8</td>\n",
       "      <td>8</td>\n",
       "      <td>8</td>\n",
       "      <td>7</td>\n",
       "      <td>11</td>\n",
       "      <td>12</td>\n",
       "      <td>8</td>\n",
       "      <td>0.08</td>\n",
       "      <td>2.39</td>\n",
       "      <td>3.30</td>\n",
       "      <td>0.05</td>\n",
       "    </tr>\n",
       "  </tbody>\n",
       "</table>\n",
       "</div>"
      ],
      "text/plain": [
       "                     station_id  bikes  spaces  total_docks  hour  \\\n",
       "timestamp                                                           \n",
       "2018-02-08 00:08:00          89      2      38           40     0   \n",
       "2018-02-08 00:08:00          83     36       4           40     0   \n",
       "2018-02-08 00:08:00          24     17       3           20     0   \n",
       "2018-02-08 00:08:00          61      2      23           25     0   \n",
       "2018-02-08 00:08:00         104      8      32           40     0   \n",
       "\n",
       "                     day_of_week  month  weekend  bike_pull  bike_pull2  \\\n",
       "timestamp                                                                 \n",
       "2018-02-08 00:08:00            3      2        0          2           2   \n",
       "2018-02-08 00:08:00            3      2        0         36          36   \n",
       "2018-02-08 00:08:00            3      2        0         17          17   \n",
       "2018-02-08 00:08:00            3      2        0          2           2   \n",
       "2018-02-08 00:08:00            3      2        0          8           8   \n",
       "\n",
       "                     bike_pull3  bike_pull4  rf  rf2  rf3  rf4   std  std2  \\\n",
       "timestamp                                                                    \n",
       "2018-02-08 00:08:00           2           2   2    2    2    1  0.00  0.30   \n",
       "2018-02-08 00:08:00          37          37  35   36   36   36  0.52  0.16   \n",
       "2018-02-08 00:08:00          17          17  16   16   17   17  0.02  0.08   \n",
       "2018-02-08 00:08:00           2           3   2    3    3    2  0.00  1.07   \n",
       "2018-02-08 00:08:00           8           8   7   11   12    8  0.08  2.39   \n",
       "\n",
       "                     std3  std4  \n",
       "timestamp                        \n",
       "2018-02-08 00:08:00  0.03  0.11  \n",
       "2018-02-08 00:08:00  0.53  0.07  \n",
       "2018-02-08 00:08:00  0.05  0.18  \n",
       "2018-02-08 00:08:00  1.09  0.69  \n",
       "2018-02-08 00:08:00  3.30  0.05  "
      ]
     },
     "execution_count": 105,
     "metadata": {},
     "output_type": "execute_result"
    }
   ],
   "source": [
    "df.head()"
   ]
  },
  {
   "cell_type": "code",
   "execution_count": 109,
   "metadata": {},
   "outputs": [],
   "source": [
    "pivvvvot = pd.pivot_table(df, values = [\"bike_pull\",\"bike_pull2\",\"bike_pull3\",\"bike_pull4\",\"rf\",\"rf2\",\"rf3\",\"rf4\"], \n",
    "                             index = \"hour\")"
   ]
  },
  {
   "cell_type": "code",
   "execution_count": 113,
   "metadata": {},
   "outputs": [
    {
     "data": {
      "text/plain": [
       "<matplotlib.axes._subplots.AxesSubplot at 0x1a23511ef0>"
      ]
     },
     "execution_count": 113,
     "metadata": {},
     "output_type": "execute_result"
    },
    {
     "data": {
      "image/png": "[encoded data removed]",
      "text/plain": [
       "<matplotlib.figure.Figure at 0x1a23373da0>"
      ]
     },
     "metadata": {},
     "output_type": "display_data"
    }
   ],
   "source": [
    "pivvvvot.plot(subplots = False, figsize=(8,8), title=\"Dublinbikes - mean of stations\", sharey=True)"
   ]
  },
  {
   "cell_type": "code",
   "execution_count": 102,
   "metadata": {},
   "outputs": [],
   "source": [
    "pivvvvot = pd.pivot_table(df, values = [\"bike_pull\",\"bike_pull2\",\"bike_pull3\",\"bike_pull4\",\"rf\",\"rf2\",\"rf3\",\"rf4\"], \n",
    "                          columns = \"day_of_week\",\n",
    "                             index = \"hour\")"
   ]
  },
  {
   "cell_type": "code",
   "execution_count": 112,
   "metadata": {},
   "outputs": [
    {
     "data": {
      "text/plain": [
       "array([<matplotlib.axes._subplots.AxesSubplot object at 0x1a2304afd0>,\n",
       "       <matplotlib.axes._subplots.AxesSubplot object at 0x1a23254470>,\n",
       "       <matplotlib.axes._subplots.AxesSubplot object at 0x1a2328e1d0>,\n",
       "       <matplotlib.axes._subplots.AxesSubplot object at 0x1a232c80f0>,\n",
       "       <matplotlib.axes._subplots.AxesSubplot object at 0x1a232f9e10>,\n",
       "       <matplotlib.axes._subplots.AxesSubplot object at 0x1a232f9e48>,\n",
       "       <matplotlib.axes._subplots.AxesSubplot object at 0x1a23365550>,\n",
       "       <matplotlib.axes._subplots.AxesSubplot object at 0x1a233a02b0>],\n",
       "      dtype=object)"
      ]
     },
     "execution_count": 112,
     "metadata": {},
     "output_type": "execute_result"
    },
    {
     "data": {
      "image/png": "[encoded data removed]",
      "text/plain": [
       "<matplotlib.figure.Figure at 0x1a22bae908>"
      ]
     },
     "metadata": {},
     "output_type": "display_data"
    }
   ],
   "source": [
    "pivvvvot.plot(subplots = True, figsize=(8,8), title=\"Dublinbikes - mean of stations\", sharey=True)"
   ]
  },
  {
   "cell_type": "code",
   "execution_count": null,
   "metadata": {},
   "outputs": [],
   "source": []
  },
  {
   "cell_type": "code",
   "execution_count": null,
   "metadata": {},
   "outputs": [],
   "source": []
  },
  {
   "cell_type": "code",
   "execution_count": null,
   "metadata": {},
   "outputs": [],
   "source": []
  },
  {
   "cell_type": "code",
   "execution_count": null,
   "metadata": {},
   "outputs": [],
   "source": []
  },
  {
   "cell_type": "code",
   "execution_count": null,
   "metadata": {},
   "outputs": [],
   "source": []
  },
  {
   "cell_type": "code",
   "execution_count": null,
   "metadata": {},
   "outputs": [],
   "source": []
  },
  {
   "cell_type": "code",
   "execution_count": null,
   "metadata": {},
   "outputs": [],
   "source": []
  },
  {
   "cell_type": "code",
   "execution_count": 114,
   "metadata": {},
   "outputs": [
    {
     "name": "stdout",
     "output_type": "stream",
     "text": [
      "<class 'pandas.core.frame.DataFrame'>\n",
      "DatetimeIndex: 77608 entries, 2018-02-08 00:08:00 to 2018-02-08 23:50:00\n",
      "Data columns (total 20 columns):\n",
      "station_id     77608 non-null int64\n",
      "bikes          77608 non-null int64\n",
      "spaces         77608 non-null int64\n",
      "total_docks    77608 non-null int64\n",
      "hour           77608 non-null int64\n",
      "day_of_week    77608 non-null int64\n",
      "month          77608 non-null int64\n",
      "weekend        77608 non-null int64\n",
      "bike_pull      77608 non-null int64\n",
      "bike_pull2     77608 non-null int64\n",
      "bike_pull3     77608 non-null int64\n",
      "bike_pull4     77608 non-null int64\n",
      "rf             77608 non-null int64\n",
      "rf2            77608 non-null int64\n",
      "rf3            77608 non-null int64\n",
      "rf4            77608 non-null int64\n",
      "std            77608 non-null float64\n",
      "std2           77608 non-null float64\n",
      "std3           77608 non-null float64\n",
      "std4           77608 non-null float64\n",
      "dtypes: float64(4), int64(16)\n",
      "memory usage: 14.9 MB\n"
     ]
    }
   ],
   "source": [
    "df.info()"
   ]
  },
  {
   "cell_type": "code",
   "execution_count": 213,
   "metadata": {},
   "outputs": [],
   "source": [
    "dfPivot_all = pd.pivot_table(df, values = [\"bikes\"], \n",
    "                             index = \"hour\")\n"
   ]
  },
  {
   "cell_type": "code",
   "execution_count": 214,
   "metadata": {},
   "outputs": [],
   "source": [
    "dfPivot_all['mean_all'] = pivot_mean_hour['all']"
   ]
  },
  {
   "cell_type": "code",
   "execution_count": 215,
   "metadata": {},
   "outputs": [
    {
     "data": {
      "text/plain": [
       "<matplotlib.axes._subplots.AxesSubplot at 0x1a1f89e3c8>"
      ]
     },
     "execution_count": 215,
     "metadata": {},
     "output_type": "execute_result"
    },
    {
     "data": {
      "image/png": "[encoded data removed]",
      "text/plain": [
       "<matplotlib.figure.Figure at 0x1a1f898438>"
      ]
     },
     "metadata": {},
     "output_type": "display_data"
    }
   ],
   "source": [
    "dfPivot_all.plot(subplots = False, figsize=(8,8), title=\"Dublinbikes - mean of stations\", sharey=True)"
   ]
  },
  {
   "cell_type": "code",
   "execution_count": null,
   "metadata": {},
   "outputs": [],
   "source": []
  },
  {
   "cell_type": "code",
   "execution_count": null,
   "metadata": {},
   "outputs": [],
   "source": []
  },
  {
   "cell_type": "code",
   "execution_count": null,
   "metadata": {},
   "outputs": [],
   "source": []
  },
  {
   "cell_type": "code",
   "execution_count": null,
   "metadata": {},
   "outputs": [],
   "source": []
  },
  {
   "cell_type": "code",
   "execution_count": null,
   "metadata": {},
   "outputs": [],
   "source": []
  },
  {
   "cell_type": "code",
   "execution_count": 216,
   "metadata": {},
   "outputs": [
    {
     "data": {
      "text/html": [
       "<div>\n",
       "<style scoped>\n",
       "    .dataframe tbody tr th:only-of-type {\n",
       "        vertical-align: middle;\n",
       "    }\n",
       "\n",
       "    .dataframe tbody tr th {\n",
       "        vertical-align: top;\n",
       "    }\n",
       "\n",
       "    .dataframe thead th {\n",
       "        text-align: right;\n",
       "    }\n",
       "</style>\n",
       "<table border=\"1\" class=\"dataframe\">\n",
       "  <thead>\n",
       "    <tr style=\"text-align: right;\">\n",
       "      <th></th>\n",
       "      <th>station_id</th>\n",
       "      <th>bikes</th>\n",
       "      <th>spaces</th>\n",
       "      <th>total_docks</th>\n",
       "      <th>hour</th>\n",
       "      <th>day_of_week</th>\n",
       "      <th>month</th>\n",
       "      <th>weekend</th>\n",
       "      <th>bike_pull</th>\n",
       "      <th>bike_pull2</th>\n",
       "      <th>...</th>\n",
       "      <th>rf4</th>\n",
       "      <th>std</th>\n",
       "      <th>std2</th>\n",
       "      <th>std3</th>\n",
       "      <th>std4</th>\n",
       "      <th>delta</th>\n",
       "      <th>delta2</th>\n",
       "      <th>delta3</th>\n",
       "      <th>delta4</th>\n",
       "      <th>time</th>\n",
       "    </tr>\n",
       "    <tr>\n",
       "      <th>timestamp</th>\n",
       "      <th></th>\n",
       "      <th></th>\n",
       "      <th></th>\n",
       "      <th></th>\n",
       "      <th></th>\n",
       "      <th></th>\n",
       "      <th></th>\n",
       "      <th></th>\n",
       "      <th></th>\n",
       "      <th></th>\n",
       "      <th></th>\n",
       "      <th></th>\n",
       "      <th></th>\n",
       "      <th></th>\n",
       "      <th></th>\n",
       "      <th></th>\n",
       "      <th></th>\n",
       "      <th></th>\n",
       "      <th></th>\n",
       "      <th></th>\n",
       "      <th></th>\n",
       "    </tr>\n",
       "  </thead>\n",
       "  <tbody>\n",
       "    <tr>\n",
       "      <th>2018-08-02 00:08:00</th>\n",
       "      <td>89.0</td>\n",
       "      <td>2.0</td>\n",
       "      <td>38.0</td>\n",
       "      <td>40.0</td>\n",
       "      <td>0.0</td>\n",
       "      <td>3.0</td>\n",
       "      <td>2.0</td>\n",
       "      <td>0.0</td>\n",
       "      <td>2.0</td>\n",
       "      <td>2.0</td>\n",
       "      <td>...</td>\n",
       "      <td>1.84</td>\n",
       "      <td>0.00</td>\n",
       "      <td>0.30</td>\n",
       "      <td>0.03</td>\n",
       "      <td>0.11</td>\n",
       "      <td>0.0</td>\n",
       "      <td>0.0</td>\n",
       "      <td>0.0</td>\n",
       "      <td>0.0</td>\n",
       "      <td>00:08:00</td>\n",
       "    </tr>\n",
       "    <tr>\n",
       "      <th>2018-08-02 00:08:00</th>\n",
       "      <td>83.0</td>\n",
       "      <td>36.0</td>\n",
       "      <td>4.0</td>\n",
       "      <td>40.0</td>\n",
       "      <td>0.0</td>\n",
       "      <td>3.0</td>\n",
       "      <td>2.0</td>\n",
       "      <td>0.0</td>\n",
       "      <td>36.0</td>\n",
       "      <td>36.0</td>\n",
       "      <td>...</td>\n",
       "      <td>36.90</td>\n",
       "      <td>0.52</td>\n",
       "      <td>0.16</td>\n",
       "      <td>0.53</td>\n",
       "      <td>0.07</td>\n",
       "      <td>1.0</td>\n",
       "      <td>0.0</td>\n",
       "      <td>1.0</td>\n",
       "      <td>0.0</td>\n",
       "      <td>00:08:00</td>\n",
       "    </tr>\n",
       "    <tr>\n",
       "      <th>2018-08-02 00:08:00</th>\n",
       "      <td>24.0</td>\n",
       "      <td>17.0</td>\n",
       "      <td>3.0</td>\n",
       "      <td>20.0</td>\n",
       "      <td>0.0</td>\n",
       "      <td>3.0</td>\n",
       "      <td>2.0</td>\n",
       "      <td>0.0</td>\n",
       "      <td>17.0</td>\n",
       "      <td>17.0</td>\n",
       "      <td>...</td>\n",
       "      <td>17.26</td>\n",
       "      <td>0.02</td>\n",
       "      <td>0.08</td>\n",
       "      <td>0.05</td>\n",
       "      <td>0.18</td>\n",
       "      <td>0.0</td>\n",
       "      <td>0.0</td>\n",
       "      <td>0.0</td>\n",
       "      <td>0.0</td>\n",
       "      <td>00:08:00</td>\n",
       "    </tr>\n",
       "    <tr>\n",
       "      <th>2018-08-02 00:08:00</th>\n",
       "      <td>61.0</td>\n",
       "      <td>2.0</td>\n",
       "      <td>23.0</td>\n",
       "      <td>25.0</td>\n",
       "      <td>0.0</td>\n",
       "      <td>3.0</td>\n",
       "      <td>2.0</td>\n",
       "      <td>0.0</td>\n",
       "      <td>2.0</td>\n",
       "      <td>2.0</td>\n",
       "      <td>...</td>\n",
       "      <td>2.03</td>\n",
       "      <td>0.00</td>\n",
       "      <td>1.07</td>\n",
       "      <td>1.09</td>\n",
       "      <td>0.69</td>\n",
       "      <td>0.0</td>\n",
       "      <td>2.0</td>\n",
       "      <td>2.0</td>\n",
       "      <td>1.0</td>\n",
       "      <td>00:08:00</td>\n",
       "    </tr>\n",
       "    <tr>\n",
       "      <th>2018-08-02 00:08:00</th>\n",
       "      <td>104.0</td>\n",
       "      <td>8.0</td>\n",
       "      <td>32.0</td>\n",
       "      <td>40.0</td>\n",
       "      <td>0.0</td>\n",
       "      <td>3.0</td>\n",
       "      <td>2.0</td>\n",
       "      <td>0.0</td>\n",
       "      <td>8.0</td>\n",
       "      <td>8.0</td>\n",
       "      <td>...</td>\n",
       "      <td>8.07</td>\n",
       "      <td>0.08</td>\n",
       "      <td>2.39</td>\n",
       "      <td>3.30</td>\n",
       "      <td>0.05</td>\n",
       "      <td>0.0</td>\n",
       "      <td>3.0</td>\n",
       "      <td>5.0</td>\n",
       "      <td>0.0</td>\n",
       "      <td>00:08:00</td>\n",
       "    </tr>\n",
       "  </tbody>\n",
       "</table>\n",
       "<p>5 rows × 25 columns</p>\n",
       "</div>"
      ],
      "text/plain": [
       "                     station_id  bikes  spaces  total_docks  hour  \\\n",
       "timestamp                                                           \n",
       "2018-08-02 00:08:00        89.0    2.0    38.0         40.0   0.0   \n",
       "2018-08-02 00:08:00        83.0   36.0     4.0         40.0   0.0   \n",
       "2018-08-02 00:08:00        24.0   17.0     3.0         20.0   0.0   \n",
       "2018-08-02 00:08:00        61.0    2.0    23.0         25.0   0.0   \n",
       "2018-08-02 00:08:00       104.0    8.0    32.0         40.0   0.0   \n",
       "\n",
       "                     day_of_week  month  weekend  bike_pull  bike_pull2  \\\n",
       "timestamp                                                                 \n",
       "2018-08-02 00:08:00          3.0    2.0      0.0        2.0         2.0   \n",
       "2018-08-02 00:08:00          3.0    2.0      0.0       36.0        36.0   \n",
       "2018-08-02 00:08:00          3.0    2.0      0.0       17.0        17.0   \n",
       "2018-08-02 00:08:00          3.0    2.0      0.0        2.0         2.0   \n",
       "2018-08-02 00:08:00          3.0    2.0      0.0        8.0         8.0   \n",
       "\n",
       "                       ...       rf4   std  std2  std3  std4  delta  delta2  \\\n",
       "timestamp              ...                                                    \n",
       "2018-08-02 00:08:00    ...      1.84  0.00  0.30  0.03  0.11    0.0     0.0   \n",
       "2018-08-02 00:08:00    ...     36.90  0.52  0.16  0.53  0.07    1.0     0.0   \n",
       "2018-08-02 00:08:00    ...     17.26  0.02  0.08  0.05  0.18    0.0     0.0   \n",
       "2018-08-02 00:08:00    ...      2.03  0.00  1.07  1.09  0.69    0.0     2.0   \n",
       "2018-08-02 00:08:00    ...      8.07  0.08  2.39  3.30  0.05    0.0     3.0   \n",
       "\n",
       "                     delta3  delta4      time  \n",
       "timestamp                                      \n",
       "2018-08-02 00:08:00     0.0     0.0  00:08:00  \n",
       "2018-08-02 00:08:00     1.0     0.0  00:08:00  \n",
       "2018-08-02 00:08:00     0.0     0.0  00:08:00  \n",
       "2018-08-02 00:08:00     2.0     1.0  00:08:00  \n",
       "2018-08-02 00:08:00     5.0     0.0  00:08:00  \n",
       "\n",
       "[5 rows x 25 columns]"
      ]
     },
     "execution_count": 216,
     "metadata": {},
     "output_type": "execute_result"
    }
   ],
   "source": [
    "df.head()"
   ]
  },
  {
   "cell_type": "code",
   "execution_count": null,
   "metadata": {},
   "outputs": [],
   "source": []
  },
  {
   "cell_type": "code",
   "execution_count": null,
   "metadata": {},
   "outputs": [],
   "source": []
  },
  {
   "cell_type": "code",
   "execution_count": null,
   "metadata": {},
   "outputs": [],
   "source": []
  },
  {
   "cell_type": "code",
   "execution_count": null,
   "metadata": {},
   "outputs": [],
   "source": []
  },
  {
   "cell_type": "code",
   "execution_count": null,
   "metadata": {},
   "outputs": [],
   "source": []
  },
  {
   "cell_type": "code",
   "execution_count": null,
   "metadata": {},
   "outputs": [],
   "source": []
  },
  {
   "cell_type": "code",
   "execution_count": null,
   "metadata": {},
   "outputs": [],
   "source": []
  },
  {
   "cell_type": "code",
   "execution_count": null,
   "metadata": {},
   "outputs": [],
   "source": []
  },
  {
   "cell_type": "code",
   "execution_count": null,
   "metadata": {},
   "outputs": [],
   "source": []
  }
 ],
 "metadata": {
  "kernelspec": {
   "display_name": "Python 3",
   "language": "python",
   "name": "python3"
  },
  "language_info": {
   "codemirror_mode": {
    "name": "ipython",
    "version": 3
   },
   "file_extension": ".py",
   "mimetype": "text/x-python",
   "name": "python",
   "nbconvert_exporter": "python",
   "pygments_lexer": "ipython3",
   "version": "3.6.4"
  }
 },
 "nbformat": 4,
 "nbformat_minor": 2
}
