{
 "cells": [
  {
   "cell_type": "code",
   "execution_count": 3,
   "metadata": {},
   "outputs": [],
   "source": [
    "import pandas as pd\n",
    "import numpy as np\n",
    "import matplotlib.pyplot as plt\n",
    "import seaborn as sns\n",
    "from sklearn.model_selection import train_test_split\n",
    "from sklearn.metrics import classification_report, confusion_matrix\n",
    "from sklearn.tree import DecisionTreeClassifier\n",
    "\n",
    "from sklearn.ensemble import RandomForestClassifier\n",
    "from sklearn.ensemble import RandomForestRegressor\n",
    "\n",
    "import IPython\n",
    "from sklearn.externals import joblib\n",
    "\n"
   ]
  },
  {
   "cell_type": "code",
   "execution_count": 4,
   "metadata": {},
   "outputs": [
    {
     "name": "stdout",
     "output_type": "stream",
     "text": [
      "/Volumes/NEILOSX\n"
     ]
    }
   ],
   "source": [
    "cd /Volumes/NEILOSX"
   ]
  },
  {
   "cell_type": "code",
   "execution_count": 15,
   "metadata": {},
   "outputs": [
    {
     "name": "stdout",
     "output_type": "stream",
     "text": [
      "total 178157824\r\n",
      "-rwxrwxrwx@ 1 neil  staff   3269080435 29 Jun 16:11 \u001b[31m176-01-ind_dublinalt.csv\u001b[m\u001b[m*\r\n",
      "-rwxrwxrwx@ 1 neil  staff    380468503 29 Jun 16:06 \u001b[31m176-01-ind_dublinalt.csv.gz\u001b[m\u001b[m*\r\n",
      "-rwxrwxrwx  1 neil  staff    870264114 13 Jul 00:57 \u001b[31m2017-06.csv\u001b[m\u001b[m*\r\n",
      "-rwxrwxrwx  1 neil  staff   1313890996 27 Jul 19:58 \u001b[31m2018_pulled_features.csv\u001b[m\u001b[m*\r\n",
      "-rwxrwxrwx  1 neil  staff   1523606168 29 Jul 18:25 \u001b[31m2018_pulled_features_plusfour.csv\u001b[m\u001b[m*\r\n",
      "-rwxrwxrwx  1 neil  staff   1453701111 28 Jul 23:20 \u001b[31m2018_pulled_features_plusthree.csv\u001b[m\u001b[m*\r\n",
      "-rwxrwxrwx  1 neil  staff   1383796054 27 Jul 23:53 \u001b[31m2018_pulled_features_plustwo.csv\u001b[m\u001b[m*\r\n",
      "-rwxrwxrwx@ 1 neil  staff      5889966 19 Jun 01:27 \u001b[31mNick Cave and the Bad Seeds - We No Who U R.mp3\u001b[m\u001b[m*\r\n",
      "-rwxrwxrwx  1 neil  staff  14156808468 28 Jul 22:40 \u001b[31mjoblib_model_pull1.pkl\u001b[m\u001b[m*\r\n",
      "-rwxrwxrwx  1 neil  staff  19057752980 28 Jul 11:15 \u001b[31mjoblib_model_pull2.pkl\u001b[m\u001b[m*\r\n",
      "-rwxrwxrwx  1 neil  staff  22584317204 29 Jul 03:59 \u001b[31mjoblib_model_pull3.pkl\u001b[m\u001b[m*\r\n",
      "-rwxrwxrwx  1 neil  staff  25215792020 29 Jul 22:05 \u001b[31mjoblib_model_pull4.pkl\u001b[m\u001b[m*\r\n",
      "-rwxrwxrwx@ 1 neil  staff         5323 27 Jul 23:16 \u001b[31mvalidateme.csv\u001b[m\u001b[m*\r\n",
      "-rwxrwxrwx@ 1 neil  staff         6518 28 Jul 11:07 \u001b[31mvalidateme2.csv\u001b[m\u001b[m*\r\n",
      "-rwxrwxrwx@ 1 neil  staff         6845 29 Jul 10:54 \u001b[31mvalidateme3.csv\u001b[m\u001b[m*\r\n",
      "-rwxrwxrwx@ 1 neil  staff         5943 29 Jul 23:22 \u001b[31mvalidateme4 copy.csv\u001b[m\u001b[m*\r\n",
      "-rwxrwxrwx@ 1 neil  staff         7115 29 Jul 21:45 \u001b[31mvalidateme4.csv\u001b[m\u001b[m*\r\n"
     ]
    }
   ],
   "source": [
    "ls -l"
   ]
  },
  {
   "cell_type": "code",
   "execution_count": 6,
   "metadata": {},
   "outputs": [],
   "source": [
    "model_01_pickle = \"joblib_model_pull1.pkl\"  "
   ]
  },
  {
   "cell_type": "code",
   "execution_count": 8,
   "metadata": {
    "scrolled": true
   },
   "outputs": [
    {
     "name": "stdout",
     "output_type": "stream",
     "text": [
      "CPU times: user 19.9 s, sys: 42.1 s, total: 1min 1s\n",
      "Wall time: 3min 34s\n"
     ]
    }
   ],
   "source": [
    "%%time\n",
    "model_01 = joblib.load(model_01_pickle) "
   ]
  },
  {
   "cell_type": "code",
   "execution_count": null,
   "metadata": {},
   "outputs": [],
   "source": []
  },
  {
   "cell_type": "code",
   "execution_count": 10,
   "metadata": {},
   "outputs": [],
   "source": [
    "pred_X_test = pd.read_csv('validateme4 copy.csv', index_col='timestamp', parse_dates=True)"
   ]
  },
  {
   "cell_type": "code",
   "execution_count": 11,
   "metadata": {},
   "outputs": [
    {
     "data": {
      "text/html": [
       "<div>\n",
       "<style scoped>\n",
       "    .dataframe tbody tr th:only-of-type {\n",
       "        vertical-align: middle;\n",
       "    }\n",
       "\n",
       "    .dataframe tbody tr th {\n",
       "        vertical-align: top;\n",
       "    }\n",
       "\n",
       "    .dataframe thead th {\n",
       "        text-align: right;\n",
       "    }\n",
       "</style>\n",
       "<table border=\"1\" class=\"dataframe\">\n",
       "  <thead>\n",
       "    <tr style=\"text-align: right;\">\n",
       "      <th></th>\n",
       "      <th>station_id</th>\n",
       "      <th>bikes</th>\n",
       "      <th>spaces</th>\n",
       "      <th>total_docks</th>\n",
       "      <th>bike_lag</th>\n",
       "      <th>bike_lag2</th>\n",
       "      <th>bike_lag3</th>\n",
       "      <th>bike_lag4</th>\n",
       "      <th>deposit</th>\n",
       "      <th>hour</th>\n",
       "      <th>day_of_week</th>\n",
       "      <th>month</th>\n",
       "      <th>weekend</th>\n",
       "      <th>bike_pull4</th>\n",
       "    </tr>\n",
       "    <tr>\n",
       "      <th>timestamp</th>\n",
       "      <th></th>\n",
       "      <th></th>\n",
       "      <th></th>\n",
       "      <th></th>\n",
       "      <th></th>\n",
       "      <th></th>\n",
       "      <th></th>\n",
       "      <th></th>\n",
       "      <th></th>\n",
       "      <th></th>\n",
       "      <th></th>\n",
       "      <th></th>\n",
       "      <th></th>\n",
       "      <th></th>\n",
       "    </tr>\n",
       "  </thead>\n",
       "  <tbody>\n",
       "    <tr>\n",
       "      <th>2017-01-06</th>\n",
       "      <td>1</td>\n",
       "      <td>0</td>\n",
       "      <td>31</td>\n",
       "      <td>31</td>\n",
       "      <td>0</td>\n",
       "      <td>0</td>\n",
       "      <td>0</td>\n",
       "      <td>0</td>\n",
       "      <td>0</td>\n",
       "      <td>0</td>\n",
       "      <td>3</td>\n",
       "      <td>6</td>\n",
       "      <td>0</td>\n",
       "      <td>0</td>\n",
       "    </tr>\n",
       "  </tbody>\n",
       "</table>\n",
       "</div>"
      ],
      "text/plain": [
       "            station_id  bikes  spaces  total_docks  bike_lag  bike_lag2  \\\n",
       "timestamp                                                                 \n",
       "2017-01-06           1      0      31           31         0          0   \n",
       "\n",
       "            bike_lag3  bike_lag4  deposit  hour  day_of_week  month  weekend  \\\n",
       "timestamp                                                                      \n",
       "2017-01-06          0          0        0     0            3      6        0   \n",
       "\n",
       "            bike_pull4  \n",
       "timestamp               \n",
       "2017-01-06           0  "
      ]
     },
     "execution_count": 11,
     "metadata": {},
     "output_type": "execute_result"
    }
   ],
   "source": [
    "pred_X_test.head(1)"
   ]
  },
  {
   "cell_type": "code",
   "execution_count": 12,
   "metadata": {},
   "outputs": [],
   "source": [
    "pred_y_test = pred_X_test['bike_pull4']"
   ]
  },
  {
   "cell_type": "code",
   "execution_count": 13,
   "metadata": {},
   "outputs": [],
   "source": [
    "pred_X_test = pred_X_test.drop('bike_pull4', axis=1)"
   ]
  },
  {
   "cell_type": "code",
   "execution_count": 14,
   "metadata": {},
   "outputs": [],
   "source": [
    "pres1= loaded_model.predict(pred_X_test)\n"
   ]
  },
  {
   "cell_type": "code",
   "execution_count": 1,
   "metadata": {},
   "outputs": [
    {
     "ename": "SyntaxError",
     "evalue": "unexpected EOF while parsing (<ipython-input-1-48432c68e026>, line 2)",
     "output_type": "error",
     "traceback": [
      "\u001b[0;36m  File \u001b[0;32m\"<ipython-input-1-48432c68e026>\"\u001b[0;36m, line \u001b[0;32m2\u001b[0m\n\u001b[0;31m    #    print(int(c))\u001b[0m\n\u001b[0m                      ^\u001b[0m\n\u001b[0;31mSyntaxError\u001b[0m\u001b[0;31m:\u001b[0m unexpected EOF while parsing\n"
     ]
    }
   ],
   "source": [
    "for c in pres1:\n",
    "#    print(int(c))"
   ]
  },
  {
   "cell_type": "code",
   "execution_count": 16,
   "metadata": {},
   "outputs": [],
   "source": [
    "model_pickle2 = 'joblib_model_pull3.pkl'"
   ]
  },
  {
   "cell_type": "code",
   "execution_count": null,
   "metadata": {},
   "outputs": [],
   "source": [
    "loaded_model2 = joblib.load(model_pickle2) \n",
    "IPython.display.Audio(\"Nick Cave and the Bad Seeds - We No Who U R.mp3\", autoplay=True)"
   ]
  },
  {
   "cell_type": "code",
   "execution_count": 1,
   "metadata": {},
   "outputs": [
    {
     "ename": "NameError",
     "evalue": "name 'df' is not defined",
     "output_type": "error",
     "traceback": [
      "\u001b[0;31m---------------------------------------------------------------------------\u001b[0m",
      "\u001b[0;31mNameError\u001b[0m                                 Traceback (most recent call last)",
      "\u001b[0;32m<ipython-input-1-00cf07b74dcd>\u001b[0m in \u001b[0;36m<module>\u001b[0;34m()\u001b[0m\n\u001b[0;32m----> 1\u001b[0;31m \u001b[0mdf\u001b[0m\u001b[0;34m\u001b[0m\u001b[0m\n\u001b[0m",
      "\u001b[0;31mNameError\u001b[0m: name 'df' is not defined"
     ]
    }
   ],
   "source": []
  },
  {
   "cell_type": "code",
   "execution_count": 17,
   "metadata": {},
   "outputs": [
    {
     "name": "stdout",
     "output_type": "stream",
     "text": [
      "shell-init: error retrieving current directory: getcwd: cannot access parent directories: No such file or directory\r\n",
      "ls: .: No such file or directory\r\n"
     ]
    }
   ],
   "source": [
    "ls"
   ]
  },
  {
   "cell_type": "code",
   "execution_count": null,
   "metadata": {},
   "outputs": [],
   "source": []
  }
 ],
 "metadata": {
  "kernelspec": {
   "display_name": "Python 3",
   "language": "python",
   "name": "python3"
  },
  "language_info": {
   "codemirror_mode": {
    "name": "ipython",
    "version": 3
   },
   "file_extension": ".py",
   "mimetype": "text/x-python",
   "name": "python",
   "nbconvert_exporter": "python",
   "pygments_lexer": "ipython3",
   "version": "3.6.4"
  }
 },
 "nbformat": 4,
 "nbformat_minor": 2
}
